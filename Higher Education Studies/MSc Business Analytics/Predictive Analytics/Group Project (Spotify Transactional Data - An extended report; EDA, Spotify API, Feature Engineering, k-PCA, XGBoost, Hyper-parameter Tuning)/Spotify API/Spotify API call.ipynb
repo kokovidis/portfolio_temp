{
 "cells": [
  {
   "cell_type": "markdown",
   "metadata": {},
   "source": [
    "# Attributes from Spotify API"
   ]
  },
  {
   "cell_type": "code",
   "execution_count": 1,
   "metadata": {},
   "outputs": [],
   "source": [
    "from spotipy.oauth2 import SpotifyClientCredentials #To access authorised Spotify data\n",
    "from tqdm import tqdm_notebook\n",
    "import spotipy\n",
    "from spotipy.oauth2 import SpotifyClientCredentials"
   ]
  },
  {
   "cell_type": "code",
   "execution_count": 2,
   "metadata": {},
   "outputs": [],
   "source": [
    "client_id =\"384848d5815749399f273fa1d0411111\"\n",
    "client_secret = \"a1b11b7f4c5e493c81c4ab14a8814b02\"\n",
    "client_credentials_manager = SpotifyClientCredentials(client_id=client_id, client_secret=client_secret)\n",
    "sp = spotipy.Spotify(client_credentials_manager=client_credentials_manager) #spotify object to access API"
   ]
  },
  {
   "cell_type": "code",
   "execution_count": 3,
   "metadata": {},
   "outputs": [],
   "source": [
    "def artist_tracks(artists):\n",
    "    \n",
    "    '''\n",
    "    Takes a list of artist names, iterates through their Spotify albums, checks for \n",
    "    duplicate albums, then appends all the tracks in those albums to a list of lists\n",
    "    '''\n",
    "    \n",
    "    # Each list in this list will be a track and its features\n",
    "    tracks = []\n",
    "    \n",
    "    \n",
    "    \n",
    "    for artist in tqdm_notebook(artists): \n",
    "        # Get the artist URI (a unique ID)\n",
    "        artist_uri = sp.search(artist)['tracks']['items'][0]['artists'][0]['uri']\n",
    "\n",
    "        # Spotify has a lot of duplicate albums, but we'll cross-reference them with this list to avoid extra loops\n",
    "        album_checker = []\n",
    "        \n",
    "        # The starting point of our loop of albums for those artists with more than 50\n",
    "        n = 0\n",
    "        \n",
    "        # Note the album_type = 'album'. This discounts singles, compilations and collaborations\n",
    "        while len(sp.artist_albums(artist_uri, album_type = 'album', limit=50, offset = n)['items']) > 0:\n",
    "            \n",
    "            # Avoid overloading Spotify with requests by assigning the list of album dictionaries to a variable\n",
    "            dict_list = sp.artist_albums(artist_uri, album_type = 'album', limit=50, offset = n)['items']\n",
    "            \n",
    "            for i, album in tqdm_notebook(enumerate(dict_list)):\n",
    "\n",
    "                # Add the featured artists for the album in question to the checklist\n",
    "                check_this_album = [j['name'] for j in dict_list[i]['artists']]\n",
    "                # And the album name\n",
    "                check_this_album.append(dict_list[i]['name'])\n",
    "                # And its date\n",
    "                check_this_album.append(dict_list[i]['release_date'])\n",
    "\n",
    "                # Only continue looping if that album isn't in the checklist\n",
    "                if check_this_album not in album_checker:\n",
    "                    \n",
    "                    # Add this album to the checker\n",
    "                    album_checker.append(check_this_album)\n",
    "                    # For every song on the album, get its descriptors and features in a list and add to the tracklist\n",
    "                    tracks.extend([[artist, album['name'], album['uri'], song['name'],\n",
    "\n",
    "                        album['release_date']] + list(sp.audio_features(song['uri'])[0].values()) \n",
    "                                    for song in sp.album_tracks(album['uri'])['items']])\n",
    "            \n",
    "            # Go through the next 50 albums (otherwise we'll get an infinite while loop)\n",
    "            n += 50\n",
    "    return tracks\n",
    "            \n",
    "\n",
    "  "
   ]
  },
  {
   "cell_type": "code",
   "execution_count": 19,
   "metadata": {},
   "outputs": [],
   "source": [
    "# List of artist in our sample\n",
    "artist=['99 Percent','A Boogie Wit Da Hoodie', 'A R I Z O N A', 'AGWA','ALMA','Adan Carmona', 'Adia Victoria', 'Alessio Bernabei','Alex Hoyer','Alex Roy','Alexander Brown','Alexander Cardinale',\n",
    " 'Alice','Aliose','Alma','Amaro Ferreiro', 'Andy Bros', 'Angel','Angelica Garcia', 'Anna Puu','Annabel Jones','Anteros','Arco','Arsen','Asta','Aubrie Sellers','Axel Tony','Aya Nakamura','Ayosha','BETSY','Bang For The Buck',\n",
    " 'Banks & Steelz','Basic Tape','Benjamin Beats','Benjamin Beilman','Betsy','Bl!ndman','Blair','Blonder','Boom Boom Cash','Brace','Brent Cobb', 'Buslav','Calypso Rose','Chantal Kreviazuk','Chris Holsten','Clap Your Hands Say Yeah', 'Claritzel','Coasts','Code Orange Kids','Coro de Monjes del Monasterio Benedictino de Santo Domingo de Silos',\n",
    " 'Cosculluela', 'Coyote Kisses','Creeper', 'Cuckoolander','Dae Dae','Daniella Mason','David Aaron Carpenter','David Soliz','De La Ghetto','Dear John', 'Delafe', 'Dexys', 'Dirty Dancerz', 'Dominique Blanc-Francard','Dr. Bone', 'ELHAE','Eagle And The Worm',\n",
    " 'Eebz','Elias','Elias Gould', 'Emilie Adams','Emma Smetana','Endor','Enea','Eugeniusz Bodo','FACE','Faarrow','Faustix','Felix Snow','Fever High','Flor', 'Flybear','Foy Vance','Freddy Verano','Full','Gallant','Gemellini','Giovanni James','Grace Risch','Greg Holden','HIZAKI','Havana Maestros','Hugo','Hundred Waters','Icarus','Ida Paul',\n",
    " 'Ilta','In Stereo','Indecent Obsession','Indian Askin','Irama','JCY','JOHS','Jaider White', 'Janji','Jay Style', 'JayAge', 'Jazztronik', 'Jey M', 'Jonathan Roy', 'Josh Kempen', 'Jude Young',\n",
    " 'Jula', 'Julian Ovenden', 'Juni','KAMAU', 'Kani','Kauniit & Uhkarohkeat','Kazumi Watanabe','Kenn Colt','Kenny','Kent Ortiz','Kiefer Sutherland', 'Kita Alexander','Kithara','Klangstof','Klyne','Kody Woah','Kollektiv Turmstrasse','Kyle Watson','L2M','LAYNE','LIL UZI VERT','LOLO','Larry June','Ledinsky','Lido', 'Lili Poe','Lina Maly','Little Rose','Liz Elias','Locnville','Loosid',\n",
    " 'Lorena Ares','Los Chiquitos De Algeciras','Los Tamara','Lucas Colman','MARC','MDS','MORTEN','Maan On The Moon','Mafe','Maga','Maggie Lindemann','Mane de la Parra','Mar','Marc Narrow','Marcapasos',\n",
    " 'Maria Peszek','Maribelle','Mariette','Marius Samuelsen','Mark Rostel','Matt DeFreitas','Matt Maltese','Mayker & Danny','Meghan Patrick','Midnight City','Mikko Harju','Mikko Kuustonen','Millas Mirakel','Miranda Lambert','Monica Geuze','Monn','Monobloco','Morgane Stapleton','Motez',\n",
    " 'Mugisho','My Life As Ali Thomas','Neon Waltz','Nick Deboni','Niia','Nitty Gritty Dirt Band','Norah Benatia','Out Came The Wolves','PRO8L3M','Picture This','Pink Slip','Piso 21','Pitingo','Pizzagang','Powerkryner','Prince & The Revolution','RAT BOY','RIVRS','RaeLynn',\n",
    " 'Rationale','Ravyn Lenae','Raz Simone','RedOne','Residual Kid','Richard Egan','Rituals of Mine','Robin Paulsson','Robyn','Ruben Annink','Rudie Edwards','SRNO','SWEAT', 'Salvatore Ganacci','Sem Thomasson','Seramic','Shado Chris','Shannon Noll','Shinova','ShockOne','Shy Albatross','Singto Numchok','Sjowgren','Smoky','Smolasty','Soniamiki',\n",
    " 'Sophie Pacini','Spectacular Sound Effects','Spencer Ludwig','Steve Earle & The Dukes','Steven Page','Strobe!','Sturgill Simpson','Super Duper','Sweem','THEY.','THOSEBRICKS', 'TRXD','TYuS','Tate Kobang','Ten Tonnes','Teresa Cristina','Terror Jr','The Abrams','The Great Kat','The Head and the Heart','The High',\n",
    " 'The Hunna','The Kite String Tangle','The Last Bandoleros','The Mike Sammes Singers','The Monochrome Set','The Parakit','The Regrettes','The Three Degrees','The War On Drugs','The Weather Girls',\n",
    " 'Thom Sonny Green','Tisu','Toni M. Mir','Topic','Torro Torro','Train','TroyBoi', 'Truls Mork', 'Turnstile','Urbano Prodigy','Utha Likumahuwa',\n",
    " 'VAN HOLZEN', 'VANT', 'VIMIC', 'Venus II','Virgul', 'WEDNESDAY CAMPANELLA', 'We Are Messengers',\n",
    " 'Willy William','Wudstik','Yellow Claw','Young Spray','Zac Brown','Zak & Diego','Zak Abel',\n",
    " 'dvsn','livetune+',\"Cookin' On 3 Burners\"]\n"
   ]
  },
  {
   "cell_type": "code",
   "execution_count": 20,
   "metadata": {
    "scrolled": false
   },
   "outputs": [
    {
     "name": "stderr",
     "output_type": "stream",
     "text": [
      "/opt/anaconda/envs/Python3/lib/python3.6/site-packages/ipykernel/__main__.py:13: TqdmDeprecationWarning: This function will be removed in tqdm==5.0.0\n",
      "Please use `tqdm.notebook.tqdm` instead of `tqdm.tqdm_notebook`\n"
     ]
    },
    {
     "data": {
      "application/vnd.jupyter.widget-view+json": {
       "model_id": "46fe6ac97adf40cb89c2239a4fdc4d49",
       "version_major": 2,
       "version_minor": 0
      },
      "text/plain": [
       "HBox(children=(FloatProgress(value=0.0, max=282.0), HTML(value='')))"
      ]
     },
     "metadata": {},
     "output_type": "display_data"
    },
    {
     "name": "stderr",
     "output_type": "stream",
     "text": [
      "/opt/anaconda/envs/Python3/lib/python3.6/site-packages/ipykernel/__main__.py:29: TqdmDeprecationWarning: This function will be removed in tqdm==5.0.0\n",
      "Please use `tqdm.notebook.tqdm` instead of `tqdm.tqdm_notebook`\n"
     ]
    },
    {
     "data": {
      "application/vnd.jupyter.widget-view+json": {
       "model_id": "5fa41e0b05874849a2fb884ebbd83e9c",
       "version_major": 2,
       "version_minor": 0
      },
      "text/plain": [
       "HBox(children=(FloatProgress(value=1.0, bar_style='info', max=1.0), HTML(value='')))"
      ]
     },
     "metadata": {},
     "output_type": "display_data"
    },
    {
     "name": "stdout",
     "output_type": "stream",
     "text": [
      "retrying after...2secs\n",
      "\n"
     ]
    },
    {
     "data": {
      "application/vnd.jupyter.widget-view+json": {
       "model_id": "b12a78ec04024d518e6f37b55f3a44e1",
       "version_major": 2,
       "version_minor": 0
      },
      "text/plain": [
       "HBox(children=(FloatProgress(value=1.0, bar_style='info', max=1.0), HTML(value='')))"
      ]
     },
     "metadata": {},
     "output_type": "display_data"
    },
    {
     "name": "stdout",
     "output_type": "stream",
     "text": [
      "retrying after...7secs\n",
      "\n"
     ]
    },
    {
     "data": {
      "application/vnd.jupyter.widget-view+json": {
       "model_id": "4535637c12134e2f8f04f5bcdb857dd2",
       "version_major": 2,
       "version_minor": 0
      },
      "text/plain": [
       "HBox(children=(FloatProgress(value=1.0, bar_style='info', max=1.0), HTML(value='')))"
      ]
     },
     "metadata": {},
     "output_type": "display_data"
    },
    {
     "name": "stdout",
     "output_type": "stream",
     "text": [
      "\n"
     ]
    },
    {
     "data": {
      "application/vnd.jupyter.widget-view+json": {
       "model_id": "e32171127b324bd7bf0a666aba48b04c",
       "version_major": 2,
       "version_minor": 0
      },
      "text/plain": [
       "HBox(children=(FloatProgress(value=1.0, bar_style='info', max=1.0), HTML(value='')))"
      ]
     },
     "metadata": {},
     "output_type": "display_data"
    },
    {
     "name": "stdout",
     "output_type": "stream",
     "text": [
      "retrying after...6secs\n",
      "\n"
     ]
    },
    {
     "data": {
      "application/vnd.jupyter.widget-view+json": {
       "model_id": "2a750ec366f44916918c387806f05f28",
       "version_major": 2,
       "version_minor": 0
      },
      "text/plain": [
       "HBox(children=(FloatProgress(value=1.0, bar_style='info', max=1.0), HTML(value='')))"
      ]
     },
     "metadata": {},
     "output_type": "display_data"
    },
    {
     "name": "stdout",
     "output_type": "stream",
     "text": [
      "retrying after...4secs\n",
      "retrying after...7secs\n",
      "retrying after...4secs\n",
      "retrying after...6secs\n",
      "retrying after...6secs\n",
      "\n"
     ]
    },
    {
     "data": {
      "application/vnd.jupyter.widget-view+json": {
       "model_id": "481a7ace0a3c4bb69a13c245519a35fd",
       "version_major": 2,
       "version_minor": 0
      },
      "text/plain": [
       "HBox(children=(FloatProgress(value=1.0, bar_style='info', max=1.0), HTML(value='')))"
      ]
     },
     "metadata": {},
     "output_type": "display_data"
    },
    {
     "name": "stdout",
     "output_type": "stream",
     "text": [
      "retrying after...4secs\n",
      "retrying after...5secs\n",
      "\n"
     ]
    },
    {
     "data": {
      "application/vnd.jupyter.widget-view+json": {
       "model_id": "3fcebccac91c41fd9a42442149d9be04",
       "version_major": 2,
       "version_minor": 0
      },
      "text/plain": [
       "HBox(children=(FloatProgress(value=1.0, bar_style='info', max=1.0), HTML(value='')))"
      ]
     },
     "metadata": {},
     "output_type": "display_data"
    },
    {
     "name": "stdout",
     "output_type": "stream",
     "text": [
      "\n"
     ]
    },
    {
     "data": {
      "application/vnd.jupyter.widget-view+json": {
       "model_id": "3f8ff43606f24a7a93d19b01eb0f70f6",
       "version_major": 2,
       "version_minor": 0
      },
      "text/plain": [
       "HBox(children=(FloatProgress(value=1.0, bar_style='info', max=1.0), HTML(value='')))"
      ]
     },
     "metadata": {},
     "output_type": "display_data"
    },
    {
     "name": "stdout",
     "output_type": "stream",
     "text": [
      "\n"
     ]
    },
    {
     "data": {
      "application/vnd.jupyter.widget-view+json": {
       "model_id": "3564d3c44c924bda9c380bbfc5ad8b88",
       "version_major": 2,
       "version_minor": 0
      },
      "text/plain": [
       "HBox(children=(FloatProgress(value=1.0, bar_style='info', max=1.0), HTML(value='')))"
      ]
     },
     "metadata": {},
     "output_type": "display_data"
    },
    {
     "name": "stdout",
     "output_type": "stream",
     "text": [
      "\n"
     ]
    },
    {
     "data": {
      "application/vnd.jupyter.widget-view+json": {
       "model_id": "0f348368530b425ea1330571c020c259",
       "version_major": 2,
       "version_minor": 0
      },
      "text/plain": [
       "HBox(children=(FloatProgress(value=1.0, bar_style='info', max=1.0), HTML(value='')))"
      ]
     },
     "metadata": {},
     "output_type": "display_data"
    },
    {
     "name": "stdout",
     "output_type": "stream",
     "text": [
      "\n"
     ]
    },
    {
     "data": {
      "application/vnd.jupyter.widget-view+json": {
       "model_id": "fe5df59464fd4c22ad669967ebb235aa",
       "version_major": 2,
       "version_minor": 0
      },
      "text/plain": [
       "HBox(children=(FloatProgress(value=1.0, bar_style='info', max=1.0), HTML(value='')))"
      ]
     },
     "metadata": {},
     "output_type": "display_data"
    },
    {
     "name": "stdout",
     "output_type": "stream",
     "text": [
      "retrying after...6secs\n",
      "\n"
     ]
    },
    {
     "data": {
      "application/vnd.jupyter.widget-view+json": {
       "model_id": "ac8c71632cb54e7fbca0f0d1fffb9dc0",
       "version_major": 2,
       "version_minor": 0
      },
      "text/plain": [
       "HBox(children=(FloatProgress(value=1.0, bar_style='info', max=1.0), HTML(value='')))"
      ]
     },
     "metadata": {},
     "output_type": "display_data"
    },
    {
     "name": "stdout",
     "output_type": "stream",
     "text": [
      "retrying after...4secs\n",
      "\n"
     ]
    },
    {
     "data": {
      "application/vnd.jupyter.widget-view+json": {
       "model_id": "80ddcb8e9c90472baf0a31c518befc0f",
       "version_major": 2,
       "version_minor": 0
      },
      "text/plain": [
       "HBox(children=(FloatProgress(value=1.0, bar_style='info', max=1.0), HTML(value='')))"
      ]
     },
     "metadata": {},
     "output_type": "display_data"
    },
    {
     "name": "stdout",
     "output_type": "stream",
     "text": [
      "retrying after...7secs\n",
      "retrying after...6secs\n",
      "\n"
     ]
    },
    {
     "data": {
      "application/vnd.jupyter.widget-view+json": {
       "model_id": "87e306db85a54bd6928c8b093f44f992",
       "version_major": 2,
       "version_minor": 0
      },
      "text/plain": [
       "HBox(children=(FloatProgress(value=1.0, bar_style='info', max=1.0), HTML(value='')))"
      ]
     },
     "metadata": {},
     "output_type": "display_data"
    },
    {
     "name": "stdout",
     "output_type": "stream",
     "text": [
      "retrying after...7secs\n",
      "retrying after...6secs\n",
      "retrying after...6secs\n",
      "retrying after...6secs\n",
      "retrying after...6secs\n",
      "retrying after...7secs\n",
      "retrying after...6secs\n",
      "\n"
     ]
    },
    {
     "data": {
      "application/vnd.jupyter.widget-view+json": {
       "model_id": "1bd3fba49a7c4f8e879095ec2e3b2784",
       "version_major": 2,
       "version_minor": 0
      },
      "text/plain": [
       "HBox(children=(FloatProgress(value=1.0, bar_style='info', max=1.0), HTML(value='')))"
      ]
     },
     "metadata": {},
     "output_type": "display_data"
    },
    {
     "name": "stdout",
     "output_type": "stream",
     "text": [
      "retrying after...5secs\n",
      "\n"
     ]
    },
    {
     "data": {
      "application/vnd.jupyter.widget-view+json": {
       "model_id": "9d8967f1a93f4fd5a3ff3ccb9cfce9b7",
       "version_major": 2,
       "version_minor": 0
      },
      "text/plain": [
       "HBox(children=(FloatProgress(value=1.0, bar_style='info', max=1.0), HTML(value='')))"
      ]
     },
     "metadata": {},
     "output_type": "display_data"
    },
    {
     "name": "stdout",
     "output_type": "stream",
     "text": [
      "\n"
     ]
    },
    {
     "data": {
      "application/vnd.jupyter.widget-view+json": {
       "model_id": "36ec1a3fbffd44c49411279ffd86a9a8",
       "version_major": 2,
       "version_minor": 0
      },
      "text/plain": [
       "HBox(children=(FloatProgress(value=1.0, bar_style='info', max=1.0), HTML(value='')))"
      ]
     },
     "metadata": {},
     "output_type": "display_data"
    },
    {
     "name": "stdout",
     "output_type": "stream",
     "text": [
      "retrying after...4secs\n",
      "\n"
     ]
    },
    {
     "data": {
      "application/vnd.jupyter.widget-view+json": {
       "model_id": "d624e055cd664e7c9753af21a7f47cb8",
       "version_major": 2,
       "version_minor": 0
      },
      "text/plain": [
       "HBox(children=(FloatProgress(value=1.0, bar_style='info', max=1.0), HTML(value='')))"
      ]
     },
     "metadata": {},
     "output_type": "display_data"
    },
    {
     "name": "stdout",
     "output_type": "stream",
     "text": [
      "retrying after...6secs\n",
      "retrying after...6secs\n",
      "retrying after...7secs\n",
      "\n"
     ]
    },
    {
     "data": {
      "application/vnd.jupyter.widget-view+json": {
       "model_id": "e9ebd535ea2a4285b5b486dac66e07da",
       "version_major": 2,
       "version_minor": 0
      },
      "text/plain": [
       "HBox(children=(FloatProgress(value=1.0, bar_style='info', max=1.0), HTML(value='')))"
      ]
     },
     "metadata": {},
     "output_type": "display_data"
    },
    {
     "name": "stdout",
     "output_type": "stream",
     "text": [
      "\n"
     ]
    },
    {
     "data": {
      "application/vnd.jupyter.widget-view+json": {
       "model_id": "5ba70d687b7748c6a82f784bedb58183",
       "version_major": 2,
       "version_minor": 0
      },
      "text/plain": [
       "HBox(children=(FloatProgress(value=1.0, bar_style='info', max=1.0), HTML(value='')))"
      ]
     },
     "metadata": {},
     "output_type": "display_data"
    },
    {
     "name": "stdout",
     "output_type": "stream",
     "text": [
      "\n"
     ]
    },
    {
     "data": {
      "application/vnd.jupyter.widget-view+json": {
       "model_id": "1be50132f2e44a9cb87873cc756dacf4",
       "version_major": 2,
       "version_minor": 0
      },
      "text/plain": [
       "HBox(children=(FloatProgress(value=1.0, bar_style='info', max=1.0), HTML(value='')))"
      ]
     },
     "metadata": {},
     "output_type": "display_data"
    },
    {
     "name": "stdout",
     "output_type": "stream",
     "text": [
      "\n"
     ]
    },
    {
     "data": {
      "application/vnd.jupyter.widget-view+json": {
       "model_id": "a16eeb9ddf564858931fa920526a3ef7",
       "version_major": 2,
       "version_minor": 0
      },
      "text/plain": [
       "HBox(children=(FloatProgress(value=1.0, bar_style='info', max=1.0), HTML(value='')))"
      ]
     },
     "metadata": {},
     "output_type": "display_data"
    },
    {
     "name": "stdout",
     "output_type": "stream",
     "text": [
      "retrying after...4secs\n",
      "retrying after...7secs\n",
      "\n"
     ]
    },
    {
     "data": {
      "application/vnd.jupyter.widget-view+json": {
       "model_id": "2770cb505f3e4ae2950a8376077e79f9",
       "version_major": 2,
       "version_minor": 0
      },
      "text/plain": [
       "HBox(children=(FloatProgress(value=1.0, bar_style='info', max=1.0), HTML(value='')))"
      ]
     },
     "metadata": {},
     "output_type": "display_data"
    },
    {
     "name": "stdout",
     "output_type": "stream",
     "text": [
      "\n"
     ]
    },
    {
     "data": {
      "application/vnd.jupyter.widget-view+json": {
       "model_id": "704b55f789d94815b27c8ff4003468ad",
       "version_major": 2,
       "version_minor": 0
      },
      "text/plain": [
       "HBox(children=(FloatProgress(value=1.0, bar_style='info', max=1.0), HTML(value='')))"
      ]
     },
     "metadata": {},
     "output_type": "display_data"
    },
    {
     "name": "stdout",
     "output_type": "stream",
     "text": [
      "retrying after...6secs\n",
      "retrying after...6secs\n",
      "\n"
     ]
    },
    {
     "data": {
      "application/vnd.jupyter.widget-view+json": {
       "model_id": "1477f252b2234af68913aef8181d2daf",
       "version_major": 2,
       "version_minor": 0
      },
      "text/plain": [
       "HBox(children=(FloatProgress(value=1.0, bar_style='info', max=1.0), HTML(value='')))"
      ]
     },
     "metadata": {},
     "output_type": "display_data"
    },
    {
     "name": "stdout",
     "output_type": "stream",
     "text": [
      "\n"
     ]
    },
    {
     "data": {
      "application/vnd.jupyter.widget-view+json": {
       "model_id": "633cdfc72bed47cd8f0e567d334e8db6",
       "version_major": 2,
       "version_minor": 0
      },
      "text/plain": [
       "HBox(children=(FloatProgress(value=1.0, bar_style='info', max=1.0), HTML(value='')))"
      ]
     },
     "metadata": {},
     "output_type": "display_data"
    },
    {
     "name": "stdout",
     "output_type": "stream",
     "text": [
      "\n",
      "retrying after...6secs\n"
     ]
    },
    {
     "data": {
      "application/vnd.jupyter.widget-view+json": {
       "model_id": "f8d2fd67a0e949cc8e9a803dec19a554",
       "version_major": 2,
       "version_minor": 0
      },
      "text/plain": [
       "HBox(children=(FloatProgress(value=1.0, bar_style='info', max=1.0), HTML(value='')))"
      ]
     },
     "metadata": {},
     "output_type": "display_data"
    },
    {
     "name": "stdout",
     "output_type": "stream",
     "text": [
      "\n"
     ]
    },
    {
     "data": {
      "application/vnd.jupyter.widget-view+json": {
       "model_id": "a77ed55c604e4b4fbd6841979912e5a0",
       "version_major": 2,
       "version_minor": 0
      },
      "text/plain": [
       "HBox(children=(FloatProgress(value=1.0, bar_style='info', max=1.0), HTML(value='')))"
      ]
     },
     "metadata": {},
     "output_type": "display_data"
    },
    {
     "name": "stdout",
     "output_type": "stream",
     "text": [
      "retrying after...6secs\n",
      "retrying after...5secs\n",
      "\n"
     ]
    },
    {
     "data": {
      "application/vnd.jupyter.widget-view+json": {
       "model_id": "9de26218666f4e678439ae8a53c3604a",
       "version_major": 2,
       "version_minor": 0
      },
      "text/plain": [
       "HBox(children=(FloatProgress(value=1.0, bar_style='info', max=1.0), HTML(value='')))"
      ]
     },
     "metadata": {},
     "output_type": "display_data"
    },
    {
     "name": "stdout",
     "output_type": "stream",
     "text": [
      "\n"
     ]
    },
    {
     "data": {
      "application/vnd.jupyter.widget-view+json": {
       "model_id": "4156f5d3aca147a3bca56b574387b1c4",
       "version_major": 2,
       "version_minor": 0
      },
      "text/plain": [
       "HBox(children=(FloatProgress(value=1.0, bar_style='info', max=1.0), HTML(value='')))"
      ]
     },
     "metadata": {},
     "output_type": "display_data"
    },
    {
     "name": "stdout",
     "output_type": "stream",
     "text": [
      "retrying after...5secs\n",
      "retrying after...6secs\n",
      "\n"
     ]
    },
    {
     "data": {
      "application/vnd.jupyter.widget-view+json": {
       "model_id": "6d3a7ddfe1ef4a419e368eb0cf75660e",
       "version_major": 2,
       "version_minor": 0
      },
      "text/plain": [
       "HBox(children=(FloatProgress(value=1.0, bar_style='info', max=1.0), HTML(value='')))"
      ]
     },
     "metadata": {},
     "output_type": "display_data"
    },
    {
     "name": "stdout",
     "output_type": "stream",
     "text": [
      "\n"
     ]
    },
    {
     "data": {
      "application/vnd.jupyter.widget-view+json": {
       "model_id": "9816d88b05aa4624afbad0025bee4348",
       "version_major": 2,
       "version_minor": 0
      },
      "text/plain": [
       "HBox(children=(FloatProgress(value=1.0, bar_style='info', max=1.0), HTML(value='')))"
      ]
     },
     "metadata": {},
     "output_type": "display_data"
    },
    {
     "name": "stdout",
     "output_type": "stream",
     "text": [
      "\n"
     ]
    },
    {
     "data": {
      "application/vnd.jupyter.widget-view+json": {
       "model_id": "bb052a3309c845fab958e4c67a643e5a",
       "version_major": 2,
       "version_minor": 0
      },
      "text/plain": [
       "HBox(children=(FloatProgress(value=1.0, bar_style='info', max=1.0), HTML(value='')))"
      ]
     },
     "metadata": {},
     "output_type": "display_data"
    },
    {
     "name": "stdout",
     "output_type": "stream",
     "text": [
      "retrying after...5secs\n",
      "retrying after...5secs\n",
      "retrying after...6secs\n",
      "retrying after...6secs\n",
      "retrying after...6secs\n",
      "retrying after...6secs\n",
      "retrying after...5secs\n",
      "\n"
     ]
    },
    {
     "data": {
      "application/vnd.jupyter.widget-view+json": {
       "model_id": "9616f983951046279ecaf262ceeae830",
       "version_major": 2,
       "version_minor": 0
      },
      "text/plain": [
       "HBox(children=(FloatProgress(value=1.0, bar_style='info', max=1.0), HTML(value='')))"
      ]
     },
     "metadata": {},
     "output_type": "display_data"
    },
    {
     "name": "stdout",
     "output_type": "stream",
     "text": [
      "retrying after...4secs\n",
      "retrying after...6secs\n",
      "\n"
     ]
    },
    {
     "data": {
      "application/vnd.jupyter.widget-view+json": {
       "model_id": "54eb671269584696954c589c7d27d891",
       "version_major": 2,
       "version_minor": 0
      },
      "text/plain": [
       "HBox(children=(FloatProgress(value=1.0, bar_style='info', max=1.0), HTML(value='')))"
      ]
     },
     "metadata": {},
     "output_type": "display_data"
    },
    {
     "name": "stdout",
     "output_type": "stream",
     "text": [
      "\n",
      "retrying after...7secs\n"
     ]
    },
    {
     "data": {
      "application/vnd.jupyter.widget-view+json": {
       "model_id": "8c016e2f109b4e6380fe9fa4fe6c3804",
       "version_major": 2,
       "version_minor": 0
      },
      "text/plain": [
       "HBox(children=(FloatProgress(value=1.0, bar_style='info', max=1.0), HTML(value='')))"
      ]
     },
     "metadata": {},
     "output_type": "display_data"
    },
    {
     "name": "stdout",
     "output_type": "stream",
     "text": [
      "\n"
     ]
    },
    {
     "data": {
      "application/vnd.jupyter.widget-view+json": {
       "model_id": "2c95d4c219a345cfb96d1f74b3c082be",
       "version_major": 2,
       "version_minor": 0
      },
      "text/plain": [
       "HBox(children=(FloatProgress(value=1.0, bar_style='info', max=1.0), HTML(value='')))"
      ]
     },
     "metadata": {},
     "output_type": "display_data"
    },
    {
     "name": "stdout",
     "output_type": "stream",
     "text": [
      "\n"
     ]
    },
    {
     "data": {
      "application/vnd.jupyter.widget-view+json": {
       "model_id": "82a890d1f67341e4863c637093b24899",
       "version_major": 2,
       "version_minor": 0
      },
      "text/plain": [
       "HBox(children=(FloatProgress(value=1.0, bar_style='info', max=1.0), HTML(value='')))"
      ]
     },
     "metadata": {},
     "output_type": "display_data"
    },
    {
     "name": "stdout",
     "output_type": "stream",
     "text": [
      "\n"
     ]
    },
    {
     "data": {
      "application/vnd.jupyter.widget-view+json": {
       "model_id": "ee0148872bce4e02a8729665835b414b",
       "version_major": 2,
       "version_minor": 0
      },
      "text/plain": [
       "HBox(children=(FloatProgress(value=1.0, bar_style='info', max=1.0), HTML(value='')))"
      ]
     },
     "metadata": {},
     "output_type": "display_data"
    },
    {
     "name": "stdout",
     "output_type": "stream",
     "text": [
      "retrying after...6secs\n",
      "\n"
     ]
    },
    {
     "data": {
      "application/vnd.jupyter.widget-view+json": {
       "model_id": "a9ca5d9db17144559f73eb69c51768ba",
       "version_major": 2,
       "version_minor": 0
      },
      "text/plain": [
       "HBox(children=(FloatProgress(value=1.0, bar_style='info', max=1.0), HTML(value='')))"
      ]
     },
     "metadata": {},
     "output_type": "display_data"
    },
    {
     "name": "stdout",
     "output_type": "stream",
     "text": [
      "\n"
     ]
    },
    {
     "data": {
      "application/vnd.jupyter.widget-view+json": {
       "model_id": "3a8616740e3249ccb8d42d26cac43801",
       "version_major": 2,
       "version_minor": 0
      },
      "text/plain": [
       "HBox(children=(FloatProgress(value=1.0, bar_style='info', max=1.0), HTML(value='')))"
      ]
     },
     "metadata": {},
     "output_type": "display_data"
    },
    {
     "name": "stdout",
     "output_type": "stream",
     "text": [
      "retrying after...6secs\n",
      "\n"
     ]
    },
    {
     "data": {
      "application/vnd.jupyter.widget-view+json": {
       "model_id": "7612bf2c170a405d8d2272df3bd38be7",
       "version_major": 2,
       "version_minor": 0
      },
      "text/plain": [
       "HBox(children=(FloatProgress(value=1.0, bar_style='info', max=1.0), HTML(value='')))"
      ]
     },
     "metadata": {},
     "output_type": "display_data"
    },
    {
     "name": "stdout",
     "output_type": "stream",
     "text": [
      "retrying after...5secs\n",
      "\n"
     ]
    },
    {
     "data": {
      "application/vnd.jupyter.widget-view+json": {
       "model_id": "28b5a33622a345629fd4543ca246cb61",
       "version_major": 2,
       "version_minor": 0
      },
      "text/plain": [
       "HBox(children=(FloatProgress(value=1.0, bar_style='info', max=1.0), HTML(value='')))"
      ]
     },
     "metadata": {},
     "output_type": "display_data"
    },
    {
     "name": "stdout",
     "output_type": "stream",
     "text": [
      "retrying after...6secs\n",
      "retrying after...6secs\n",
      "\n"
     ]
    },
    {
     "data": {
      "application/vnd.jupyter.widget-view+json": {
       "model_id": "b84de9fc86da4319b76f0657e0304f48",
       "version_major": 2,
       "version_minor": 0
      },
      "text/plain": [
       "HBox(children=(FloatProgress(value=1.0, bar_style='info', max=1.0), HTML(value='')))"
      ]
     },
     "metadata": {},
     "output_type": "display_data"
    },
    {
     "name": "stdout",
     "output_type": "stream",
     "text": [
      "retrying after...5secs\n",
      "\n"
     ]
    },
    {
     "data": {
      "application/vnd.jupyter.widget-view+json": {
       "model_id": "dcebdf021b5d4584b46211ad0a6f7978",
       "version_major": 2,
       "version_minor": 0
      },
      "text/plain": [
       "HBox(children=(FloatProgress(value=1.0, bar_style='info', max=1.0), HTML(value='')))"
      ]
     },
     "metadata": {},
     "output_type": "display_data"
    },
    {
     "name": "stdout",
     "output_type": "stream",
     "text": [
      "\n"
     ]
    },
    {
     "data": {
      "application/vnd.jupyter.widget-view+json": {
       "model_id": "bc93da88c3114f0a8be6045bd7826d25",
       "version_major": 2,
       "version_minor": 0
      },
      "text/plain": [
       "HBox(children=(FloatProgress(value=1.0, bar_style='info', max=1.0), HTML(value='')))"
      ]
     },
     "metadata": {},
     "output_type": "display_data"
    },
    {
     "name": "stdout",
     "output_type": "stream",
     "text": [
      "\n"
     ]
    },
    {
     "ename": "IndexError",
     "evalue": "list index out of range",
     "output_type": "error",
     "traceback": [
      "\u001b[0;31m---------------------------------------------------------------------------\u001b[0m",
      "\u001b[0;31mIndexError\u001b[0m                                Traceback (most recent call last)",
      "\u001b[0;32m<ipython-input-20-a901566e875f>\u001b[0m in \u001b[0;36m<module>\u001b[0;34m\u001b[0m\n\u001b[0;32m----> 1\u001b[0;31m \u001b[0mtracklist\u001b[0m\u001b[0;34m=\u001b[0m\u001b[0martist_tracks\u001b[0m\u001b[0;34m(\u001b[0m\u001b[0martist\u001b[0m\u001b[0;34m)\u001b[0m\u001b[0;34m\u001b[0m\u001b[0;34m\u001b[0m\u001b[0m\n\u001b[0m",
      "\u001b[0;32m<ipython-input-16-408796a2c273>\u001b[0m in \u001b[0;36martist_tracks\u001b[0;34m(artists)\u001b[0m\n\u001b[1;32m     13\u001b[0m     \u001b[0;32mfor\u001b[0m \u001b[0martist\u001b[0m \u001b[0;32min\u001b[0m \u001b[0mtqdm_notebook\u001b[0m\u001b[0;34m(\u001b[0m\u001b[0martists\u001b[0m\u001b[0;34m)\u001b[0m\u001b[0;34m:\u001b[0m\u001b[0;34m\u001b[0m\u001b[0;34m\u001b[0m\u001b[0m\n\u001b[1;32m     14\u001b[0m         \u001b[0;31m# Get the artist URI (a unique ID)\u001b[0m\u001b[0;34m\u001b[0m\u001b[0;34m\u001b[0m\u001b[0;34m\u001b[0m\u001b[0m\n\u001b[0;32m---> 15\u001b[0;31m         \u001b[0martist_uri\u001b[0m \u001b[0;34m=\u001b[0m \u001b[0msp\u001b[0m\u001b[0;34m.\u001b[0m\u001b[0msearch\u001b[0m\u001b[0;34m(\u001b[0m\u001b[0martist\u001b[0m\u001b[0;34m)\u001b[0m\u001b[0;34m[\u001b[0m\u001b[0;34m'tracks'\u001b[0m\u001b[0;34m]\u001b[0m\u001b[0;34m[\u001b[0m\u001b[0;34m'items'\u001b[0m\u001b[0;34m]\u001b[0m\u001b[0;34m[\u001b[0m\u001b[0;36m0\u001b[0m\u001b[0;34m]\u001b[0m\u001b[0;34m[\u001b[0m\u001b[0;34m'artists'\u001b[0m\u001b[0;34m]\u001b[0m\u001b[0;34m[\u001b[0m\u001b[0;36m0\u001b[0m\u001b[0;34m]\u001b[0m\u001b[0;34m[\u001b[0m\u001b[0;34m'uri'\u001b[0m\u001b[0;34m]\u001b[0m\u001b[0;34m\u001b[0m\u001b[0;34m\u001b[0m\u001b[0m\n\u001b[0m\u001b[1;32m     16\u001b[0m \u001b[0;34m\u001b[0m\u001b[0m\n\u001b[1;32m     17\u001b[0m         \u001b[0;31m# Spotify has a lot of duplicate albums, but we'll cross-reference them with this list to avoid extra loops\u001b[0m\u001b[0;34m\u001b[0m\u001b[0;34m\u001b[0m\u001b[0;34m\u001b[0m\u001b[0m\n",
      "\u001b[0;31mIndexError\u001b[0m: list index out of range"
     ]
    }
   ],
   "source": [
    "# Save the output of the finction to \"tracklist\"\n",
    "tracklist=artist_tracks(artist)"
   ]
  },
  {
   "cell_type": "code",
   "execution_count": 11,
   "metadata": {},
   "outputs": [],
   "source": [
    "# Conver \"tracklist\" (the list of listst) into a DataFrame\n",
    "import pandas as pd\n",
    "import spotipy\n",
    "from spotipy.oauth2 import SpotifyClientCredentials\n",
    "\n",
    "client_id =\"384848d5815749399f273fa1d0411111\"\n",
    "client_secret = \"a1b11b7f4c5e493c81c4ab14a8814b02\"\n",
    "client_credentials_manager = SpotifyClientCredentials(client_id=client_id, client_secret=client_secret)\n",
    "sp = spotipy.Spotify(client_credentials_manager=client_credentials_manager) #spotify object to access API\n",
    "\n",
    "def df_tracks(tracklist):\n",
    "    \n",
    "    '''\n",
    "    Takes the output of artist_tracks (i.e. a list of lists),\n",
    "    puts it in a dataframe and formats it.\n",
    "    '''\n",
    "\n",
    "    df = pd.DataFrame(tracklist, columns=['artist',\n",
    "     'album_name',\n",
    "     'album_uri',\n",
    "     'track',\n",
    "     'release_date'] + list(sp.audio_features('7tr2za8SQg2CI8EDgrdtNl')[0].keys()))\n",
    "\n",
    "    df.rename(columns={'uri':'song_uri'}, inplace=True)\n",
    "\n",
    "    df.drop_duplicates(subset=['artist', 'track', 'release_date'], inplace=True)\n",
    "\n",
    "    # Reorder the cols to have identifiers first, auditory features last\n",
    "    cols = ['artist', 'album_name', 'album_uri', 'track', 'release_date', 'id', 'song_uri', 'track_href',\n",
    "     'analysis_url', 'type', 'danceability', 'energy', 'key',  'loudness', 'mode', 'speechiness',\n",
    "     'acousticness', 'instrumentalness', 'liveness', 'valence', 'tempo', 'duration_ms', 'time_signature']\n",
    "\n",
    "    df = df[cols]\n",
    "    \n",
    "    return df"
   ]
  },
  {
   "cell_type": "code",
   "execution_count": 8,
   "metadata": {},
   "outputs": [],
   "source": [
    "# save the output as a dataframe and export\n",
    "df_1=df_tracks(tracklist)\n",
    "df_1.to_csv(\"artist_track_features.csv\")"
   ]
  },
  {
   "cell_type": "code",
   "execution_count": 15,
   "metadata": {},
   "outputs": [],
   "source": [
    "\"\"\"The code will iterate only through the artist that have an album and pass on the artist\n",
    "that do not have an album. 60 Artist in our data set do not have an album. We have to iterate\n",
    "through those artist. We need to change the album type argument to {albym type=\"single\"}.\n",
    "and repeat the function\"\"\"\n",
    "\n",
    "# Artist that are included\n",
    "artist_included=df_1.artist.unique()\n",
    "# Artist that are not included\n",
    "artist_not_included=list(set(artist) - set(artist_included))"
   ]
  },
  {
   "cell_type": "code",
   "execution_count": 26,
   "metadata": {
    "scrolled": false
   },
   "outputs": [
    {
     "name": "stderr",
     "output_type": "stream",
     "text": [
      "/opt/anaconda/envs/Python3/lib/python3.6/site-packages/ipykernel/__main__.py:13: TqdmDeprecationWarning: This function will be removed in tqdm==5.0.0\n",
      "Please use `tqdm.notebook.tqdm` instead of `tqdm.tqdm_notebook`\n"
     ]
    },
    {
     "data": {
      "application/vnd.jupyter.widget-view+json": {
       "model_id": "434a04779ae74fa691980b80134070b3",
       "version_major": 2,
       "version_minor": 0
      },
      "text/plain": [
       "HBox(children=(FloatProgress(value=0.0, max=60.0), HTML(value='')))"
      ]
     },
     "metadata": {},
     "output_type": "display_data"
    },
    {
     "name": "stderr",
     "output_type": "stream",
     "text": [
      "/opt/anaconda/envs/Python3/lib/python3.6/site-packages/ipykernel/__main__.py:30: TqdmDeprecationWarning: This function will be removed in tqdm==5.0.0\n",
      "Please use `tqdm.notebook.tqdm` instead of `tqdm.tqdm_notebook`\n"
     ]
    },
    {
     "data": {
      "application/vnd.jupyter.widget-view+json": {
       "model_id": "2e887b8fe7304195a18eb6781ee07a17",
       "version_major": 2,
       "version_minor": 0
      },
      "text/plain": [
       "HBox(children=(FloatProgress(value=1.0, bar_style='info', max=1.0), HTML(value='')))"
      ]
     },
     "metadata": {},
     "output_type": "display_data"
    },
    {
     "name": "stdout",
     "output_type": "stream",
     "text": [
      "\n"
     ]
    },
    {
     "data": {
      "application/vnd.jupyter.widget-view+json": {
       "model_id": "5d603b2b59054348902cb3e91c54c7aa",
       "version_major": 2,
       "version_minor": 0
      },
      "text/plain": [
       "HBox(children=(FloatProgress(value=1.0, bar_style='info', max=1.0), HTML(value='')))"
      ]
     },
     "metadata": {},
     "output_type": "display_data"
    },
    {
     "data": {
      "application/vnd.jupyter.widget-view+json": {
       "model_id": "1a7859adc7094770bfba89e14e4519df",
       "version_major": 2,
       "version_minor": 0
      },
      "text/plain": [
       "HBox(children=(FloatProgress(value=1.0, bar_style='info', max=1.0), HTML(value='')))"
      ]
     },
     "metadata": {},
     "output_type": "display_data"
    },
    {
     "data": {
      "application/vnd.jupyter.widget-view+json": {
       "model_id": "fc8552f5f4f34363b77e2fe045609875",
       "version_major": 2,
       "version_minor": 0
      },
      "text/plain": [
       "HBox(children=(FloatProgress(value=1.0, bar_style='info', max=1.0), HTML(value='')))"
      ]
     },
     "metadata": {},
     "output_type": "display_data"
    },
    {
     "data": {
      "application/vnd.jupyter.widget-view+json": {
       "model_id": "6d82e095e5644fb49945fb14f2d298dd",
       "version_major": 2,
       "version_minor": 0
      },
      "text/plain": [
       "HBox(children=(FloatProgress(value=1.0, bar_style='info', max=1.0), HTML(value='')))"
      ]
     },
     "metadata": {},
     "output_type": "display_data"
    },
    {
     "name": "stdout",
     "output_type": "stream",
     "text": [
      "\n"
     ]
    }
   ],
   "source": [
    "# Repeat the process with the artists that have been skipped from the initial iteration\n",
    "tracklist=artist_tracks(artist_not_included)"
   ]
  },
  {
   "cell_type": "code",
   "execution_count": 30,
   "metadata": {},
   "outputs": [],
   "source": [
    "# repeat function for artist that are not included by changing the album type to single.\n",
    "def artist_tracks(artists):\n",
    "    \n",
    "    '''\n",
    "    Takes a list of artist names, iterates through their Spotify albums, checks for \n",
    "    duplicate albums, then appends all the tracks in those albums to a list of lists\n",
    "    '''\n",
    "    \n",
    "    # Each list in this list will be a track and its features\n",
    "    tracks = []\n",
    "    \n",
    "    \n",
    "    \n",
    "    for artist in tqdm_notebook(artists):\n",
    "        try:       \n",
    "        # Get the artist URI (a unique ID)\n",
    "            artist_uri = sp.search(artist)['tracks']['items'][0]['artists'][0]['uri']\n",
    "\n",
    "        # Spotify has a lot of duplicate albums, but we'll cross-reference them with this list to avoid extra loops\n",
    "            album_checker = []\n",
    "        \n",
    "        # The starting point of our loop of albums for those artists with more than 50\n",
    "            n = 0\n",
    "        \n",
    "        # Note the album_type = 'album'. This discounts singles, compilations and collaborations\n",
    "            while len(sp.artist_albums(artist_uri, album_type = 'single', limit=50, offset = n)['items']) > 0:\n",
    "            \n",
    "            # Avoid overloading Spotify with requests by assigning the list of album dictionaries to a variable\n",
    "                dict_list = sp.artist_albums(artist_uri, album_type = 'single', limit=50, offset = n)['items']\n",
    "            \n",
    "                for i, album in tqdm_notebook(enumerate(dict_list)):\n",
    "\n",
    "                # Add the featured artists for the album in question to the checklist\n",
    "                    check_this_album = [j['name'] for j in dict_list[i]['artists']]\n",
    "                # And the album name\n",
    "                    check_this_album.append(dict_list[i]['name'])\n",
    "                # And its date\n",
    "                    check_this_album.append(dict_list[i]['release_date'])\n",
    "\n",
    "                # Only continue looping if that album isn't in the checklist\n",
    "                    if check_this_album not in album_checker:\n",
    "                    \n",
    "                    # Add this album to the checker\n",
    "                        album_checker.append(check_this_album)\n",
    "                    # For every song on the album, get its descriptors and features in a list and add to the tracklist\n",
    "                        tracks.extend([[artist, album['name'], album['uri'], song['name'],\n",
    "\n",
    "                          album['release_date']] + list(sp.audio_features(song['uri'])[0].values()) \n",
    "                                       for song in sp.album_tracks(album['uri'])['items']])\n",
    "            \n",
    "            # Go through the next 50 albums (otherwise we'll get an infinite while loop)\n",
    "                n += 50\n",
    "        except Exception:\n",
    "            pass\n",
    "\n",
    "    return tracks"
   ]
  },
  {
   "cell_type": "code",
   "execution_count": 51,
   "metadata": {},
   "outputs": [
    {
     "name": "stderr",
     "output_type": "stream",
     "text": [
      "/opt/anaconda/envs/Python3/lib/python3.6/site-packages/ipykernel/__main__.py:13: TqdmDeprecationWarning: This function will be removed in tqdm==5.0.0\n",
      "Please use `tqdm.notebook.tqdm` instead of `tqdm.tqdm_notebook`\n"
     ]
    },
    {
     "data": {
      "application/vnd.jupyter.widget-view+json": {
       "model_id": "202b91d11de24df18f44bfdaffb05b1f",
       "version_major": 2,
       "version_minor": 0
      },
      "text/plain": [
       "HBox(children=(FloatProgress(value=0.0, max=60.0), HTML(value='')))"
      ]
     },
     "metadata": {},
     "output_type": "display_data"
    },
    {
     "name": "stderr",
     "output_type": "stream",
     "text": [
      "/opt/anaconda/envs/Python3/lib/python3.6/site-packages/ipykernel/__main__.py:30: TqdmDeprecationWarning: This function will be removed in tqdm==5.0.0\n",
      "Please use `tqdm.notebook.tqdm` instead of `tqdm.tqdm_notebook`\n"
     ]
    },
    {
     "data": {
      "application/vnd.jupyter.widget-view+json": {
       "model_id": "2225c39d575d4c7798bfc1ff8e3bbeae",
       "version_major": 2,
       "version_minor": 0
      },
      "text/plain": [
       "HBox(children=(FloatProgress(value=1.0, bar_style='info', max=1.0), HTML(value='')))"
      ]
     },
     "metadata": {},
     "output_type": "display_data"
    },
    {
     "data": {
      "application/vnd.jupyter.widget-view+json": {
       "model_id": "76fdb8265dac4809a50d3dac5af8787c",
       "version_major": 2,
       "version_minor": 0
      },
      "text/plain": [
       "HBox(children=(FloatProgress(value=1.0, bar_style='info', max=1.0), HTML(value='')))"
      ]
     },
     "metadata": {},
     "output_type": "display_data"
    },
    {
     "data": {
      "application/vnd.jupyter.widget-view+json": {
       "model_id": "b21031cbb5ec43ba8fe8bffa5e14332d",
       "version_major": 2,
       "version_minor": 0
      },
      "text/plain": [
       "HBox(children=(FloatProgress(value=1.0, bar_style='info', max=1.0), HTML(value='')))"
      ]
     },
     "metadata": {},
     "output_type": "display_data"
    },
    {
     "data": {
      "application/vnd.jupyter.widget-view+json": {
       "model_id": "fb3e4ed1055844a2972d4a4b1a4495e6",
       "version_major": 2,
       "version_minor": 0
      },
      "text/plain": [
       "HBox(children=(FloatProgress(value=1.0, bar_style='info', max=1.0), HTML(value='')))"
      ]
     },
     "metadata": {},
     "output_type": "display_data"
    },
    {
     "name": "stdout",
     "output_type": "stream",
     "text": [
      "retrying after...3secs\n"
     ]
    },
    {
     "data": {
      "application/vnd.jupyter.widget-view+json": {
       "model_id": "4425acfcc97d435fb635d82a4b8828d0",
       "version_major": 2,
       "version_minor": 0
      },
      "text/plain": [
       "HBox(children=(FloatProgress(value=1.0, bar_style='info', max=1.0), HTML(value='')))"
      ]
     },
     "metadata": {},
     "output_type": "display_data"
    },
    {
     "name": "stdout",
     "output_type": "stream",
     "text": [
      "retrying after...7secs\n"
     ]
    },
    {
     "data": {
      "application/vnd.jupyter.widget-view+json": {
       "model_id": "2299d717ac094f03822e9b9b8692ddee",
       "version_major": 2,
       "version_minor": 0
      },
      "text/plain": [
       "HBox(children=(FloatProgress(value=1.0, bar_style='info', max=1.0), HTML(value='')))"
      ]
     },
     "metadata": {},
     "output_type": "display_data"
    },
    {
     "data": {
      "application/vnd.jupyter.widget-view+json": {
       "model_id": "910f6ccaa251439a8053498883ee5ab4",
       "version_major": 2,
       "version_minor": 0
      },
      "text/plain": [
       "HBox(children=(FloatProgress(value=1.0, bar_style='info', max=1.0), HTML(value='')))"
      ]
     },
     "metadata": {},
     "output_type": "display_data"
    },
    {
     "data": {
      "application/vnd.jupyter.widget-view+json": {
       "model_id": "f1b1b2ad67064545bbca0d292a34c7cd",
       "version_major": 2,
       "version_minor": 0
      },
      "text/plain": [
       "HBox(children=(FloatProgress(value=1.0, bar_style='info', max=1.0), HTML(value='')))"
      ]
     },
     "metadata": {},
     "output_type": "display_data"
    },
    {
     "data": {
      "application/vnd.jupyter.widget-view+json": {
       "model_id": "45f1d5838cd24e829beac6ebde2a5df0",
       "version_major": 2,
       "version_minor": 0
      },
      "text/plain": [
       "HBox(children=(FloatProgress(value=1.0, bar_style='info', max=1.0), HTML(value='')))"
      ]
     },
     "metadata": {},
     "output_type": "display_data"
    },
    {
     "name": "stdout",
     "output_type": "stream",
     "text": [
      "retrying after...5secs\n"
     ]
    },
    {
     "data": {
      "application/vnd.jupyter.widget-view+json": {
       "model_id": "debb63c2616e4defb085a922853d53b4",
       "version_major": 2,
       "version_minor": 0
      },
      "text/plain": [
       "HBox(children=(FloatProgress(value=1.0, bar_style='info', max=1.0), HTML(value='')))"
      ]
     },
     "metadata": {},
     "output_type": "display_data"
    },
    {
     "data": {
      "application/vnd.jupyter.widget-view+json": {
       "model_id": "eb1e932cdba847bbb948ffe5b4c19f04",
       "version_major": 2,
       "version_minor": 0
      },
      "text/plain": [
       "HBox(children=(FloatProgress(value=1.0, bar_style='info', max=1.0), HTML(value='')))"
      ]
     },
     "metadata": {},
     "output_type": "display_data"
    },
    {
     "name": "stdout",
     "output_type": "stream",
     "text": [
      "retrying after...6secs\n",
      "retrying after...7secs\n"
     ]
    },
    {
     "data": {
      "application/vnd.jupyter.widget-view+json": {
       "model_id": "a28b71d6c97f403f852d0473e73fd804",
       "version_major": 2,
       "version_minor": 0
      },
      "text/plain": [
       "HBox(children=(FloatProgress(value=1.0, bar_style='info', max=1.0), HTML(value='')))"
      ]
     },
     "metadata": {},
     "output_type": "display_data"
    },
    {
     "data": {
      "application/vnd.jupyter.widget-view+json": {
       "model_id": "671fce1b9a8549ed8ac0697ca6757193",
       "version_major": 2,
       "version_minor": 0
      },
      "text/plain": [
       "HBox(children=(FloatProgress(value=1.0, bar_style='info', max=1.0), HTML(value='')))"
      ]
     },
     "metadata": {},
     "output_type": "display_data"
    },
    {
     "data": {
      "application/vnd.jupyter.widget-view+json": {
       "model_id": "0b8c1b4554034994b3cae948b43a0909",
       "version_major": 2,
       "version_minor": 0
      },
      "text/plain": [
       "HBox(children=(FloatProgress(value=1.0, bar_style='info', max=1.0), HTML(value='')))"
      ]
     },
     "metadata": {},
     "output_type": "display_data"
    },
    {
     "name": "stdout",
     "output_type": "stream",
     "text": [
      "retrying after...5secs\n"
     ]
    },
    {
     "data": {
      "application/vnd.jupyter.widget-view+json": {
       "model_id": "7b06ed9694c547f299e078dbcbcdcfca",
       "version_major": 2,
       "version_minor": 0
      },
      "text/plain": [
       "HBox(children=(FloatProgress(value=1.0, bar_style='info', max=1.0), HTML(value='')))"
      ]
     },
     "metadata": {},
     "output_type": "display_data"
    },
    {
     "name": "stdout",
     "output_type": "stream",
     "text": [
      "retrying after...5secs\n"
     ]
    },
    {
     "data": {
      "application/vnd.jupyter.widget-view+json": {
       "model_id": "34e8077adc4c4e4bbdd8df0cb2d45b02",
       "version_major": 2,
       "version_minor": 0
      },
      "text/plain": [
       "HBox(children=(FloatProgress(value=1.0, bar_style='info', max=1.0), HTML(value='')))"
      ]
     },
     "metadata": {},
     "output_type": "display_data"
    },
    {
     "data": {
      "application/vnd.jupyter.widget-view+json": {
       "model_id": "855dfd8709e346718f0d5b94803db375",
       "version_major": 2,
       "version_minor": 0
      },
      "text/plain": [
       "HBox(children=(FloatProgress(value=1.0, bar_style='info', max=1.0), HTML(value='')))"
      ]
     },
     "metadata": {},
     "output_type": "display_data"
    },
    {
     "data": {
      "application/vnd.jupyter.widget-view+json": {
       "model_id": "32d0aa36449648a9ac049e170f79c7e2",
       "version_major": 2,
       "version_minor": 0
      },
      "text/plain": [
       "HBox(children=(FloatProgress(value=1.0, bar_style='info', max=1.0), HTML(value='')))"
      ]
     },
     "metadata": {},
     "output_type": "display_data"
    },
    {
     "name": "stdout",
     "output_type": "stream",
     "text": [
      "retrying after...7secs\n"
     ]
    },
    {
     "data": {
      "application/vnd.jupyter.widget-view+json": {
       "model_id": "ba253ce87e4f4e349f6ac6fa1bd2415a",
       "version_major": 2,
       "version_minor": 0
      },
      "text/plain": [
       "HBox(children=(FloatProgress(value=1.0, bar_style='info', max=1.0), HTML(value='')))"
      ]
     },
     "metadata": {},
     "output_type": "display_data"
    },
    {
     "data": {
      "application/vnd.jupyter.widget-view+json": {
       "model_id": "492dd53d0acc45eb9a906ef0a8b734ce",
       "version_major": 2,
       "version_minor": 0
      },
      "text/plain": [
       "HBox(children=(FloatProgress(value=1.0, bar_style='info', max=1.0), HTML(value='')))"
      ]
     },
     "metadata": {},
     "output_type": "display_data"
    },
    {
     "data": {
      "application/vnd.jupyter.widget-view+json": {
       "model_id": "acc9eaefdfc840718fbfdd5c063253ad",
       "version_major": 2,
       "version_minor": 0
      },
      "text/plain": [
       "HBox(children=(FloatProgress(value=1.0, bar_style='info', max=1.0), HTML(value='')))"
      ]
     },
     "metadata": {},
     "output_type": "display_data"
    },
    {
     "name": "stdout",
     "output_type": "stream",
     "text": [
      "retrying after...6secs\n"
     ]
    },
    {
     "data": {
      "application/vnd.jupyter.widget-view+json": {
       "model_id": "65cf07446ee34cc2a295c5f5c210b516",
       "version_major": 2,
       "version_minor": 0
      },
      "text/plain": [
       "HBox(children=(FloatProgress(value=1.0, bar_style='info', max=1.0), HTML(value='')))"
      ]
     },
     "metadata": {},
     "output_type": "display_data"
    },
    {
     "name": "stdout",
     "output_type": "stream",
     "text": [
      "retrying after...6secs\n"
     ]
    },
    {
     "data": {
      "application/vnd.jupyter.widget-view+json": {
       "model_id": "28e71fa941ca4ea0868e6798a5ba998d",
       "version_major": 2,
       "version_minor": 0
      },
      "text/plain": [
       "HBox(children=(FloatProgress(value=1.0, bar_style='info', max=1.0), HTML(value='')))"
      ]
     },
     "metadata": {},
     "output_type": "display_data"
    },
    {
     "data": {
      "application/vnd.jupyter.widget-view+json": {
       "model_id": "f1af0985f6974209bf0fd3e2ae151de4",
       "version_major": 2,
       "version_minor": 0
      },
      "text/plain": [
       "HBox(children=(FloatProgress(value=1.0, bar_style='info', max=1.0), HTML(value='')))"
      ]
     },
     "metadata": {},
     "output_type": "display_data"
    },
    {
     "data": {
      "application/vnd.jupyter.widget-view+json": {
       "model_id": "5a5ab208c5d14a9e9e8e8faa90d01cf5",
       "version_major": 2,
       "version_minor": 0
      },
      "text/plain": [
       "HBox(children=(FloatProgress(value=1.0, bar_style='info', max=1.0), HTML(value='')))"
      ]
     },
     "metadata": {},
     "output_type": "display_data"
    },
    {
     "name": "stdout",
     "output_type": "stream",
     "text": [
      "retrying after...7secs\n"
     ]
    },
    {
     "data": {
      "application/vnd.jupyter.widget-view+json": {
       "model_id": "df6fbda1b1354d31a09a0929522c5e3b",
       "version_major": 2,
       "version_minor": 0
      },
      "text/plain": [
       "HBox(children=(FloatProgress(value=1.0, bar_style='info', max=1.0), HTML(value='')))"
      ]
     },
     "metadata": {},
     "output_type": "display_data"
    },
    {
     "data": {
      "application/vnd.jupyter.widget-view+json": {
       "model_id": "a9783a8f23f24cc3893629c92a30a798",
       "version_major": 2,
       "version_minor": 0
      },
      "text/plain": [
       "HBox(children=(FloatProgress(value=1.0, bar_style='info', max=1.0), HTML(value='')))"
      ]
     },
     "metadata": {},
     "output_type": "display_data"
    },
    {
     "data": {
      "application/vnd.jupyter.widget-view+json": {
       "model_id": "3f4a1616961f482e820743df5f3d527e",
       "version_major": 2,
       "version_minor": 0
      },
      "text/plain": [
       "HBox(children=(FloatProgress(value=1.0, bar_style='info', max=1.0), HTML(value='')))"
      ]
     },
     "metadata": {},
     "output_type": "display_data"
    },
    {
     "data": {
      "application/vnd.jupyter.widget-view+json": {
       "model_id": "864224654ad4495e9a5627cfcd814922",
       "version_major": 2,
       "version_minor": 0
      },
      "text/plain": [
       "HBox(children=(FloatProgress(value=1.0, bar_style='info', max=1.0), HTML(value='')))"
      ]
     },
     "metadata": {},
     "output_type": "display_data"
    },
    {
     "data": {
      "application/vnd.jupyter.widget-view+json": {
       "model_id": "b739622151ef43d2be77d96dcec3ac9f",
       "version_major": 2,
       "version_minor": 0
      },
      "text/plain": [
       "HBox(children=(FloatProgress(value=1.0, bar_style='info', max=1.0), HTML(value='')))"
      ]
     },
     "metadata": {},
     "output_type": "display_data"
    },
    {
     "data": {
      "application/vnd.jupyter.widget-view+json": {
       "model_id": "f3a8e57865944caa926043ca71dc6b7a",
       "version_major": 2,
       "version_minor": 0
      },
      "text/plain": [
       "HBox(children=(FloatProgress(value=1.0, bar_style='info', max=1.0), HTML(value='')))"
      ]
     },
     "metadata": {},
     "output_type": "display_data"
    },
    {
     "data": {
      "application/vnd.jupyter.widget-view+json": {
       "model_id": "90ab186d8760492bb3efb3435a9427a3",
       "version_major": 2,
       "version_minor": 0
      },
      "text/plain": [
       "HBox(children=(FloatProgress(value=1.0, bar_style='info', max=1.0), HTML(value='')))"
      ]
     },
     "metadata": {},
     "output_type": "display_data"
    },
    {
     "data": {
      "application/vnd.jupyter.widget-view+json": {
       "model_id": "6f83657a152e47e1a1dade31d31c3157",
       "version_major": 2,
       "version_minor": 0
      },
      "text/plain": [
       "HBox(children=(FloatProgress(value=1.0, bar_style='info', max=1.0), HTML(value='')))"
      ]
     },
     "metadata": {},
     "output_type": "display_data"
    },
    {
     "name": "stdout",
     "output_type": "stream",
     "text": [
      "retrying after...4secs\n"
     ]
    },
    {
     "data": {
      "application/vnd.jupyter.widget-view+json": {
       "model_id": "fb8c51ec92e04851a59abce88a3e2eab",
       "version_major": 2,
       "version_minor": 0
      },
      "text/plain": [
       "HBox(children=(FloatProgress(value=1.0, bar_style='info', max=1.0), HTML(value='')))"
      ]
     },
     "metadata": {},
     "output_type": "display_data"
    },
    {
     "data": {
      "application/vnd.jupyter.widget-view+json": {
       "model_id": "ac0d6b62789f4f35bb7d44213a47aace",
       "version_major": 2,
       "version_minor": 0
      },
      "text/plain": [
       "HBox(children=(FloatProgress(value=1.0, bar_style='info', max=1.0), HTML(value='')))"
      ]
     },
     "metadata": {},
     "output_type": "display_data"
    },
    {
     "name": "stdout",
     "output_type": "stream",
     "text": [
      "retrying after...6secs\n"
     ]
    },
    {
     "data": {
      "application/vnd.jupyter.widget-view+json": {
       "model_id": "c9579f9e097a4f5b8b90888f8241d870",
       "version_major": 2,
       "version_minor": 0
      },
      "text/plain": [
       "HBox(children=(FloatProgress(value=1.0, bar_style='info', max=1.0), HTML(value='')))"
      ]
     },
     "metadata": {},
     "output_type": "display_data"
    },
    {
     "data": {
      "application/vnd.jupyter.widget-view+json": {
       "model_id": "dc0aee012102462ea1edaf94de60aab0",
       "version_major": 2,
       "version_minor": 0
      },
      "text/plain": [
       "HBox(children=(FloatProgress(value=1.0, bar_style='info', max=1.0), HTML(value='')))"
      ]
     },
     "metadata": {},
     "output_type": "display_data"
    },
    {
     "data": {
      "application/vnd.jupyter.widget-view+json": {
       "model_id": "c2b7eaced79c4b8baabafe29dfe90d4e",
       "version_major": 2,
       "version_minor": 0
      },
      "text/plain": [
       "HBox(children=(FloatProgress(value=1.0, bar_style='info', max=1.0), HTML(value='')))"
      ]
     },
     "metadata": {},
     "output_type": "display_data"
    },
    {
     "data": {
      "application/vnd.jupyter.widget-view+json": {
       "model_id": "2ffb83b63ecd4aa38e46d607a733fd9e",
       "version_major": 2,
       "version_minor": 0
      },
      "text/plain": [
       "HBox(children=(FloatProgress(value=1.0, bar_style='info', max=1.0), HTML(value='')))"
      ]
     },
     "metadata": {},
     "output_type": "display_data"
    },
    {
     "name": "stdout",
     "output_type": "stream",
     "text": [
      "retrying after...6secs\n"
     ]
    },
    {
     "data": {
      "application/vnd.jupyter.widget-view+json": {
       "model_id": "f40b93efdde74a9aa78adee0d15ff9c3",
       "version_major": 2,
       "version_minor": 0
      },
      "text/plain": [
       "HBox(children=(FloatProgress(value=1.0, bar_style='info', max=1.0), HTML(value='')))"
      ]
     },
     "metadata": {},
     "output_type": "display_data"
    },
    {
     "data": {
      "application/vnd.jupyter.widget-view+json": {
       "model_id": "dec120c1573644ada119161c5cfad562",
       "version_major": 2,
       "version_minor": 0
      },
      "text/plain": [
       "HBox(children=(FloatProgress(value=1.0, bar_style='info', max=1.0), HTML(value='')))"
      ]
     },
     "metadata": {},
     "output_type": "display_data"
    },
    {
     "data": {
      "application/vnd.jupyter.widget-view+json": {
       "model_id": "ddb6d1072a454d4ab1f91e17058fe795",
       "version_major": 2,
       "version_minor": 0
      },
      "text/plain": [
       "HBox(children=(FloatProgress(value=1.0, bar_style='info', max=1.0), HTML(value='')))"
      ]
     },
     "metadata": {},
     "output_type": "display_data"
    },
    {
     "data": {
      "application/vnd.jupyter.widget-view+json": {
       "model_id": "01cb572b011144aaa25fabaae7d3cc74",
       "version_major": 2,
       "version_minor": 0
      },
      "text/plain": [
       "HBox(children=(FloatProgress(value=1.0, bar_style='info', max=1.0), HTML(value='')))"
      ]
     },
     "metadata": {},
     "output_type": "display_data"
    },
    {
     "name": "stdout",
     "output_type": "stream",
     "text": [
      "retrying after...5secs\n",
      "retrying after...7secs\n"
     ]
    },
    {
     "data": {
      "application/vnd.jupyter.widget-view+json": {
       "model_id": "35d9206129324873961ac37ee3b2a601",
       "version_major": 2,
       "version_minor": 0
      },
      "text/plain": [
       "HBox(children=(FloatProgress(value=1.0, bar_style='info', max=1.0), HTML(value='')))"
      ]
     },
     "metadata": {},
     "output_type": "display_data"
    },
    {
     "data": {
      "application/vnd.jupyter.widget-view+json": {
       "model_id": "7a418a5a8b6147a4be86014f6608e67e",
       "version_major": 2,
       "version_minor": 0
      },
      "text/plain": [
       "HBox(children=(FloatProgress(value=1.0, bar_style='info', max=1.0), HTML(value='')))"
      ]
     },
     "metadata": {},
     "output_type": "display_data"
    },
    {
     "data": {
      "application/vnd.jupyter.widget-view+json": {
       "model_id": "2bb6c1122efe4154999b8a4a4c4a881e",
       "version_major": 2,
       "version_minor": 0
      },
      "text/plain": [
       "HBox(children=(FloatProgress(value=1.0, bar_style='info', max=1.0), HTML(value='')))"
      ]
     },
     "metadata": {},
     "output_type": "display_data"
    },
    {
     "data": {
      "application/vnd.jupyter.widget-view+json": {
       "model_id": "6acfd120e94d414997534f88f1e228f5",
       "version_major": 2,
       "version_minor": 0
      },
      "text/plain": [
       "HBox(children=(FloatProgress(value=1.0, bar_style='info', max=1.0), HTML(value='')))"
      ]
     },
     "metadata": {},
     "output_type": "display_data"
    },
    {
     "data": {
      "application/vnd.jupyter.widget-view+json": {
       "model_id": "a27ad588f1344dd7a07fc0140d403e07",
       "version_major": 2,
       "version_minor": 0
      },
      "text/plain": [
       "HBox(children=(FloatProgress(value=1.0, bar_style='info', max=1.0), HTML(value='')))"
      ]
     },
     "metadata": {},
     "output_type": "display_data"
    },
    {
     "name": "stdout",
     "output_type": "stream",
     "text": [
      "retrying after...5secs\n"
     ]
    },
    {
     "data": {
      "application/vnd.jupyter.widget-view+json": {
       "model_id": "047f3243e09f4952b4c84b439521a956",
       "version_major": 2,
       "version_minor": 0
      },
      "text/plain": [
       "HBox(children=(FloatProgress(value=1.0, bar_style='info', max=1.0), HTML(value='')))"
      ]
     },
     "metadata": {},
     "output_type": "display_data"
    },
    {
     "name": "stdout",
     "output_type": "stream",
     "text": [
      "retrying after...6secs\n"
     ]
    },
    {
     "data": {
      "application/vnd.jupyter.widget-view+json": {
       "model_id": "6deca71338854030911393e0dd48257e",
       "version_major": 2,
       "version_minor": 0
      },
      "text/plain": [
       "HBox(children=(FloatProgress(value=1.0, bar_style='info', max=1.0), HTML(value='')))"
      ]
     },
     "metadata": {},
     "output_type": "display_data"
    },
    {
     "data": {
      "application/vnd.jupyter.widget-view+json": {
       "model_id": "c8306b2898ee4a71b297eac13efe7fbc",
       "version_major": 2,
       "version_minor": 0
      },
      "text/plain": [
       "HBox(children=(FloatProgress(value=1.0, bar_style='info', max=1.0), HTML(value='')))"
      ]
     },
     "metadata": {},
     "output_type": "display_data"
    },
    {
     "data": {
      "application/vnd.jupyter.widget-view+json": {
       "model_id": "ca8464648dfe4e06bf1adcca324e35dd",
       "version_major": 2,
       "version_minor": 0
      },
      "text/plain": [
       "HBox(children=(FloatProgress(value=1.0, bar_style='info', max=1.0), HTML(value='')))"
      ]
     },
     "metadata": {},
     "output_type": "display_data"
    },
    {
     "name": "stdout",
     "output_type": "stream",
     "text": [
      "retrying after...6secs\n"
     ]
    },
    {
     "data": {
      "application/vnd.jupyter.widget-view+json": {
       "model_id": "f0f5265b8be84509af0e37974aa42544",
       "version_major": 2,
       "version_minor": 0
      },
      "text/plain": [
       "HBox(children=(FloatProgress(value=1.0, bar_style='info', max=1.0), HTML(value='')))"
      ]
     },
     "metadata": {},
     "output_type": "display_data"
    },
    {
     "data": {
      "application/vnd.jupyter.widget-view+json": {
       "model_id": "5cf49214f4a3492caec16a70e8337664",
       "version_major": 2,
       "version_minor": 0
      },
      "text/plain": [
       "HBox(children=(FloatProgress(value=1.0, bar_style='info', max=1.0), HTML(value='')))"
      ]
     },
     "metadata": {},
     "output_type": "display_data"
    },
    {
     "data": {
      "application/vnd.jupyter.widget-view+json": {
       "model_id": "a05f4f2d66d4496e88745734a9a94c25",
       "version_major": 2,
       "version_minor": 0
      },
      "text/plain": [
       "HBox(children=(FloatProgress(value=1.0, bar_style='info', max=1.0), HTML(value='')))"
      ]
     },
     "metadata": {},
     "output_type": "display_data"
    },
    {
     "name": "stdout",
     "output_type": "stream",
     "text": [
      "retrying after...5secs\n"
     ]
    },
    {
     "data": {
      "application/vnd.jupyter.widget-view+json": {
       "model_id": "d2e778be78fd4218a547167349b18a2c",
       "version_major": 2,
       "version_minor": 0
      },
      "text/plain": [
       "HBox(children=(FloatProgress(value=1.0, bar_style='info', max=1.0), HTML(value='')))"
      ]
     },
     "metadata": {},
     "output_type": "display_data"
    },
    {
     "name": "stdout",
     "output_type": "stream",
     "text": [
      "retrying after...7secs\n"
     ]
    },
    {
     "data": {
      "application/vnd.jupyter.widget-view+json": {
       "model_id": "861315f7ce6d46e6ac5b7808b8c3b042",
       "version_major": 2,
       "version_minor": 0
      },
      "text/plain": [
       "HBox(children=(FloatProgress(value=1.0, bar_style='info', max=1.0), HTML(value='')))"
      ]
     },
     "metadata": {},
     "output_type": "display_data"
    },
    {
     "data": {
      "application/vnd.jupyter.widget-view+json": {
       "model_id": "07d876625193454781304bb6bbaea2a6",
       "version_major": 2,
       "version_minor": 0
      },
      "text/plain": [
       "HBox(children=(FloatProgress(value=1.0, bar_style='info', max=1.0), HTML(value='')))"
      ]
     },
     "metadata": {},
     "output_type": "display_data"
    },
    {
     "data": {
      "application/vnd.jupyter.widget-view+json": {
       "model_id": "a52b7bc5a5764959888407d48e59a418",
       "version_major": 2,
       "version_minor": 0
      },
      "text/plain": [
       "HBox(children=(FloatProgress(value=1.0, bar_style='info', max=1.0), HTML(value='')))"
      ]
     },
     "metadata": {},
     "output_type": "display_data"
    },
    {
     "data": {
      "application/vnd.jupyter.widget-view+json": {
       "model_id": "a6e539ad54f64aca944f397e5a580943",
       "version_major": 2,
       "version_minor": 0
      },
      "text/plain": [
       "HBox(children=(FloatProgress(value=1.0, bar_style='info', max=1.0), HTML(value='')))"
      ]
     },
     "metadata": {},
     "output_type": "display_data"
    },
    {
     "name": "stdout",
     "output_type": "stream",
     "text": [
      "retrying after...6secs\n"
     ]
    },
    {
     "data": {
      "application/vnd.jupyter.widget-view+json": {
       "model_id": "1c1d2e14b56a427b8b7cd90b34922f7a",
       "version_major": 2,
       "version_minor": 0
      },
      "text/plain": [
       "HBox(children=(FloatProgress(value=1.0, bar_style='info', max=1.0), HTML(value='')))"
      ]
     },
     "metadata": {},
     "output_type": "display_data"
    }
   ],
   "source": [
    "tracklist=artist_tracks(artist_not_included)"
   ]
  },
  {
   "cell_type": "code",
   "execution_count": 54,
   "metadata": {},
   "outputs": [],
   "source": [
    "# save it into a df and export\n",
    "df_artist_single=df_tracks(tracklists)\n",
    "df_artist_single.to_csv(\"/project/spotipy/df_artist_single.csv\")"
   ]
  },
  {
   "cell_type": "code",
   "execution_count": 98,
   "metadata": {},
   "outputs": [],
   "source": [
    "import pandas as pd\n",
    "df1=pd.read_csv(\"/project/spotipy/df_artist_albums.csv\") #extracted from Spotify streams dataset\n",
    "df2=pd.read_csv(\"/project/spotipy/df_artist_single.csv\") #extracted from Spotify streams dataset\n",
    "\n",
    "# append the data and check for any missing artist\n",
    "df_final=df1.append(df2, ignore_index=True)\n",
    "test=list(df_final[\"artist\"].unique())\n",
    "More_Artist=list(set(artist) - set(test))\n",
    "More_Artist=More_Artist[1::]"
   ]
  },
  {
   "cell_type": "code",
   "execution_count": 99,
   "metadata": {},
   "outputs": [],
   "source": [
    "df_final.artist.nunique()"
   ]
  },
  {
   "cell_type": "code",
   "execution_count": 33,
   "metadata": {},
   "outputs": [
    {
     "name": "stderr",
     "output_type": "stream",
     "text": [
      "/opt/anaconda/envs/Python3/lib/python3.6/site-packages/ipykernel/__main__.py:14: TqdmDeprecationWarning: This function will be removed in tqdm==5.0.0\n",
      "Please use `tqdm.notebook.tqdm` instead of `tqdm.tqdm_notebook`\n"
     ]
    },
    {
     "data": {
      "application/vnd.jupyter.widget-view+json": {
       "model_id": "79536e86726049a588c6becbd0f6b002",
       "version_major": 2,
       "version_minor": 0
      },
      "text/plain": [
       "HBox(children=(FloatProgress(value=0.0, max=3.0), HTML(value='')))"
      ]
     },
     "metadata": {},
     "output_type": "display_data"
    },
    {
     "name": "stdout",
     "output_type": "stream",
     "text": [
      "\n"
     ]
    }
   ],
   "source": [
    "tracklist=artist_tracks(More_Artist)"
   ]
  },
  {
   "cell_type": "code",
   "execution_count": 18,
   "metadata": {},
   "outputs": [],
   "source": [
    "#ex1=df_tracks(tracklist)"
   ]
  },
  {
   "cell_type": "code",
   "execution_count": 22,
   "metadata": {},
   "outputs": [
    {
     "name": "stderr",
     "output_type": "stream",
     "text": [
      "/opt/anaconda/envs/Python3/lib/python3.6/site-packages/ipykernel/__main__.py:14: TqdmDeprecationWarning: This function will be removed in tqdm==5.0.0\n",
      "Please use `tqdm.notebook.tqdm` instead of `tqdm.tqdm_notebook`\n"
     ]
    },
    {
     "data": {
      "application/vnd.jupyter.widget-view+json": {
       "model_id": "a8c34beac37c48baa868bda2fa52b579",
       "version_major": 2,
       "version_minor": 0
      },
      "text/plain": [
       "HBox(children=(FloatProgress(value=0.0, max=4.0), HTML(value='')))"
      ]
     },
     "metadata": {},
     "output_type": "display_data"
    },
    {
     "name": "stderr",
     "output_type": "stream",
     "text": [
      "/opt/anaconda/envs/Python3/lib/python3.6/site-packages/ipykernel/__main__.py:31: TqdmDeprecationWarning: This function will be removed in tqdm==5.0.0\n",
      "Please use `tqdm.notebook.tqdm` instead of `tqdm.tqdm_notebook`\n"
     ]
    },
    {
     "data": {
      "application/vnd.jupyter.widget-view+json": {
       "model_id": "b9afcdddc024418591232f3548ddf2e0",
       "version_major": 2,
       "version_minor": 0
      },
      "text/plain": [
       "HBox(children=(FloatProgress(value=1.0, bar_style='info', max=1.0), HTML(value='')))"
      ]
     },
     "metadata": {},
     "output_type": "display_data"
    },
    {
     "name": "stdout",
     "output_type": "stream",
     "text": [
      "\n",
      "\n"
     ]
    }
   ],
   "source": [
    "tracklist=artist_tracks(More_Artist)"
   ]
  },
  {
   "cell_type": "code",
   "execution_count": 107,
   "metadata": {},
   "outputs": [],
   "source": [
    "df_final=df_final.append(ex1, ignore_index=True)"
   ]
  },
  {
   "cell_type": "code",
   "execution_count": 108,
   "metadata": {},
   "outputs": [
    {
     "data": {
      "text/plain": [
       "279"
      ]
     },
     "execution_count": 108,
     "metadata": {},
     "output_type": "execute_result"
    }
   ],
   "source": [
    "df_final.artist.nunique()"
   ]
  },
  {
   "cell_type": "code",
   "execution_count": 61,
   "metadata": {},
   "outputs": [],
   "source": [
    "# Some artists where excluded from both iterations. We used their specific URI from Spotify to deal with this\n",
    "# we entered Their URI into the function in artist_uri=\" \", these artists are: 'Mikko Harju','Coro de Monjes del Monasterio Benedictino de Santo Domingo de Silos','Kauniit & Uhkarohkeat'\n",
    "\n",
    "\n",
    "def artist_tracks(artists):\n",
    "    \n",
    "    '''\n",
    "    Takes a list of artist names, iterates through their Spotify albums, checks for \n",
    "    duplicate albums, then appends all the tracks in those albums to a list of lists\n",
    "    '''\n",
    "    \n",
    "    # Each list in this list will be a track and its features\n",
    "    tracks = []\n",
    "    \n",
    "    \n",
    "    \n",
    "    for artist in tqdm_notebook(artists):\n",
    "        try:       \n",
    "        # Get the artist URI (a unique ID)\n",
    "            artist_uri = \"spotify:artist:6swIRY9NcGlW0PwO5KlqKV\"\n",
    "\n",
    "        # Spotify has a lot of duplicate albums, but we'll cross-reference them with this list to avoid extra loops\n",
    "            album_checker = []\n",
    "        \n",
    "        # The starting point of our loop of albums for those artists with more than 50\n",
    "            n = 0\n",
    "        \n",
    "        # Note the album_type = 'album'. This discounts singles, compilations and collaborations\n",
    "            while len(sp.artist_albums(artist_uri, album_type = 'album', limit=50, offset = n)['items']) > 0:\n",
    "            \n",
    "            # Avoid overloading Spotify with requests by assigning the list of album dictionaries to a variable\n",
    "                dict_list = sp.artist_albums(artist_uri, album_type = 'album', limit=50, offset = n)['items']\n",
    "            \n",
    "                for i, album in tqdm_notebook(enumerate(dict_list)):\n",
    "\n",
    "                # Add the featured artists for the album in question to the checklist\n",
    "                    check_this_album = [j['name'] for j in dict_list[i]['artists']]\n",
    "                # And the album name\n",
    "                    check_this_album.append(dict_list[i]['name'])\n",
    "                # And its date\n",
    "                    check_this_album.append(dict_list[i]['release_date'])\n",
    "\n",
    "                # Only continue looping if that album isn't in the checklist\n",
    "                    if check_this_album not in album_checker:\n",
    "                    \n",
    "                    # Add this album to the checker\n",
    "                        album_checker.append(check_this_album)\n",
    "                    # For every song on the album, get its descriptors and features in a list and add to the tracklist\n",
    "                        tracks.extend([[artist, album['name'], album['uri'], song['name'],\n",
    "\n",
    "                          album['release_date']] + list(sp.audio_features(song['uri'])[0].values()) \n",
    "                                       for song in sp.album_tracks(album['uri'])['items']])\n",
    "            \n",
    "            # Go through the next 50 albums (otherwise we'll get an infinite while loop)\n",
    "                n += 50\n",
    "        except Exception:\n",
    "            pass\n",
    "\n",
    "    return tracks"
   ]
  },
  {
   "cell_type": "code",
   "execution_count": null,
   "metadata": {},
   "outputs": [],
   "source": [
    "#tracklist=artist_tracks('Kauniit & Uhkarohkeat')"
   ]
  },
  {
   "cell_type": "code",
   "execution_count": 17,
   "metadata": {},
   "outputs": [],
   "source": [
    "list1=[\"Mikko Harju\",'Coro de Monjes del Monasterio Benedictino de Santo Domingo de Silos','Kauniit & Uhkarohkeat']\n",
    "list4=[\"spotify:artist:4d5lT8L9TN7RfbYCs1sa8n\",\"spotify:artist:42DI0oAdDGbOrjDc7g3fuL\",\"spotify:artist:6swIRY9NcGlW0PwO5KlqKV\"]\n",
    "\n",
    "# This is an example of how we dealt with it. We changed the URI every time to the one appropriate for each artist\n",
    "#Then we saved each output to a new dataframe\n",
    "def artist_tracks(artists):\n",
    "    \n",
    "    '''\n",
    "    Takes a list of artist names, iterates through their Spotify albums, checks for \n",
    "    duplicate albums, then appends all the tracks in those albums to a list of lists\n",
    "    '''\n",
    "    \n",
    "    # Each list in this list will be a track and its features\n",
    "    tracks = []\n",
    "    \n",
    "    \n",
    "    \n",
    "    for artist in tqdm_notebook(artists):\n",
    "        try:       \n",
    "        # Get the artist URI (a unique ID)\n",
    "            artist_uri = \"spotify:artist:4d5lT8L9TN7RfbYCs1sa8n\"\n",
    "\n",
    "        # Spotify has a lot of duplicate albums, but we'll cross-reference them with this list to avoid extra loops\n",
    "            album_checker = []\n",
    "        \n",
    "        # The starting point of our loop of albums for those artists with more than 50\n",
    "            n = 0\n",
    "        \n",
    "        # Note the album_type = 'album'. This discounts singles, compilations and collaborations\n",
    "            while len(sp.artist_albums(artist_uri, album_type = 'album', limit=50, offset = n)['items']) > 0:\n",
    "            \n",
    "            # Avoid overloading Spotify with requests by assigning the list of album dictionaries to a variable\n",
    "                dict_list = sp.artist_albums(artist_uri, album_type = 'album', limit=50, offset = n)['items']\n",
    "            \n",
    "                for i, album in tqdm_notebook(enumerate(dict_list)):\n",
    "\n",
    "                # Add the featured artists for the album in question to the checklist\n",
    "                    check_this_album = [j['name'] for j in dict_list[i]['artists']]\n",
    "                # And the album name\n",
    "                    check_this_album.append(dict_list[i]['name'])\n",
    "                # And its date\n",
    "                    check_this_album.append(dict_list[i]['release_date'])\n",
    "\n",
    "                # Only continue looping if that album isn't in the checklist\n",
    "                    if check_this_album not in album_checker:\n",
    "                    \n",
    "                    # Add this album to the checker\n",
    "                        album_checker.append(check_this_album)\n",
    "                    # For every song on the album, get its descriptors and features in a list and add to the tracklist\n",
    "                        tracks.extend([[artist, album['name'], album['uri'], song['name'],\n",
    "\n",
    "                          album['release_date']] + list(sp.audio_features(song['uri'])[0].values()) \n",
    "                                       for song in sp.album_tracks(album['uri'])['items']])\n",
    "            \n",
    "            # Go through the next 50 albums (otherwise we'll get an infinite while loop)\n",
    "                n += 50\n",
    "        except Exception:\n",
    "            pass\n",
    "\n",
    "    return tracks\n"
   ]
  },
  {
   "cell_type": "code",
   "execution_count": 26,
   "metadata": {},
   "outputs": [
    {
     "name": "stderr",
     "output_type": "stream",
     "text": [
      "/opt/anaconda/envs/Python3/lib/python3.6/site-packages/ipykernel/__main__.py:18: TqdmDeprecationWarning: This function will be removed in tqdm==5.0.0\n",
      "Please use `tqdm.notebook.tqdm` instead of `tqdm.tqdm_notebook`\n"
     ]
    },
    {
     "data": {
      "application/vnd.jupyter.widget-view+json": {
       "model_id": "f9a08786c1664251810645324f5bc83f",
       "version_major": 2,
       "version_minor": 0
      },
      "text/plain": [
       "HBox(children=(FloatProgress(value=0.0, max=1.0), HTML(value='')))"
      ]
     },
     "metadata": {},
     "output_type": "display_data"
    },
    {
     "name": "stderr",
     "output_type": "stream",
     "text": [
      "/opt/anaconda/envs/Python3/lib/python3.6/site-packages/ipykernel/__main__.py:35: TqdmDeprecationWarning: This function will be removed in tqdm==5.0.0\n",
      "Please use `tqdm.notebook.tqdm` instead of `tqdm.tqdm_notebook`\n"
     ]
    },
    {
     "data": {
      "application/vnd.jupyter.widget-view+json": {
       "model_id": "1f31d604a373456597a1731887ed8a67",
       "version_major": 2,
       "version_minor": 0
      },
      "text/plain": [
       "HBox(children=(FloatProgress(value=1.0, bar_style='info', max=1.0), HTML(value='')))"
      ]
     },
     "metadata": {},
     "output_type": "display_data"
    },
    {
     "name": "stdout",
     "output_type": "stream",
     "text": [
      "\n",
      "\n"
     ]
    },
    {
     "data": {
      "application/vnd.jupyter.widget-view+json": {
       "model_id": "45fa3cdac0a247d29801de6b8568eb3f",
       "version_major": 2,
       "version_minor": 0
      },
      "text/plain": [
       "HBox(children=(FloatProgress(value=0.0, max=1.0), HTML(value='')))"
      ]
     },
     "metadata": {},
     "output_type": "display_data"
    },
    {
     "data": {
      "application/vnd.jupyter.widget-view+json": {
       "model_id": "0c84d45cc2a44337bea8ea03b37de29b",
       "version_major": 2,
       "version_minor": 0
      },
      "text/plain": [
       "HBox(children=(FloatProgress(value=1.0, bar_style='info', max=1.0), HTML(value='')))"
      ]
     },
     "metadata": {},
     "output_type": "display_data"
    },
    {
     "name": "stdout",
     "output_type": "stream",
     "text": [
      "\n",
      "\n"
     ]
    },
    {
     "data": {
      "application/vnd.jupyter.widget-view+json": {
       "model_id": "2eed20b5d8a7464ab634e97f296560e4",
       "version_major": 2,
       "version_minor": 0
      },
      "text/plain": [
       "HBox(children=(FloatProgress(value=0.0, max=1.0), HTML(value='')))"
      ]
     },
     "metadata": {},
     "output_type": "display_data"
    },
    {
     "data": {
      "application/vnd.jupyter.widget-view+json": {
       "model_id": "5aa622392fd44d9c9a19ef82bf6c9752",
       "version_major": 2,
       "version_minor": 0
      },
      "text/plain": [
       "HBox(children=(FloatProgress(value=1.0, bar_style='info', max=1.0), HTML(value='')))"
      ]
     },
     "metadata": {},
     "output_type": "display_data"
    },
    {
     "name": "stdout",
     "output_type": "stream",
     "text": [
      "\n",
      "\n"
     ]
    }
   ],
   "source": [
    "# For every artist we need to go back and change the URI. This has not been done to avoid repetetion of the code.\n",
    "tracklist1=artist_tracks([\"Mikko Harju\"])\n",
    "tracklist2=artist_tracks([\"Coro de Monjes del Monasterio Benedictino de Santo Domingo de Silos\"])\n",
    "tracklist3=artist_tracks(['Kauniit & Uhkarohkeat'])\n",
    "\n",
    "\n"
   ]
  },
  {
   "cell_type": "code",
   "execution_count": null,
   "metadata": {},
   "outputs": [],
   "source": [
    "# Define the dataframes for each artist URI\n",
    "df_artist_1=df_tracks(tracklist1)\n",
    "df_artist_2=df_tracks(tracklist2)\n",
    "df_artist_3=df_tracks(tracklist3)"
   ]
  },
  {
   "cell_type": "code",
   "execution_count": 27,
   "metadata": {},
   "outputs": [],
   "source": [
    "df_pre_final=df_artist_1.append(df_artist_2, ignore_index=True)\n",
    "df_pre_final=df_pre_final.append(df_artist_3, ignore_index=True)\n",
    "\n",
    "# all the artist are now included\n",
    "df_final=df_pre_final.append(df_final,ignore_index=True)\n",
    "df_final.artist.nunique()"
   ]
  },
  {
   "cell_type": "code",
   "execution_count": null,
   "metadata": {},
   "outputs": [],
   "source": [
    "# Final version of the dataframe.\n",
    "# All the features can be described in the official documentation : https://developer.spotify.com/documentation/web-api/reference/tracks/get-audio-features/\n",
    "df_final.head()\n",
    "df_final.drop(\"Unnamed: 0\", axis=1, inplace=True)"
   ]
  },
  {
   "cell_type": "code",
   "execution_count": null,
   "metadata": {},
   "outputs": [],
   "source": [
    "# export the csv\n",
    "df_final.to_csv(\"/project/spotipy/df_final_artist.csv\") #export to a file. It will be used in the main notebook"
   ]
  },
  {
   "cell_type": "code",
   "execution_count": 109,
   "metadata": {},
   "outputs": [],
   "source": [
    "df_pre_final=ex2.append(ex3, ignore_index=True)\n",
    "df_pre_final=df_pre_final.append(ex4, ignore_index=True)"
   ]
  },
  {
   "cell_type": "code",
   "execution_count": 115,
   "metadata": {},
   "outputs": [
    {
     "data": {
      "text/html": [
       "<div>\n",
       "<style scoped>\n",
       "    .dataframe tbody tr th:only-of-type {\n",
       "        vertical-align: middle;\n",
       "    }\n",
       "\n",
       "    .dataframe tbody tr th {\n",
       "        vertical-align: top;\n",
       "    }\n",
       "\n",
       "    .dataframe thead th {\n",
       "        text-align: right;\n",
       "    }\n",
       "</style>\n",
       "<table border=\"1\" class=\"dataframe\">\n",
       "  <thead>\n",
       "    <tr style=\"text-align: right;\">\n",
       "      <th></th>\n",
       "      <th>danceability</th>\n",
       "      <th>energy</th>\n",
       "      <th>key</th>\n",
       "      <th>loudness</th>\n",
       "      <th>mode</th>\n",
       "      <th>speechiness</th>\n",
       "      <th>acousticness</th>\n",
       "      <th>instrumentalness</th>\n",
       "      <th>liveness</th>\n",
       "      <th>valence</th>\n",
       "      <th>tempo</th>\n",
       "      <th>duration_ms</th>\n",
       "      <th>time_signature</th>\n",
       "      <th>Unnamed: 0</th>\n",
       "    </tr>\n",
       "    <tr>\n",
       "      <th>artist</th>\n",
       "      <th></th>\n",
       "      <th></th>\n",
       "      <th></th>\n",
       "      <th></th>\n",
       "      <th></th>\n",
       "      <th></th>\n",
       "      <th></th>\n",
       "      <th></th>\n",
       "      <th></th>\n",
       "      <th></th>\n",
       "      <th></th>\n",
       "      <th></th>\n",
       "      <th></th>\n",
       "      <th></th>\n",
       "    </tr>\n",
       "  </thead>\n",
       "  <tbody>\n",
       "    <tr>\n",
       "      <th>99 Percent</th>\n",
       "      <td>0.702933</td>\n",
       "      <td>0.785288</td>\n",
       "      <td>6.105769</td>\n",
       "      <td>-5.310769</td>\n",
       "      <td>0.451923</td>\n",
       "      <td>0.113213</td>\n",
       "      <td>0.061183</td>\n",
       "      <td>0.006985</td>\n",
       "      <td>0.191172</td>\n",
       "      <td>0.514827</td>\n",
       "      <td>121.102625</td>\n",
       "      <td>225123.009615</td>\n",
       "      <td>3.942308</td>\n",
       "      <td>70.903846</td>\n",
       "    </tr>\n",
       "    <tr>\n",
       "      <th>A Boogie Wit Da Hoodie</th>\n",
       "      <td>0.691098</td>\n",
       "      <td>0.603951</td>\n",
       "      <td>5.460784</td>\n",
       "      <td>-6.666588</td>\n",
       "      <td>0.441176</td>\n",
       "      <td>0.250470</td>\n",
       "      <td>0.284661</td>\n",
       "      <td>0.000007</td>\n",
       "      <td>0.128052</td>\n",
       "      <td>0.470767</td>\n",
       "      <td>125.335000</td>\n",
       "      <td>190624.970588</td>\n",
       "      <td>4.000000</td>\n",
       "      <td>187.500000</td>\n",
       "    </tr>\n",
       "    <tr>\n",
       "      <th>A R I Z O N A</th>\n",
       "      <td>0.673333</td>\n",
       "      <td>0.658667</td>\n",
       "      <td>3.190476</td>\n",
       "      <td>-6.950095</td>\n",
       "      <td>0.904762</td>\n",
       "      <td>0.050443</td>\n",
       "      <td>0.148927</td>\n",
       "      <td>0.087732</td>\n",
       "      <td>0.137614</td>\n",
       "      <td>0.356848</td>\n",
       "      <td>112.628381</td>\n",
       "      <td>190475.476190</td>\n",
       "      <td>4.000000</td>\n",
       "      <td>249.000000</td>\n",
       "    </tr>\n",
       "    <tr>\n",
       "      <th>AGWA</th>\n",
       "      <td>0.729000</td>\n",
       "      <td>0.412875</td>\n",
       "      <td>3.375000</td>\n",
       "      <td>-9.187375</td>\n",
       "      <td>0.750000</td>\n",
       "      <td>0.154537</td>\n",
       "      <td>0.461350</td>\n",
       "      <td>0.000016</td>\n",
       "      <td>0.164875</td>\n",
       "      <td>0.637375</td>\n",
       "      <td>118.620875</td>\n",
       "      <td>198623.250000</td>\n",
       "      <td>3.875000</td>\n",
       "      <td>263.500000</td>\n",
       "    </tr>\n",
       "    <tr>\n",
       "      <th>ALMA</th>\n",
       "      <td>0.532050</td>\n",
       "      <td>0.502528</td>\n",
       "      <td>6.299652</td>\n",
       "      <td>-7.526021</td>\n",
       "      <td>0.960511</td>\n",
       "      <td>0.080033</td>\n",
       "      <td>0.619858</td>\n",
       "      <td>0.005185</td>\n",
       "      <td>0.188826</td>\n",
       "      <td>0.868913</td>\n",
       "      <td>155.439139</td>\n",
       "      <td>194347.716609</td>\n",
       "      <td>3.075494</td>\n",
       "      <td>710.771196</td>\n",
       "    </tr>\n",
       "  </tbody>\n",
       "</table>\n",
       "</div>"
      ],
      "text/plain": [
       "                        danceability    energy       key  loudness      mode  \\\n",
       "artist                                                                         \n",
       "99 Percent                  0.702933  0.785288  6.105769 -5.310769  0.451923   \n",
       "A Boogie Wit Da Hoodie      0.691098  0.603951  5.460784 -6.666588  0.441176   \n",
       "A R I Z O N A               0.673333  0.658667  3.190476 -6.950095  0.904762   \n",
       "AGWA                        0.729000  0.412875  3.375000 -9.187375  0.750000   \n",
       "ALMA                        0.532050  0.502528  6.299652 -7.526021  0.960511   \n",
       "\n",
       "                        speechiness  acousticness  instrumentalness  liveness  \\\n",
       "artist                                                                          \n",
       "99 Percent                 0.113213      0.061183          0.006985  0.191172   \n",
       "A Boogie Wit Da Hoodie     0.250470      0.284661          0.000007  0.128052   \n",
       "A R I Z O N A              0.050443      0.148927          0.087732  0.137614   \n",
       "AGWA                       0.154537      0.461350          0.000016  0.164875   \n",
       "ALMA                       0.080033      0.619858          0.005185  0.188826   \n",
       "\n",
       "                         valence       tempo    duration_ms  time_signature  \\\n",
       "artist                                                                        \n",
       "99 Percent              0.514827  121.102625  225123.009615        3.942308   \n",
       "A Boogie Wit Da Hoodie  0.470767  125.335000  190624.970588        4.000000   \n",
       "A R I Z O N A           0.356848  112.628381  190475.476190        4.000000   \n",
       "AGWA                    0.637375  118.620875  198623.250000        3.875000   \n",
       "ALMA                    0.868913  155.439139  194347.716609        3.075494   \n",
       "\n",
       "                        Unnamed: 0  \n",
       "artist                              \n",
       "99 Percent               70.903846  \n",
       "A Boogie Wit Da Hoodie  187.500000  \n",
       "A R I Z O N A           249.000000  \n",
       "AGWA                    263.500000  \n",
       "ALMA                    710.771196  "
      ]
     },
     "execution_count": 115,
     "metadata": {},
     "output_type": "execute_result"
    }
   ],
   "source": [
    "df_final=df_final.groupby(\"artist\").agg(\"mean\")\n",
    "df_final.head()"
   ]
  },
  {
   "cell_type": "code",
   "execution_count": null,
   "metadata": {},
   "outputs": [],
   "source": [
    "# Reference : https://medium.com/@samlupton/spotipy-get-features-from-your-favourite-songs-in-python-6d71f0172df0"
   ]
  }
 ],
 "metadata": {
  "kernelspec": {
   "display_name": "Python 3",
   "language": "python",
   "name": "python3"
  },
  "language_info": {
   "codemirror_mode": {
    "name": "ipython",
    "version": 3
   },
   "file_extension": ".py",
   "mimetype": "text/x-python",
   "name": "python",
   "nbconvert_exporter": "python",
   "pygments_lexer": "ipython3",
   "version": "3.6.10"
  }
 },
 "nbformat": 4,
 "nbformat_minor": 2
}
