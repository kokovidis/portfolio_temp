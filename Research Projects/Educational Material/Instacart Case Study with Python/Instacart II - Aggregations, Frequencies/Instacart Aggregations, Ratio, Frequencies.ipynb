{
  "cells": [
    {
      "metadata": {
        "_uuid": "443133c6e567ca1e3bf8d14626e52a2b39dc5ee4"
      },
      "cell_type": "markdown",
      "source": "# Introduction\nThis kernel has been created by the [Information Systems Lab](http://islab.uom.gr) at the University of Macedonia, Greece for the needs of the elective course Special Topics of Information Systems I at the [Business Administration](http://www.uom.gr/index.php?tmima=2&categorymenu=2) department of the University of Macedonia, Greece.\n\n\n# Business Insights\n* What is the size of the orders (basket size)?\n* Which products have the highest probability of being reordered?\n* How many reorders products do orders contain?\n\n# Python Skills\n* Aggregate data to calculate new variables\n* Turn a Series to a DataFrame\n* Renaming DataFrame columns\n* Group data to filter them\n* Calculating ratios\n* Sorting values\n* Selecting rows\n* Sort results on a barplot\n* Visualize Frequency Distributions\n* Calculate allocation rate (percentage)\n\n# Packages \n* pandas: .group_by(), .count(), .max(), .filter(), .mean(),  .sort_values(), .iloc[ ]\n* seaborn: .barplot()\n* matplotlib: .hist()"
    },
    {
      "metadata": {
        "_cell_guid": "79c7e3d0-c299-4dcb-8224-4455121ee9b0",
        "collapsed": true,
        "_uuid": "d629ff2d2480ee46fbb7e2d37f6b5fab8052498a",
        "trusted": false
      },
      "cell_type": "markdown",
      "source": "# Import data into Python\nWe load the required packages "
    },
    {
      "metadata": {
        "trusted": true,
        "_uuid": "ade7494679114eee3921819b364693735e49bc5f"
      },
      "cell_type": "code",
      "source": "import pandas as pd               # for data manipulation\nimport matplotlib.pyplot as plt   # for plotting \nimport seaborn as sns             # an extension of matplotlib for statistical graphics",
      "execution_count": null,
      "outputs": []
    },
    {
      "metadata": {
        "_uuid": "fb44963ea70a3c8e599e6a02332af8eb5ac2c462"
      },
      "cell_type": "markdown",
      "source": "and we load the CSV files that we will work with."
    },
    {
      "metadata": {
        "trusted": true,
        "_uuid": "3fd1053c5df37c229f665db95a5de680ecb13490"
      },
      "cell_type": "code",
      "source": "orders = pd.read_csv('../input/orders.csv' )\nproducts = pd.read_csv('../input/products.csv')\norder_products_prior = pd.read_csv('../input/order_products__prior.csv')",
      "execution_count": null,
      "outputs": []
    },
    {
      "metadata": {
        "_uuid": "e9baf3fffd3d61ea4cc4d6771b16ecd32c5b3a41"
      },
      "cell_type": "markdown",
      "source": "# 1. What is the size of the orders (basket size)?\nTo answer this question we have to :\n1. Find the basket size (number of products) of each order.\n2. Find the number of orders for each basket size.\n3. Visualize the results"
    },
    {
      "metadata": {
        "trusted": true,
        "_uuid": "e5581c9bb2cd1e539c726a47f7f4e9bfea9e19fe"
      },
      "cell_type": "markdown",
      "source": "## Step 1.1 Find the size (number of products) of each order.\nIn this step we want explore the basket size of the orders. To get this piece of information, we will have to explore the order_products_prior \ndata frame, which contains all the products placed in each order."
    },
    {
      "metadata": {
        "trusted": true,
        "_uuid": "a088be8acc50da46d4ca787479945ec201a62740"
      },
      "cell_type": "code",
      "source": "order_products_prior.head(12)",
      "execution_count": null,
      "outputs": []
    },
    {
      "metadata": {
        "_uuid": "729e1763524322e8c7f1f3c8a8840d9a2d284d7d"
      },
      "cell_type": "markdown",
      "source": "As you can see, for the first order (order_id=2) , 9 products were placed in the cart. Our goal is to find how many products are included in each order.\n\nTo achieve this, we follow a procedure that consists of two steps:\n1. Split our DataFrame into groups: The groups are created based on the different values that can be found on a specific column (in our case different order numbers in the column \"order_id\"). Note that the column has categorical data rather than actual values.\n2. Apply an aggregation function on them: Aggregation functions are actually all these functions that can turn the values of a column of group into a single value. Some aggregation functions are the mean, count, sum, max & min.\n\nIn our case we use count() aggregation function which returns the number of values found on a column (in our case product_id). Subsequently, we will get the number of products placed on each order."
    },
    {
      "metadata": {
        "trusted": true,
        "_uuid": "ec0138b4cc820b97d8b9608ac454446c04c822bd"
      },
      "cell_type": "code",
      "source": "size = order_products_prior.groupby('order_id')[['product_id']].count()\nsize.head(10)",
      "execution_count": null,
      "outputs": []
    },
    {
      "metadata": {
        "_uuid": "ec9b31c48e6484707108332a6017648c7af2eecf"
      },
      "cell_type": "markdown",
      "source": "Actually with the .head(10) we have selected to see the order size of only 10 out of 3.214.874 orders. For example, the order with id=2 has 9 products, the id=3 has 8 products and so on. \n\nAs you can see the results are saved in a column with label 'product_id' , the same as the label as of column that we applied the aggregation function on. As we do not want toget confused with the label of the initial column, we modify the column label of size DataFrame:"
    },
    {
      "metadata": {
        "trusted": true,
        "_uuid": "920bf64251fd4194bbfb0485352fc4b171b02f0c"
      },
      "cell_type": "code",
      "source": "size.columns= ['order_size']\nsize.head()",
      "execution_count": null,
      "outputs": []
    },
    {
      "metadata": {
        "_uuid": "2f846e8ae09060bd65269325a91a244ae222dc57"
      },
      "cell_type": "markdown",
      "source": "## Your Turn 📚📝\nHow can you produce the above results with a different way?"
    },
    {
      "metadata": {
        "trusted": true,
        "_uuid": "9f9a69f64ee867cd3132bcb61fad75c7e7b732f0"
      },
      "cell_type": "code",
      "source": "# First check the available data on order_products_prior\norder_products_prior.head()",
      "execution_count": null,
      "outputs": []
    },
    {
      "metadata": {
        "trusted": true,
        "_uuid": "3118fc52a5deb32f5314a2e67de79bd8d98120ba"
      },
      "cell_type": "code",
      "source": "# Write your answer\nsize = order_products_prior.groupby('order_id')[['add_to_cart_order']].max()\nsize.columns= ['order_size']\nsize.head()",
      "execution_count": null,
      "outputs": []
    },
    {
      "metadata": {
        "_uuid": "dec32698ef84a8a7de29be4d5bb445c016f40ae6"
      },
      "cell_type": "markdown",
      "source": "## Step 1.2 Find the number of orders for each basket size.\nNow we groupby size DataFrame by order_size. We use the aggregating function count() on the same column to find the total orders for each order size."
    },
    {
      "metadata": {
        "trusted": true,
        "_uuid": "db7783d378befd0dc5b24a45198563258448deef"
      },
      "cell_type": "code",
      "source": "size_results = size.groupby('order_size')[['order_size']].count()\nsize_results.columns = ['total_orders']\nsize_results.head()",
      "execution_count": null,
      "outputs": []
    },
    {
      "metadata": {
        "_uuid": "2be3e8b73c46ea2e5900683cc51732d0a2211ecb"
      },
      "cell_type": "markdown",
      "source": "## Step 1.3 Visualize the results\nNow we visualize these results with the use of sns.barplot function. <br/>\nFor the x-axis values, we will get the index ( order_size - [1,2,3 ...] ) from size DataFrame. <br/>\nAnd for the y-axis the column total_orders [156748, 186993, ...] of the same DataFrame.<br/>\nIn addition we modify the range for the x-ticks starting from zero and ending to the highest value. "
    },
    {
      "metadata": {
        "trusted": true,
        "_uuid": "ebbb8a83821b7dcd327c7d35e3ec555c3c7c473e"
      },
      "cell_type": "code",
      "source": "plt.figure(figsize=(15,10))\n#size_of_order will be on our x-axis and total_orders the y-axis\ngraph = sns.barplot(size_results.index, size_results.total_orders)\n# we modify the x-ticks\ngraph.set( xticks=list( range(0,size_results.index.max(),10) ), xticklabels=list( range(0,size_results.index.max(),10) ) )\nplt.ylabel('Number of orders', fontsize=15)\nplt.xlabel('Number of products', fontsize=15)\nplt.show()",
      "execution_count": null,
      "outputs": []
    },
    {
      "metadata": {
        "_uuid": "7be8d5a38486c837d3af20b5c852e655b443019a"
      },
      "cell_type": "markdown",
      "source": "# 2. Which products have the highest probability of being reordered?\nIn this section we want to find the products which have the highest probability of being reordered. Towards this end it is necessary to define the probability as below:\n![Probability](https://imgur.com/VLgKGeY.png)\nExample: The product with product_id=2 is included in 90 purchases but only 12 are reorders. So we have:  \n![prob2](https://latex.codecogs.com/gif.latex?reordered%5C_pr%28product%5C_id%3D%3D2%29%3D%5Cfrac%7B12%7D%7B90%7D%3D0%2C133)\n\n\n## 2.1. Remove products with less than 40 purchases\n### 2.1.1 Filter with .shape[0]\nBefore we proceed to this estimation, we remove all these products that have less than 40 purchases in order the calculation of the aforementioned ratio to be meaningful.\n\nHave a look on order_products data frame:"
    },
    {
      "metadata": {
        "_uuid": "7d9773fbc022c93b338f76cc6e4876fb77f4b37c"
      },
      "cell_type": "markdown",
      "source": "Using groupby() we create groups for each product and using filter( ) we keep only groups with more than 40 rows. Towards this end, we indicate a lambda function."
    },
    {
      "metadata": {
        "trusted": true,
        "_uuid": "1300bc2cdf5ae7c80200f95a194b64731d95dd08"
      },
      "cell_type": "code",
      "source": "# execution time: 25 sec\n# the x on lambda function is a temporary variable which represents each group\n# shape[0] on a DataFrame returns the number of rows\nreorder = order_products_prior.groupby('product_id').filter(lambda x: x.shape[0] >40)\nreorder.head()",
      "execution_count": null,
      "outputs": []
    },
    {
      "metadata": {
        "_uuid": "942033d190ba2fb9f457653fca969be09d7eda08"
      },
      "cell_type": "markdown",
      "source": "### 2.1.2 Your Turn 📚📝\nHow can you produce the above results with another filter?"
    },
    {
      "metadata": {
        "trusted": true,
        "_uuid": "da7e220f8c80f7eb28fd7f75650133e2d72c186c"
      },
      "cell_type": "code",
      "source": "#execution time 30 sec\nreorder = order_products_prior.groupby('product_id').filter(lambda x: x.product_id.count() >40)\nreorder.head()",
      "execution_count": null,
      "outputs": []
    },
    {
      "metadata": {
        "_uuid": "b4c2389d22ff4079480a7378a018a3535da50399"
      },
      "cell_type": "markdown",
      "source": "## 2.2 Group products, calculate the mean of reorders\n\nNow to calculate the reorder probability we will use the aggregation function mean() to the reordered column. In the reorder data frame, the reordered column indicates that a product has been reordered when the value is 1.\n\nSo the mean() calculates how many times a product has been reordered, divided by how many times has been ordered in total. \n\nE.g., for a product that has been ordered 6 times in total, where 3 times has been reordered, the ratio will be:\n\n![example ratio](https://latex.codecogs.com/gif.latex?\\bg_white&space;mean=&space;\\frac{0&plus;1&plus;0&plus;0&plus;1&plus;1}{6}&space;=&space;0,5) \n\nNow we calculate the ratio for each product. The aggregation function is limited to column 'reordered' and it calculates the mean value of each group."
    },
    {
      "metadata": {
        "trusted": true,
        "_uuid": "fb55ed8c84a912a6ed980abb8fc19a7f8457f4bd",
        "scrolled": true
      },
      "cell_type": "code",
      "source": "reorder = reorder.groupby('product_id')[['reordered']].mean()\nreorder.columns = ['reorder_ratio']\nreorder.head()",
      "execution_count": null,
      "outputs": []
    },
    {
      "metadata": {
        "_uuid": "4bfc3b16f6a1e0ac7dbb1813cb810dcbe3e5982a"
      },
      "cell_type": "markdown",
      "source": "And now we sort the products by their mean and we select the 10 products which have the highest reorder probability"
    },
    {
      "metadata": {
        "trusted": true,
        "_uuid": "a1de30586d9caa2ed95ae3f71dc4cd9dcc782444"
      },
      "cell_type": "code",
      "source": "reorder = reorder.sort_values(by='reorder_ratio', ascending=False)\nreorder_10 = reorder.iloc[0:10]\nreorder_10.head(10)",
      "execution_count": null,
      "outputs": []
    },
    {
      "metadata": {
        "_uuid": "f9b3753094e4f485b1c0d8d4bf58144faef0556e"
      },
      "cell_type": "markdown",
      "source": "## 2.3 Visualize the results\nHere we show how we can visualize the results for the 10 products with the highest ratio. To make the bars ordered by the highest to the lowest value, we pass the argument <b> order=reorder_10.index </b> to the sns.barplot( ) function."
    },
    {
      "metadata": {
        "_uuid": "6b071c450d08d3c8061a19e96620c1572339d57a"
      },
      "cell_type": "markdown",
      "source": "\n"
    },
    {
      "metadata": {
        "trusted": true,
        "_uuid": "678fe9fb8c121a3fc3aaad46241f1416607001ed"
      },
      "cell_type": "code",
      "source": "plt.figure(figsize=(12,8))\nsns.barplot(reorder_10.index, reorder_10.reorder_ratio, order=reorder_10.index)\nplt.xlabel('10 top products \\n Note that each ID corresponds to a product from products data frame', size=15)\nplt.ylabel('Reorder probability', size=15)\n#we set the range of y-axis to a bit lower from the lowest probability and a bit higher from the higest probability\nplt.ylim(0.87,0.95)\nplt.show()",
      "execution_count": null,
      "outputs": []
    },
    {
      "metadata": {
        "_uuid": "6e00ac505585f43ff52b6d3699ab2fff840bf9af"
      },
      "cell_type": "markdown",
      "source": "If you want to see the name of product with the highest probability, you can search on products dataframe:"
    },
    {
      "metadata": {
        "trusted": true,
        "_uuid": "f6a0b7a333e5a89db434471917da2d221b70e116"
      },
      "cell_type": "code",
      "source": "products[products.product_id == 6433]",
      "execution_count": null,
      "outputs": []
    },
    {
      "metadata": {
        "_uuid": "fe8f585da30686589e3b4f5569ab14404c9bd69d"
      },
      "cell_type": "markdown",
      "source": "## 2.4 Create a distribution plot of reorder probability\nNow we want to summarize the information for reorder probability of all products. To achieve this, we create a distribution plot for the reordered ratio with the hist( ) plot of matplotlib. The argument bins=100 indicates that we want 100 bins for our distribution"
    },
    {
      "metadata": {
        "trusted": true,
        "_uuid": "1b10310c6d69b9ba26ebaabc0f40a84723f94ef8"
      },
      "cell_type": "code",
      "source": "plt.hist(reorder.reorder_ratio, bins=100)\nplt.show()",
      "execution_count": null,
      "outputs": []
    },
    {
      "metadata": {
        "_uuid": "457fbec898594a4ba18862b4cd03bc78c01fa003"
      },
      "cell_type": "markdown",
      "source": "# 3. How frequent an order has reordered products?\n## 3.1 Group orders, calculate the mean of reorders\nIn this business insight we create a ratio which shows for each order in what extent has products that have been reordered in the past.\nSo we create the following ratio: <br>\n![ratio](https://latex.codecogs.com/gif.latex?probability\\&space;reordered=&space;\\frac{count\\&space;of\\&space;reorder\\&space;products}{total\\&space;products\\&space;purchased})\n\nTo create this ratio we groupby order_products_prior by each order and then calculate the mean of reordered."
    },
    {
      "metadata": {
        "trusted": true,
        "_uuid": "e1d8b12836372e5512c4b9f438bbe8f24093423d"
      },
      "cell_type": "code",
      "source": "reorder_ratio_orders= order_products_prior.groupby('order_id')[['reordered']].mean()\nreorder_ratio_orders.columns= ['reordered_ratio']\nreorder_ratio_orders.head()",
      "execution_count": null,
      "outputs": []
    },
    {
      "metadata": {
        "trusted": true,
        "_uuid": "9af56472e2163471b143fe35389b563b5b532486"
      },
      "cell_type": "markdown",
      "source": "A value equal to 1 means that all products have been reordered where 0 means none has been reordered.\n## 3.2 Create a distribution plot of reorder probability\nNow we create a distribution for the ratio across the different orders.\n\n"
    },
    {
      "metadata": {
        "trusted": true,
        "_uuid": "7faa9c6465c81af00869eb20859896f51db4f1ad"
      },
      "cell_type": "code",
      "source": "plt.hist(reorder_ratio_orders.reordered_ratio, bins=20)\nplt.show()",
      "execution_count": null,
      "outputs": []
    },
    {
      "metadata": {
        "trusted": true,
        "_uuid": "97f51ceeb9de09b44db710c34cfd453c259b31a7"
      },
      "cell_type": "markdown",
      "source": "## 3.3 Your Turn 📚📝\nCount how many orders have reorder ratio = 1. What is the allocation rate (percentage) compared to total orders?\n"
    },
    {
      "metadata": {
        "trusted": true,
        "_uuid": "b3e67d4c45acf1ca0514656ce9724f1045c1ab61"
      },
      "cell_type": "code",
      "source": "# Write your code here\nreorder_ratio_orders[reorder_ratio_orders.reordered_ratio== 1].count()",
      "execution_count": null,
      "outputs": []
    },
    {
      "metadata": {
        "trusted": true,
        "_uuid": "e2356c54c3689b9e40de4263cca78f14e6a3cdbf"
      },
      "cell_type": "code",
      "source": "ratio_one_count = reorder_ratio_orders[reorder_ratio_orders.reordered_ratio== 1].count()\nall_orders = reorder_ratio_orders.reordered_ratio.count()\npercentage = (ratio_one_count / all_orders)*100\nprint('Orders with reorder ratio = 1 are ' + str(round(percentage[0], 2)) + ' % of all orders.')",
      "execution_count": null,
      "outputs": []
    },
    {
      "metadata": {
        "_uuid": "260d26fc0c542020db4a800654f2894b0a52f49e"
      },
      "cell_type": "markdown",
      "source": "# 4 Save the reorder_ratio for each product (Ch. 2) to a pickle"
    },
    {
      "metadata": {
        "trusted": true,
        "_uuid": "0925ad64d5112158c3479a1c5afb3517c6a6e361"
      },
      "cell_type": "code",
      "source": "reorder.to_pickle('reorder_prob_products.pkl', compression='infer', protocol=4)",
      "execution_count": null,
      "outputs": []
    },
    {
      "metadata": {
        "_uuid": "cb50e93fe31d73a37cfe683616b83d033d1bcb32"
      },
      "cell_type": "markdown",
      "source": ""
    }
  ],
  "metadata": {
    "kernelspec": {
      "display_name": "Python 3",
      "language": "python",
      "name": "python3"
    },
    "language_info": {
      "name": "python",
      "version": "3.6.6",
      "mimetype": "text/x-python",
      "codemirror_mode": {
        "name": "ipython",
        "version": 3
      },
      "pygments_lexer": "ipython3",
      "nbconvert_exporter": "python",
      "file_extension": ".py"
    }
  },
  "nbformat": 4,
  "nbformat_minor": 1
}