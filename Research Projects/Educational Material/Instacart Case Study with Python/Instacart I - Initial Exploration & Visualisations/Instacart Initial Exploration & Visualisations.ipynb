{
  "cells": [
    {
      "metadata": {
        "_uuid": "5284afa9bdaf36c2d9ec0b8ef95a71d630a793e2",
        "button": false,
        "new_sheet": false,
        "run_control": {
          "read_only": false
        }
      },
      "cell_type": "markdown",
      "source": "# 1 Introduction\nThis kernel has been created by the [Information Systems Lab](http://islab.uom.gr) at the University of Macedonia,  Greece for the needs of the elective course  **Special Topics of Information Systems I**  at the [Business Administration](http://www.uom.gr/index.php?newlang=eng&tmima=2&categorymenu=2) department of the University of Macedonia, Greece.\n\n## 1.1 Business Insights\nIn this notebook you will explore Instacart data in order to answer the following business questions:\n* When do customers order?\n* How many orders do customers make? \n* How often do customers place orders?\n\n## 1.2 Python Skills\nIn this notebook you will practice the following Python skills:\n* Import packages \n* Import .csv files into Pandas DataFrames\n* Explore DataFrames\n* Use Pandas to create boxplots & barplots\n* Use Seaborn package to create histograms\n* Use Pyplot module of the Matplotlib package to create histograms\n* Use Pyplot module of the Matplotlib package to create subplots\n\n## 1.3 Packages and methods\n* pandas:  .shape , .info() , .head(), .boxplot(), .value_counts(), .plot() <br>\n* seaborn:  countplot() <br>\n* matplotlib.pyplot: figure(), xlabel(), ylabel(), title(), show(), subplots()"
    },
    {
      "metadata": {
        "_uuid": "8ba4359080b8ad9d9444fba91f9e78cdf3733df2",
        "button": false,
        "new_sheet": false,
        "run_control": {
          "read_only": false
        }
      },
      "cell_type": "markdown",
      "source": "# 2 Import Packages\nThe first step is the installation of the necessary packages. In this notebook we use three packages, namely pandas, seaborn, and matplotlib.\n\n* Pandas: a Python package providing fast, flexible, and expressive data structures designed to make working with “relational” or “labeled” data both easy and intuitive\n\n* Seaborn: a Python data visualization library. It provides a high-level interface for drawing attractive and informative statistical graphics. Seaborn is based on Matplotlib (see below).\n\n* Matplotlib: a Python 2D plotting library which produces publication quality figures in a variety of hardcopy formats and interactive environments across platforms\n\nThe aforementioned Python packages are pre-installed for us, so we just need to load them. We use the command **import ** which loads the packages. The **as** keyword is used to indicate an alias to every package; an alternative way to call each imported package. "
    },
    {
      "metadata": {
        "_uuid": "cf4543b8c18148de048f3c587f9edf59f11b59bd",
        "button": false,
        "new_sheet": false,
        "run_control": {
          "read_only": false
        },
        "trusted": true
      },
      "cell_type": "code",
      "source": "import pandas as pd               # for data manipulation\nimport matplotlib.pyplot as plt   # for plotting \nimport seaborn as sns             # an extension of matplotlib for statistical graphics",
      "execution_count": null,
      "outputs": []
    },
    {
      "metadata": {
        "_uuid": "6274e2fd955ac19e141fac4f6880f03515517b0c",
        "button": false,
        "new_sheet": false,
        "run_control": {
          "read_only": false
        }
      },
      "cell_type": "markdown",
      "source": "# 3 Import Dataset\nThe dataset that was opened up by Instacart is a relational set of files describing customers' orders over time. It consists of information about 3.4 million grocery orders from more than 200,000 Instacart users, distributed across 6 csv files. For each user, it provides between 4 and 100 of their orders, with the sequence of products purchased in each order. It also provides the week and hour of day the order was placed, and a relative measure of time between orders.\n\n## 3.1 Dataset Description\n* orders.csv: All the grocery orders\n![Orders](https://imgur.com/835yq4H.png)\n* products.csv: All the products\n![Products](https://imgur.com/T14BswO.png)\n* order_products_train.csv - order_products_prior.csv: These files specify which products were purchased in each order. order_products__prior.csv contains previous order contents for all customers. 'reordered' indicates that the customer has a previous order that contains the product. Note that some orders will have no reordered items.\n![Order_Products](https://imgur.com/A4JSWju.png)\n* aisles.csv: All the different aisles\n![Aisles](https://imgur.com/ZQZQTwn.png)\n* departments.csv: All the different departments\n![Departments](https://imgur.com/HRp7KSV.png)\n____"
    },
    {
      "metadata": {
        "_cell_guid": "b1076dfc-b9ad-4769-8c92-a6c4dae69d19",
        "_uuid": "8f2839f25d086af736a60e9eeb907d3b93b6e0e5",
        "button": false,
        "new_sheet": false,
        "run_control": {
          "read_only": false
        }
      },
      "cell_type": "markdown",
      "source": "# 3.2 Create DataFrames\nAfter that, we have to import the data from the available .CSV files. Towards this end, we use the pd.read_csv() function, which is included in the pandas package. This function facilitates importing large datasets into Python. Reading in your data with the <b>pd.read_csv()</b> function returns you a DataFrame, an object that can host data tables. For the time being we will only import the orders.csv file:"
    },
    {
      "metadata": {
        "_uuid": "5146afc6f537838201b2dd9d94794b4715bbca0e",
        "button": false,
        "new_sheet": false,
        "run_control": {
          "read_only": false
        },
        "trusted": true
      },
      "cell_type": "code",
      "source": "orders = pd.read_csv('../input/orders.csv' )",
      "execution_count": null,
      "outputs": []
    },
    {
      "metadata": {
        "_uuid": "1f1ac4110d459a73ac4b62c6d3c88c3274a50acd",
        "button": false,
        "new_sheet": false,
        "run_control": {
          "read_only": false
        }
      },
      "cell_type": "markdown",
      "source": "# 4 DataFrames exploration\nNow we show how we can get some initial information for the orders DataFrame.\n\nThe <b>.shape</b> retrieves the dimensions of an object. "
    },
    {
      "metadata": {
        "_uuid": "542410dd83bc0c63d7f586537b8d94a6b50ce1bd",
        "button": false,
        "collapsed": true,
        "new_sheet": false,
        "run_control": {
          "read_only": false
        },
        "trusted": false
      },
      "cell_type": "code",
      "source": "orders.shape",
      "execution_count": null,
      "outputs": []
    },
    {
      "metadata": {
        "_uuid": "26dfe361b521ffc58f0e4efa194e8fc740a565fa",
        "button": false,
        "new_sheet": false,
        "run_control": {
          "read_only": false
        }
      },
      "cell_type": "markdown",
      "source": "The <b>.info()</b> presents the columns' names, types and more details regarding the DataFrame "
    },
    {
      "metadata": {
        "_uuid": "79f3ea1f350e7b48ae43f4fe10d37d2dde7dbecc",
        "button": false,
        "collapsed": true,
        "new_sheet": false,
        "run_control": {
          "read_only": false
        },
        "trusted": false
      },
      "cell_type": "code",
      "source": "orders.info()",
      "execution_count": null,
      "outputs": []
    },
    {
      "metadata": {
        "_uuid": "31ec81ce5e0454f157f281ebd22507e0e083f3d4",
        "button": false,
        "new_sheet": false,
        "run_control": {
          "read_only": false
        }
      },
      "cell_type": "markdown",
      "source": "While <b>.head()</b> returns the first rows of the DataFrame."
    },
    {
      "metadata": {
        "_uuid": "4150566433b23e08f60e8456a6409d66eaaf655e",
        "button": false,
        "collapsed": true,
        "new_sheet": false,
        "run_control": {
          "read_only": false
        },
        "trusted": false
      },
      "cell_type": "code",
      "source": "#the argument in .head() represents how many first rows we want to get.\norders.head(12)",
      "execution_count": null,
      "outputs": []
    },
    {
      "metadata": {
        "_uuid": "b432f51146bcbeba4fb8eb2b913b8235fc7c919e",
        "button": false,
        "new_sheet": false,
        "run_control": {
          "read_only": false
        }
      },
      "cell_type": "markdown",
      "source": "What we can understand by looking at the result of the <b>.head()</b> at the orders DataFrame? \n\nWe see that there is a sequence of all orders made from customers. One order per row. For example, we can see that user 1 has 11 orders, 1 of which is in the train set, and 10 of which are prior orders. The orders.csv does not include information about the products that were ordered. This piece of information is contained in the order_products.csv ."
    },
    {
      "metadata": {
        "_uuid": "4971a4c3ca98f544eb13801cb6d403e05c64fda4",
        "button": false,
        "new_sheet": false,
        "run_control": {
          "read_only": false
        }
      },
      "cell_type": "markdown",
      "source": "## Your turn 📚📝\n\nYou will now explore the departments.csv file. First you will need to import it and save it as a DataFrame:"
    },
    {
      "metadata": {
        "_uuid": "63f896284c36ff5f4673488b5906e96164747b35",
        "button": false,
        "new_sheet": false,
        "run_control": {
          "read_only": false
        },
        "trusted": true
      },
      "cell_type": "code",
      "source": "#1. Import departments.csv from directory: ../input/departments.csv'\ndepartments = pd.read_csv('../input/departments.csv')",
      "execution_count": null,
      "outputs": []
    },
    {
      "metadata": {
        "_uuid": "2a3a9dd9daf0934729e8ec07ef3624b6a13ad554",
        "button": false,
        "new_sheet": false,
        "run_control": {
          "read_only": false
        }
      },
      "cell_type": "markdown",
      "source": "Now use the appropiate method to get the first 10 rows of the DataFrame."
    },
    {
      "metadata": {
        "_uuid": "1e39cee8830910c6b65b30eb5ed04c9d72455f00",
        "button": false,
        "collapsed": true,
        "new_sheet": false,
        "run_control": {
          "read_only": false
        },
        "trusted": false
      },
      "cell_type": "code",
      "source": "departments.head(10)",
      "execution_count": null,
      "outputs": []
    },
    {
      "metadata": {
        "_uuid": "fff90577f65e0310144a9ba341a128716ded8948",
        "button": false,
        "new_sheet": false,
        "run_control": {
          "read_only": false
        }
      },
      "cell_type": "markdown",
      "source": "Find how many rows and columns the departments DataFrame has."
    },
    {
      "metadata": {
        "_uuid": "52b9b72d481fcfd325115346c0478e0b069cf249",
        "button": false,
        "collapsed": true,
        "new_sheet": false,
        "run_control": {
          "read_only": false
        },
        "trusted": false
      },
      "cell_type": "code",
      "source": "departments.shape",
      "execution_count": null,
      "outputs": []
    },
    {
      "metadata": {
        "_uuid": "9ffff8443cef25bea49550d42d7ee783af34fb67",
        "button": false,
        "new_sheet": false,
        "run_control": {
          "read_only": false
        }
      },
      "cell_type": "markdown",
      "source": "Can you get the type of each column?"
    },
    {
      "metadata": {
        "_uuid": "d433d8a2909319ce5d8b65ed864674a5a14fe8d2",
        "button": false,
        "new_sheet": false,
        "run_control": {
          "read_only": false
        },
        "trusted": true
      },
      "cell_type": "code",
      "source": "departments.info()",
      "execution_count": null,
      "outputs": []
    },
    {
      "metadata": {
        "_uuid": "7b06f75a24ca4c8abe553d0e53cbb9033daba1fa",
        "button": false,
        "new_sheet": false,
        "run_control": {
          "read_only": false
        }
      },
      "cell_type": "markdown",
      "source": "# 5 When do customers order?\nLet’s have a look when customers buy groceries online. Towards this end, we explore the orders DataFrame."
    },
    {
      "metadata": {
        "_uuid": "4bb7e7182e1167e66e8cb0b898c2f32176eb2dcd",
        "button": false,
        "collapsed": true,
        "new_sheet": false,
        "run_control": {
          "read_only": false
        },
        "trusted": false
      },
      "cell_type": "code",
      "source": "orders.head()",
      "execution_count": null,
      "outputs": []
    },
    {
      "metadata": {
        "_uuid": "3fbd1428a642961bc0c5878d2f50c2e82bcababd",
        "button": false,
        "new_sheet": false,
        "run_control": {
          "read_only": false
        }
      },
      "cell_type": "markdown",
      "source": "## 5.1 Hour of Day\nTo find out how many orders are placed in each hour of the day, we use the **order_hour_of_day** column of the DataFrame. In particular, we need to count how many times each hour appears on the **order_hour_of_day**.\nFor example, for the first 5 orders that have been placed on hours: 8, 7, 12, 7, 15, one order has been place at 8hr, two at 7hr, one at 12hr and one at 15hr.  To extend this to all values on **order_hour_of_day**, we use the <b>.value_counts( )</b> method, which returns a Series with the unique values that can be found on a column and how many times they appear on it. "
    },
    {
      "metadata": {
        "_uuid": "a4bff9d6854f9f3c716d950671b91b3fadaf5253",
        "button": false,
        "collapsed": true,
        "new_sheet": false,
        "run_control": {
          "read_only": false
        },
        "trusted": false
      },
      "cell_type": "code",
      "source": "order_hours = orders.order_hour_of_day.value_counts()\norder_hours",
      "execution_count": null,
      "outputs": []
    },
    {
      "metadata": {
        "_uuid": "785efe8ed1e084348e3d2dc42a49f3aeca85f52a",
        "button": false,
        "new_sheet": false,
        "run_control": {
          "read_only": false
        }
      },
      "cell_type": "markdown",
      "source": "So, from the above Series we conclude that most orders were placed at 10hr and the fewest at 3hr. \nWith **.plot.bar( )** method of Pandas for Series we can create a barplot to visualize the results:"
    },
    {
      "metadata": {
        "_uuid": "495af41ea1a55d3f342349ee887704b7648b4577",
        "button": false,
        "collapsed": true,
        "new_sheet": false,
        "run_control": {
          "read_only": false
        },
        "trusted": false
      },
      "cell_type": "code",
      "source": "#alternative syntax : order_hours.plot(kind='bar')\norder_hours.plot.bar()",
      "execution_count": null,
      "outputs": []
    },
    {
      "metadata": {
        "_uuid": "33004ef7261f7c2a72180734af400a8bb6d0093d",
        "button": false,
        "new_sheet": false,
        "run_control": {
          "read_only": false
        }
      },
      "cell_type": "markdown",
      "source": "Note that the results are presented in the same order as of order_hours, starting from the most occuring value to the least occurring value."
    },
    {
      "metadata": {
        "_uuid": "cdea06955b69de3682aa28a89872b75aeb9a8493",
        "button": false,
        "new_sheet": false,
        "run_control": {
          "read_only": false
        }
      },
      "cell_type": "markdown",
      "source": "Now we show how we can calulate the above series and visualize it using the <b>countplot( )</b> function of seaborn package. \nThe countplot( ) function counts observations in each categorical bin and then visualize the results in a histogram chart.\n\nSo for our example, we pass to the first argument (x= ) the column name which contain the hour of the day where an order has been placed and in the second argument (data = ) we pass the data frame where the column can be found on."
    },
    {
      "metadata": {
        "_uuid": "00c920392ca98511128bab547280923c751c2cd4",
        "button": false,
        "collapsed": true,
        "new_sheet": false,
        "run_control": {
          "read_only": false
        },
        "trusted": false
      },
      "cell_type": "code",
      "source": "#Remember that the alias that we have defined for seaborn is the sns.\nsns.countplot(x=\"order_hour_of_day\", data=orders, color='red')",
      "execution_count": null,
      "outputs": []
    },
    {
      "metadata": {
        "_uuid": "aa3bfeaf38f6d9ac726225e42a45de066669121c",
        "button": false,
        "new_sheet": false,
        "run_control": {
          "read_only": false
        }
      },
      "cell_type": "markdown",
      "source": "Looking at the histogram we can understand that there is a clear effect of hour of day on order volume. Most orders are between 8.00-18.00. Here the results are presented following the arithmetic sequence of the order_hour_of_day (0,1,2, .. ,23).\n\nNow we show some examples of how to adjust the size of the plot, the color of the bar chart, the names of the axis and the title of the plot. \n\nTo achieve this, we use the <b>matplotlib.pyplot</b> package (remember that it has alias plt) to edit further the produced plot. <br/>\nIn this case, we use the following structure:\n1. Define the size of our plot using the matplotlib.pyplot\n2. Define the plot that we want to produce with seaborn\n3. Add the names of axes and the title of plot using matplotlib.pyplot\n4. Use the plt.show( ) from matplotlib.pyplot to produce our plot"
    },
    {
      "metadata": {
        "_uuid": "ea0c1a8f898cbe640c38bb9af75a7d1b32ef3b10",
        "button": false,
        "collapsed": true,
        "new_sheet": false,
        "run_control": {
          "read_only": false
        },
        "trusted": false
      },
      "cell_type": "code",
      "source": "# Step one - define the dimensions of the plot (15 for x axis, 5 for y axis)\nplt.figure(figsize=(15,5))\n\n# Step two - define the plot that we want to produce with seaborn\n# Here we also define the color of the bar chart as 'red'\nsns.countplot(x=\"order_hour_of_day\", data=orders, color='red')\n\n# Step three - we define the name of the axes and we add a title to our plot\n# fontsize indicates the size of the titles\nplt.ylabel('Total Orders', fontsize=10)\nplt.xlabel('Hour of day', fontsize=10)\nplt.title(\"Frequency of order by hour of day\", fontsize=15)\n\n# Step four - we produce our plot\nplt.show()",
      "execution_count": null,
      "outputs": []
    },
    {
      "metadata": {
        "_uuid": "587e3e8cc49c6bccf557828e1d8aa6165c16ff03",
        "button": false,
        "new_sheet": false,
        "run_control": {
          "read_only": false
        }
      },
      "cell_type": "markdown",
      "source": "The produced plot, has exactly the same information as the previous, but now is more easy to be interpreted."
    },
    {
      "metadata": {
        "_uuid": "feb7909b5549975adf0a6d7ffbc9b4db5bbd6976",
        "button": false,
        "new_sheet": false,
        "run_control": {
          "read_only": false
        }
      },
      "cell_type": "markdown",
      "source": "## 5.2 Your turn: Day of Week 📚📝\n\nUse the above analysis to find out which day of the week has the most orders. To answer this question, you will need to use the **order_dow** column of orders DataFrame."
    },
    {
      "metadata": {
        "_kg_hide-output": true,
        "_uuid": "6641a012c10df2c1d5d4cb7b4bc43efd29a135ed",
        "button": false,
        "new_sheet": false,
        "run_control": {
          "read_only": false
        },
        "trusted": true
      },
      "cell_type": "code",
      "source": "sns.countplot(x=\"order_dow\" , data=orders )",
      "execution_count": null,
      "outputs": []
    },
    {
      "metadata": {
        "_uuid": "6635386a10cd66227a16e7b38e2679d93bb8d6fe",
        "button": false,
        "new_sheet": false,
        "run_control": {
          "read_only": false
        }
      },
      "cell_type": "markdown",
      "source": "Which day has the most orders and which the fewest?\n\nAs you can see the produced plot is small and it is difficult to be interpreted. Try now to:\n1. Create the same plot with dimensions 10x10\n2. Use a color of your desire for the bars - the name of all available colors can be found here: [Available colors on Seaborn](https://python-graph-gallery.com/100-calling-a-color-with-seaborn/)\n3. Add a proper title to the axes and the plot"
    },
    {
      "metadata": {
        "_uuid": "72ac2651ba469be456d5c0abe9145dd9b310a2e1",
        "button": false,
        "collapsed": true,
        "new_sheet": false,
        "run_control": {
          "read_only": false
        },
        "trusted": false
      },
      "cell_type": "code",
      "source": "plt.figure(figsize=(10,10))\nsns.countplot(x=\"order_dow\", data=orders, color='red')\nplt.ylabel('Volume of orders', fontsize=10)\nplt.xlabel('Day of week', fontsize=10)\nplt.title(\"Orders placed in each day of the week\", fontsize=15)\nplt.show()",
      "execution_count": null,
      "outputs": []
    },
    {
      "metadata": {
        "_uuid": "f1cad6e55084f4dc29781643ba7c12bfd759fbc4",
        "button": false,
        "new_sheet": false,
        "run_control": {
          "read_only": false
        }
      },
      "cell_type": "markdown",
      "source": "Now create a DataFrame that keeps only the first order of each customer"
    },
    {
      "metadata": {
        "_uuid": "31739e9a2f62f318895ddcf45280b02cbb4c1a24",
        "button": false,
        "new_sheet": false,
        "run_control": {
          "read_only": false
        },
        "trusted": true
      },
      "cell_type": "code",
      "source": "orders_first = orders[orders.order_number==1]\norders_first.head()",
      "execution_count": null,
      "outputs": []
    },
    {
      "metadata": {
        "_uuid": "2daffcb8f62046e68e1c48637521ec905c69665c",
        "button": false,
        "new_sheet": false,
        "run_control": {
          "read_only": false
        }
      },
      "cell_type": "markdown",
      "source": "And a DataFrame that keeps only the second order of each customer"
    },
    {
      "metadata": {
        "_uuid": "a05a9ea59d12125c0faa2d1888ab0eba0f1ba6f6",
        "button": false,
        "new_sheet": false,
        "run_control": {
          "read_only": false
        },
        "trusted": true
      },
      "cell_type": "code",
      "source": "orders_second = orders[orders.order_number==2]\norders_second.head()",
      "execution_count": null,
      "outputs": []
    },
    {
      "metadata": {
        "_uuid": "061f417edcd082cb363e8e6114744e2a0be5d8f2",
        "button": false,
        "new_sheet": false,
        "run_control": {
          "read_only": false
        }
      },
      "cell_type": "markdown",
      "source": "So to create two subplots of **order_dow** for first and second orders."
    },
    {
      "metadata": {
        "_uuid": "ed9f362c25e04b8a32d64e61fddafe2de9954c23",
        "button": false,
        "new_sheet": false,
        "run_control": {
          "read_only": false
        },
        "trusted": true
      },
      "cell_type": "code",
      "source": "#create a subplot which contains two plots; one down the other\nfig, axes = plt.subplots(nrows=2, ncols=1, figsize=(15,8))\n\n#assign each plot to the appropiate axes\nsns.countplot(ax=axes[0], x=\"order_dow\", data=orders_first, color='red')\nsns.countplot(ax=axes[1], x=\"order_dow\", data=orders_second, color='red')\n\n# produce the final plot\nplt.show()",
      "execution_count": null,
      "outputs": []
    },
    {
      "metadata": {
        "run_control": {},
        "_uuid": "46113b2c8420a584b5f3405a9eb422e7e81290af"
      },
      "cell_type": "markdown",
      "source": "## 5.3 Create a countplot that combines days and hours\nNow we will visualise the distributions of different days ('order_dow') and different hours (order_hour_of_day) on the same plot.\n\nTowards this end, we use the argument **hue**, which splits a variable based on an other variable. I our case we spit **order_hour_of_day** using the **order_dow** variable. "
    },
    {
      "metadata": {
        "collapsed": true,
        "trusted": false,
        "_uuid": "ae4a8e811acbcfb4aaaadf3b382c56bc36373f54"
      },
      "cell_type": "code",
      "source": "plt.figure(figsize=(15,5))\nsns.countplot(x=\"order_hour_of_day\", data=orders, color='red',  hue='order_dow')\nplt.ylabel('Total Orders', fontsize=10)\nplt.xlabel('Hour of day', fontsize=10)\nplt.title(\"Frequency of order by hour of day\", fontsize=15)\nplt.show()",
      "execution_count": null,
      "outputs": []
    },
    {
      "metadata": {
        "run_control": {},
        "_uuid": "1a63cdebad2e1a6ed58f60246d4b9305961f0e29"
      },
      "cell_type": "markdown",
      "source": "What we get here is a plot that describes for each day the orders placed for each hour."
    },
    {
      "metadata": {
        "_uuid": "8bca24ca4a0196ec61a1508e65b4f517691983eb",
        "button": false,
        "new_sheet": false,
        "run_control": {
          "read_only": false
        }
      },
      "cell_type": "markdown",
      "source": "# 6 How many orders do customers make? \n## 6.1 Create the countplot\nNow we want to find out how many orders do customers make.  To answer this question we will use again the orders DataFrame.\nLet's recall what information orders DataFrame include:"
    },
    {
      "metadata": {
        "_uuid": "150d6eccd0204936e92df82b791971fc7e0ff5b3",
        "button": false,
        "collapsed": true,
        "new_sheet": false,
        "run_control": {
          "read_only": false
        },
        "trusted": false
      },
      "cell_type": "code",
      "source": "orders.head(15)",
      "execution_count": null,
      "outputs": []
    },
    {
      "metadata": {
        "_uuid": "c047faa69f1ab41d7e7f67a20d98fce8e48ffef6",
        "button": false,
        "new_sheet": false,
        "run_control": {
          "read_only": false
        }
      },
      "cell_type": "markdown",
      "source": "Orders DataFrame include a column called **order_number**, which shows when an order has been placed (e.g. 1st order=1, 2nd order=2 etc.) . For example, the customer with used_id=1 has placed in total 11 orders. Thereafter, we could use on column **order_number** the Pandas method <b>.value_counts( )</b> to find how many times each value appears."
    },
    {
      "metadata": {
        "_uuid": "baa316be90622512b8122b0949bb7c59e471db3e",
        "button": false,
        "collapsed": true,
        "new_sheet": false,
        "run_control": {
          "read_only": false
        },
        "trusted": false
      },
      "cell_type": "code",
      "source": "order_count = orders.order_number.value_counts()\norder_count",
      "execution_count": null,
      "outputs": []
    },
    {
      "metadata": {
        "_uuid": "dc0b9d15dd47a2fc88d1efb15b43fea37df7fe1b",
        "button": false,
        "new_sheet": false,
        "run_control": {
          "read_only": false
        }
      },
      "cell_type": "markdown",
      "source": "From the above Series we see that all customers (206209) have made at least 4 orders. In other words, all users have 4 orders with order_number= 1 , 2 , 3 & 4. Finally only 1374 customers have made 100 orders. <br/>\n\nOnce again, we will use the ready function countplot of seaborn to count how many times each value appears and visualize the results."
    },
    {
      "metadata": {
        "_uuid": "d5b87f013417d9ed91828c3f12bfe68c1aee9e55",
        "button": false,
        "collapsed": true,
        "new_sheet": false,
        "run_control": {
          "read_only": false
        },
        "trusted": false
      },
      "cell_type": "code",
      "source": "# Set size 15x5 and bar color red\nplt.figure(figsize=(15,5))\nsns.countplot(x='order_number', data=orders, color='red')\nplt.ylabel('Total Customers', fontsize=10)\nplt.xlabel('Total Orders', fontsize=10)\nplt.show()",
      "execution_count": null,
      "outputs": []
    },
    {
      "metadata": {
        "_uuid": "03412f2db7c8d18e45c32c464e60e7a752a54bbd",
        "button": false,
        "new_sheet": false,
        "run_control": {
          "read_only": false
        }
      },
      "cell_type": "markdown",
      "source": "## 6.2 Modify the ticks on x-axis of a plot\n### 6.2.1 Manually edit the ticks\nTo address the problem of the overlapping labels on the x-axis, we manually edit the ticks on x-axis.\n\nTo achieve this, show a way to modify manually the x-ticks (the overlapping numbers). Towards this end we:\n* Assign the produced plot in a variable (in our case we name it 'graph')\n* Use the method .set( ) to set aesthetic parameters in one step [aesthetics definition; [ref.1 ](https://www.interaction-design.org/literature/book/the-encyclopedia-of-human-computer-interaction-2nd-ed/visual-aesthetics), [ref.2](http://www.visual-arts-cork.com/definitions/aesthetics.htm)]\n\n\nNote that this procedure is used on seaborn graphs."
    },
    {
      "metadata": {
        "run_control": {},
        "trusted": false,
        "_uuid": "e40f3998bd4453b04bd68cbddfee97678a561ffb"
      },
      "cell_type": "code",
      "source": "plt.figure(figsize=(15,5))\ngraph = sns.countplot(x='order_number', data=orders, color='red')\ngraph.set(xticks=[25,50,75,100], xticklabels=['25 orders','50 orders', '75 orders', '100 orders'] )\nplt.ylabel('Total Customers', fontsize=10)\nplt.xlabel('Total Orders', fontsize=10)\nplt.title('How many orders do customers make?')\nplt.show()",
      "execution_count": null,
      "outputs": []
    },
    {
      "metadata": {
        "run_control": {},
        "_uuid": "141f2c33ea6311fad6e9d0f4b7b07067e07d4389"
      },
      "cell_type": "markdown",
      "source": "Have a look on arguments xticks & xticklabels of .set( ) method:\n* xticks=[25,50,75,100] indicates which ticks to select\n* xticklabels=['25 orders','50 orders', '75 orders', '100 orders'] ) indicates what labels to use on each tick\n\nWhile xticks must match the corresponding labels of dependented value (x='order_number') , the xticklabels can have any name"
    },
    {
      "metadata": {
        "run_control": {},
        "_uuid": "4ad234d9d6385e7c8238df226dfcaa0fbb5849b1"
      },
      "cell_type": "markdown",
      "source": "### 6.2.2 Create a sequence for x-ticks; the use of built-in function range( ) "
    },
    {
      "metadata": {
        "collapsed": true,
        "trusted": false,
        "_uuid": "9f91c2376a6ed52bb8e57a19474631aa8003e07b"
      },
      "cell_type": "code",
      "source": "rg = list(range(0,101,10))\nrg",
      "execution_count": null,
      "outputs": []
    },
    {
      "metadata": {
        "run_control": {},
        "_uuid": "07a693e2767f5cc8938b1017706b054ee5d812da"
      },
      "cell_type": "markdown",
      "source": "So in the above results we request a sequence starting from 0, ending to 101, with step 10. To retrieve the results of a range function we need to pass it to the list( ) function.\n\nNow we use the above command as argument for both xticks & xticklabels on the produced plot above."
    },
    {
      "metadata": {
        "run_control": {},
        "trusted": true,
        "_uuid": "916874f1aeddc8aa0041f9756cac46e9fea317aa"
      },
      "cell_type": "code",
      "source": "plt.figure(figsize=(15,5))\ngraph=sns.countplot(x='order_number', data=orders, color='red')\ngraph.set( xticks=list( range(0,101,10) ), xticklabels=list( range(0,101,10) ) )\nplt.ylabel('Total Customers', fontsize=10)\nplt.xlabel('Total Orders', fontsize=10)\nplt.title('How many orders do customers make?')\nplt.show()",
      "execution_count": null,
      "outputs": []
    },
    {
      "metadata": {
        "_uuid": "00c5cb23f0124bf6aef5933fc6b8fa14357ec573"
      },
      "cell_type": "markdown",
      "source": "# 7 How often do customers place orders?\n## 7.1 Analysis of days_since_prior_order\nTo answer this business question we examine the **days_since_prior_order** column. This column contains the number of days that have passed since a prior order. <br>\nWith .max( ) method we can get the longest period that has passed since a prior order:"
    },
    {
      "metadata": {
        "trusted": true,
        "_uuid": "86735f7556c02e91161e436686187ce882546a2c"
      },
      "cell_type": "code",
      "source": "orders.days_since_prior_order.max()",
      "execution_count": null,
      "outputs": []
    },
    {
      "metadata": {
        "_uuid": "41ae37e3eaa2c1d21658c2bc820b6933fa0c65b5"
      },
      "cell_type": "markdown",
      "source": "With .mean() the average days that pass since a prior order:"
    },
    {
      "metadata": {
        "trusted": true,
        "_uuid": "9a068c63060747c530c6669cb791847a4857a9d0"
      },
      "cell_type": "code",
      "source": "orders.days_since_prior_order.mean()",
      "execution_count": null,
      "outputs": []
    },
    {
      "metadata": {
        "_uuid": "3388063f83a513750e31b2b35a4ea2b7585b41e9"
      },
      "cell_type": "markdown",
      "source": "But also we can get the .median() of days_since_prior_order:"
    },
    {
      "metadata": {
        "trusted": true,
        "_uuid": "89ef66ab6a04e13fce5a21cf497901debb1edd81"
      },
      "cell_type": "code",
      "source": "orders.days_since_prior_order.median()",
      "execution_count": null,
      "outputs": []
    },
    {
      "metadata": {
        "_uuid": "9aa839b6e75c708d07520d6c4cc5cb3fbc2efcc6"
      },
      "cell_type": "markdown",
      "source": "To have a broader view of variable <b>days_since_prior_order</b> from the <b>orders</b> DataFrame we create a [boxplot](https://en.wikipedia.org/wiki/Box_plot).\nWith the pandas'  <b>.boxplot()</b> method for DataFrames, we can calculate the median as well as the quartiles of a set of observations. Now we create a boxplot for the column \"days_since_prior_order\" ."
    },
    {
      "metadata": {
        "trusted": true,
        "_uuid": "cf166456b0416c8f42bb4497899b6ad5ac4f46d5"
      },
      "cell_type": "code",
      "source": "# alternative syntax: orders.days_since_prior_order.plot(kind='box')\norders.boxplot('days_since_prior_order')",
      "execution_count": null,
      "outputs": []
    },
    {
      "metadata": {
        "_uuid": "c09915d7353d9b5787379a1742da258c0d3192ef"
      },
      "cell_type": "markdown",
      "source": "From the above plot we see that 25% of the orders are placed at most 4 days after their previous order. In addition, 50% of the orders are placed between 4 to 15 days after their previous order.  "
    },
    {
      "metadata": {
        "run_control": {},
        "_uuid": "e1911eff9b382ea42da1b7f6e3b603056a0bfedb"
      },
      "cell_type": "markdown",
      "source": "## 7.2 More orders mean more often orders?\nIn the following example we check whether more active users (i.e., users with many total orders) order more often than users with few total orders. In particular we compare the behaviour of users with more than 10 orders and users with more than 20 orders\n\nTowards this end we show how we can filter our data based on specific criteria. "
    },
    {
      "metadata": {
        "run_control": {},
        "_uuid": "5ff52ac44f6b64263816ca184bb5e51cb02db9f4"
      },
      "cell_type": "markdown",
      "source": "### 7.2.1 Select the orders from users with more 10 orders\nTo select the orders from users with at least 10 orders, first we need to create a Series with the user_ids that have at least 10 orders. In this case we keep rows that have order_number equal to 11 (more than 10 orders)."
    },
    {
      "metadata": {
        "collapsed": true,
        "trusted": false,
        "_uuid": "65edc9b8c5fa416be7615204d00986c897f2602f"
      },
      "cell_type": "code",
      "source": "eleven = orders.order_number==11\neleven.head()",
      "execution_count": null,
      "outputs": []
    },
    {
      "metadata": {
        "run_control": {},
        "_uuid": "8e50548496cdf144bfbfe7c46acbb9128de8ef49"
      },
      "cell_type": "markdown",
      "source": "And now we select to keep these user_id where the condition is True"
    },
    {
      "metadata": {
        "collapsed": true,
        "trusted": false,
        "_uuid": "43ac308fcf837848ba65dd2b9dcf1c59ad0fa408"
      },
      "cell_type": "code",
      "source": "user_10 = orders.user_id[eleven]\nuser_10.head()",
      "execution_count": null,
      "outputs": []
    },
    {
      "metadata": {
        "collapsed": true,
        "trusted": false,
        "_uuid": "81ca2c701461fe79f77a231a0054e5d26905e270"
      },
      "cell_type": "code",
      "source": "user_10.shape",
      "execution_count": null,
      "outputs": []
    },
    {
      "metadata": {
        "run_control": {},
        "_uuid": "3f7b82faad6fdcf5cfdc9871b9c5789b5ec070ed"
      },
      "cell_type": "markdown",
      "source": "Which are 101.696 unique user_id (customers).\n\nAnd now we select to keep from orders all these rows with a user_id that .isin( ) user_10 Series.\nThe method .isin() return a DataFrame showing whether each element in the DataFrame is contained in a Series."
    },
    {
      "metadata": {
        "collapsed": true,
        "trusted": false,
        "_uuid": "00d457b712785c3ef6ac1673fdcdad21f107578e"
      },
      "cell_type": "code",
      "source": "orders_10 = orders[orders.user_id.isin(user_10)]\norders_10.head()",
      "execution_count": null,
      "outputs": []
    },
    {
      "metadata": {
        "collapsed": true,
        "trusted": false,
        "_uuid": "e40e50dfadde89f97a06baea3f6acc575a1dcd8f"
      },
      "cell_type": "code",
      "source": "orders_10.shape",
      "execution_count": null,
      "outputs": []
    },
    {
      "metadata": {
        "run_control": {},
        "_uuid": "1e21bdbc12907184c64b1bb5de6da232fb455211"
      },
      "cell_type": "markdown",
      "source": "Which are 2.757.619 orders."
    },
    {
      "metadata": {
        "run_control": {},
        "_uuid": "b4a1766c3e68d7a1a4c989ce5464082215b2aac8"
      },
      "cell_type": "markdown",
      "source": "## 7.2.2 Create comparative boxplots\nNow we follow the same procedure for users with more than 20 orders"
    },
    {
      "metadata": {
        "trusted": true,
        "_uuid": "a0db732d270847b25906da9055e49daf2f614749"
      },
      "cell_type": "code",
      "source": "twentyone = orders.user_id[orders.order_number==21]\norders_20 = orders[orders.user_id.isin(twentyone)]\norders_20.head()",
      "execution_count": null,
      "outputs": []
    },
    {
      "metadata": {
        "run_control": {},
        "_uuid": "c1b1d8022ac7af916a5eb54b4faee5bb56a3d544"
      },
      "cell_type": "markdown",
      "source": "And now create three subplots for orders, orders_10, orders_20 that create a boxplot for days_since_prior_order"
    },
    {
      "metadata": {
        "collapsed": true,
        "trusted": false,
        "_uuid": "01f2d7759462db33bc5b665ef5be468e66fd7b9c"
      },
      "cell_type": "code",
      "source": "fig, axes = plt.subplots(nrows=1, ncols=3,figsize=(15,7))\n\norders.boxplot(column='days_since_prior_order', ax=axes[0])\norders_10.boxplot(column='days_since_prior_order',  ax=axes[1])\norders_20.boxplot(column='days_since_prior_order',  ax=axes[2])",
      "execution_count": null,
      "outputs": []
    }
  ],
  "metadata": {
    "kernelspec": {
      "display_name": "Python 3",
      "language": "python",
      "name": "python3"
    },
    "language_info": {
      "name": "python",
      "version": "3.6.6",
      "mimetype": "text/x-python",
      "codemirror_mode": {
        "name": "ipython",
        "version": 3
      },
      "pygments_lexer": "ipython3",
      "nbconvert_exporter": "python",
      "file_extension": ".py"
    }
  },
  "nbformat": 4,
  "nbformat_minor": 1
}