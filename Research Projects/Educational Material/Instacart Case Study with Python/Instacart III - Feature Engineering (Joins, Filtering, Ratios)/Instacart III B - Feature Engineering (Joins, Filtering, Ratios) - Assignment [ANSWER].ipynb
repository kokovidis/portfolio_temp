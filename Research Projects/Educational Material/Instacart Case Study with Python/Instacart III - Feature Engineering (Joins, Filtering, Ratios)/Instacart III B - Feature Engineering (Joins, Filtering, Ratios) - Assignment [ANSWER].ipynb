{
  "cells": [
    {
      "metadata": {
        "_cell_guid": "79c7e3d0-c299-4dcb-8224-4455121ee9b0",
        "collapsed": true,
        "_uuid": "d629ff2d2480ee46fbb7e2d37f6b5fab8052498a",
        "trusted": false
      },
      "cell_type": "markdown",
      "source": "# Instacart EDA 3_2 Assignment [ANSWER]\nIn this assignment you will create variables that will describe each customer. \n\nFirst load the requested packages and data files for this assignment:"
    },
    {
      "metadata": {
        "trusted": true,
        "_uuid": "b8a8af6951ff8ba1a3f10701f67e6baf4e6815e8"
      },
      "cell_type": "code",
      "source": "#load packages\nimport pandas as pd               # for data manipulation\nimport matplotlib.pyplot as plt   # for plotting \nimport seaborn as sns             # an extension of matplotlib for statistical graphics\n\n#load data\norders = pd.read_csv('../input/orders.csv')\nproducts = pd.read_csv('../input/products.csv')\norder_products_prior = pd.read_csv('../input/order_products__prior.csv')",
      "execution_count": null,
      "outputs": []
    },
    {
      "metadata": {
        "_uuid": "a9ec107dd81001be8c4f177b50d369e393237c4a"
      },
      "cell_type": "markdown",
      "source": "## Create variables that describe each customer\n### Question 1: Create a DataFrame that has the orders and the products purchased\n1. Create a DataFrame that contains information for both the orders & order_products_prior DataFrame. Use a inner join and save it as **prd** DataFrame.\n\n### Question 2: Get the average days since a prior order for each user.\n1. Get the average days since a prior order for each user.  You will need to use the prd DataFrame , .groupby( ) method & the appropriate aggregation function. Save the results as **avg_days** and name the column as **'days_order_mean’**\n2. Create a histrogram for **'days_order_mean'** of **avg_days**. Use arguments: bins=100.\n\n### Question 3: How often does a customer reorder products (reorder ratio of a customer)\n1. Get the total purchased products of each customer. Save the results as a DataFrame with name **reorders** and name the column as **'total_bought’**\n2. For each user, get the distinct number of its purchased products (no reordered products - only products purchased for first time). Save the column as **\"total_unique_bought\"** on **reorders** DataFrame.\n> Hint: Use prd[prd.reordered==0] to perform a .groupby( ) on\n3. Create a ratio of **total_unique_bought**/**total_bought**. Save the column as **'reorder_ratio'** on **reorders** DataFrame.\n4. Create a histrogram for **'reorder_ratio'** of **reorders**. Use arguments: bins=100\n5. Sort the rows of  **reorders**  in order to get first the customers with the lowest **'reorder_ratio'**. Store the results on **reorders** DataFrame.\n6. Save the index of the customer with the lowest ratio on a new variable. Name it as **low_ratio_customer**. You will use this index (user_id) on the next step.\n7. Now use the **low_ratio_customer** to get from **prd** all of its orders and products purchased. Store the results on **user_low**.\n8. Perform an appropriate join of **user_low** with **products** so you can get the name of products. Save the results on **user_low** .\n9. Get the name of the products that the user has bought. Select the column **'product_name'** of **user_low**  DataFrame and use an appropriate method to get the distinct values of the column."
    },
    {
      "metadata": {
        "_uuid": "76ca5cf77d2cef05905ebadabe1ee9f6bdda64fc"
      },
      "cell_type": "markdown",
      "source": "## Create variables that describe each customer\n### Question 1: Create a DataFrame that has the orders and the products purchased\n1. Create a DataFrame that contains information for both the orders & order_products_prior DataFrame. Use a inner join and save it as **prd** DataFrame."
    },
    {
      "metadata": {
        "trusted": true,
        "_uuid": "dc9fbda3f64c592f5f0d40240fdd41d9fc24bdc8"
      },
      "cell_type": "code",
      "source": "# Question 0\nprd = pd.merge(orders, order_products_prior, how='inner')\nprd.head()",
      "execution_count": null,
      "outputs": []
    },
    {
      "metadata": {
        "_uuid": "c58a0d0ccf3c4b508b93b5a45fec4931792d659b"
      },
      "cell_type": "markdown",
      "source": "### Question 2: Get the average days since a prior order for each user.\n1. Get the average days since a prior order for each user.  You will need to use the prd DataFrame , .groupby( ) method & the appropriate aggregation function. Save the results as **avg_days** and name the column as **'days_order_mean'**"
    },
    {
      "metadata": {
        "trusted": true,
        "_uuid": "91322e9d2b42af53eedd508c4d2ffe888e744f11"
      },
      "cell_type": "code",
      "source": "# Question 2 - tasks 1\navg_days = prd.groupby('user_id')[['days_since_prior_order']].mean()\navg_days.columns = ['days_order_mean']\navg_days.head()",
      "execution_count": null,
      "outputs": []
    },
    {
      "metadata": {
        "_uuid": "094a6658337102a72f704c1bbbaf40f7e583ea7d"
      },
      "cell_type": "markdown",
      "source": "2. Create a histrogram for **'days_order_mean'** of **avg_days**. Use arguments: bins=100."
    },
    {
      "metadata": {
        "trusted": true,
        "_uuid": "2f695a7702c2f54300726ac7f6920a2529f2d238"
      },
      "cell_type": "code",
      "source": "# Question 2 - task 2\nplt.hist(avg_days.days_order_mean, bins=100)\nplt.show()",
      "execution_count": null,
      "outputs": []
    },
    {
      "metadata": {
        "trusted": true,
        "_uuid": "d4df1ae162f35b699820ee6681947c37f9a6494a"
      },
      "cell_type": "markdown",
      "source": "### Question 3: How often does a customer reorder products (reorder ratio of a customer)\n1. Get the total purchased products of each customer. Save the results as a DataFrame with name **reorders** and name the column as **'total_bought'**"
    },
    {
      "metadata": {
        "trusted": true,
        "_uuid": "1e45e54a52d2a8fb0f06fac8e16aeecfc3d519a1"
      },
      "cell_type": "code",
      "source": "# Question 3 - task 1\nreorders = prd.groupby('user_id')[['product_id']].count()\nreorders.columns = ['total_bought']",
      "execution_count": null,
      "outputs": []
    },
    {
      "metadata": {
        "trusted": true,
        "_uuid": "b0fb2b04d3a5a2a5f3056010bec79022a63ef41b"
      },
      "cell_type": "markdown",
      "source": "2. For each user, get the distinct number of its purchased products (no reordered products - only products purchased for first time). Save the column as **\"total_unique_bought\"** on **reorders** DataFrame.\n> Hint: Use prd[prd.reordered==0] to perform a .groupby( ) on"
    },
    {
      "metadata": {
        "trusted": true,
        "_uuid": "97250996b990799128ff5b477b2c1421cc2197b5"
      },
      "cell_type": "code",
      "source": "# Question 3 - task 2\nreorders['total_unique_bought'] = prd[prd.reordered==0].groupby('user_id')[['product_id']].count()",
      "execution_count": null,
      "outputs": []
    },
    {
      "metadata": {
        "trusted": true,
        "_uuid": "b343312d7d85de44ee51e52300ffba6a6fdb2fb4"
      },
      "cell_type": "markdown",
      "source": "3. Create a ratio of **total_unique_bought**/**total_bought**. Save the column as **'reorder_ratio'** on **reorders** DataFrame."
    },
    {
      "metadata": {
        "trusted": true,
        "_uuid": "1bfd1d42fbe123494c16332facb1630495972f08"
      },
      "cell_type": "code",
      "source": "# Question 3 - task 3\nreorders['reorder_ratio']  =  reorders['total_unique_bought'] / reorders['total_bought']\nreorders.head()",
      "execution_count": null,
      "outputs": []
    },
    {
      "metadata": {
        "trusted": true,
        "_uuid": "286d6ee65ea54e5ff0a3351957bb8d6eccd083a3"
      },
      "cell_type": "markdown",
      "source": "4. Create a histrogram for **'reorder_ratio'** of **reorders**. Use arguments: bins=100"
    },
    {
      "metadata": {
        "trusted": true,
        "_uuid": "b8f1fc1628b8c4233240590c876f13636eaae5a2"
      },
      "cell_type": "code",
      "source": "# Question 3 - task 4\nplt.hist(reorders.reorder_ratio, bins=100)\nplt.show()",
      "execution_count": null,
      "outputs": []
    },
    {
      "metadata": {
        "trusted": true,
        "_uuid": "8f4dbf0a35245f2e3e9f7f2eb5d34926d9360aa2"
      },
      "cell_type": "markdown",
      "source": "5. Sort the rows of  **reorders**  in order to get first the customers with the lowest **'reorder_ratio'**. Store the results on **reorders** DataFrame."
    },
    {
      "metadata": {
        "trusted": true,
        "_uuid": "3285b415e16faf070dc6e69ddb9507405caa66d1"
      },
      "cell_type": "code",
      "source": "# Question 3 - task 5\nreorders = reorders.sort_values(by='reorder_ratio')\nreorders.head()",
      "execution_count": null,
      "outputs": []
    },
    {
      "metadata": {
        "_uuid": "c7f24b71d91d46a5b36ff8ecd0e09fb53286f540"
      },
      "cell_type": "markdown",
      "source": "6. Save the index of the customer with the lowest ratio on a new variable. Name it as **low_ratio_customer**. You will use this index (user_id) on the next step."
    },
    {
      "metadata": {
        "trusted": true,
        "_uuid": "e00312597191d2bdaca5b66bd426e50d85cc812f"
      },
      "cell_type": "code",
      "source": "# Question 3 - task 6\nlow_ratio_customer= reorders.index[0]",
      "execution_count": null,
      "outputs": []
    },
    {
      "metadata": {
        "trusted": true,
        "_uuid": "abb59ae6f25f1e34faaffe7c1adc7901ab44d302"
      },
      "cell_type": "markdown",
      "source": "7. Now use the **low_ratio_customer** to get from **prd** all of its orders and products purchased. Store the results on **user_low**."
    },
    {
      "metadata": {
        "trusted": true,
        "_uuid": "50d1ce598ce84e6f29dc059a06a9a1bc7d795c3f"
      },
      "cell_type": "code",
      "source": "# Question 3 - task 7\nuser_low = prd[prd.user_id == low_ratio_customer]",
      "execution_count": null,
      "outputs": []
    },
    {
      "metadata": {
        "_uuid": "14dc5923ee91fae2b1d5d8e79d7eaeaa8a4a216b"
      },
      "cell_type": "markdown",
      "source": "8. Perform an appropriate join of **user_low** with **products** so you can get the name of products. Save the results on **user_low** ."
    },
    {
      "metadata": {
        "trusted": true,
        "_uuid": "b47df86f1cab8927c3a87a2a709868a4464ccf95"
      },
      "cell_type": "code",
      "source": "# Question 3 - task 8\nuser_low = pd.merge(user_low, products, how='left')",
      "execution_count": null,
      "outputs": []
    },
    {
      "metadata": {
        "_uuid": "0d10db7846fc3ad3eaa54fe868beccd332087fae"
      },
      "cell_type": "markdown",
      "source": "9. Get the name of the products that the user has bought. Select the column **'product_name'** of **user_low**  DataFrame and use an appropriate method to get the distinct values of the column."
    },
    {
      "metadata": {
        "trusted": true,
        "_uuid": "3008d7073c7ce5ae78106133e182f9eec6e784bd"
      },
      "cell_type": "code",
      "source": "# Question 3 - task 9\nuser_low.product_name.drop_duplicates()",
      "execution_count": null,
      "outputs": []
    }
  ],
  "metadata": {
    "kernelspec": {
      "display_name": "Python 3",
      "language": "python",
      "name": "python3"
    },
    "language_info": {
      "name": "python",
      "version": "3.6.6",
      "mimetype": "text/x-python",
      "codemirror_mode": {
        "name": "ipython",
        "version": 3
      },
      "pygments_lexer": "ipython3",
      "nbconvert_exporter": "python",
      "file_extension": ".py"
    }
  },
  "nbformat": 4,
  "nbformat_minor": 1
}