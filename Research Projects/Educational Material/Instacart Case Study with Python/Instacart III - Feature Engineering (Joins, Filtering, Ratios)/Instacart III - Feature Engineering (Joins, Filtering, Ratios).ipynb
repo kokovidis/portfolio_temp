{
  "cells": [
    {
      "metadata": {
        "_uuid": "8f2839f25d086af736a60e9eeb907d3b93b6e0e5",
        "_cell_guid": "b1076dfc-b9ad-4769-8c92-a6c4dae69d19",
        "trusted": true
      },
      "cell_type": "markdown",
      "source": "# Introduction\nThis kernel has been created by the [Information Systems Lab](http://islab.uom.gr) at the University of Macedonia, Greece for the needs of the elective course Special Topics of Information Systems I at the [Business Administration](http://www.uom.gr/index.php?tmima=2&categorymenu=2) department of the University of Macedonia, Greece.\n\nIn this Instacart Notebook, we answer business questions regarding how consumers behave towards a specific product and thus we calculate variables that describe each product. \n\nTo achieve this, we follow three steps:\n1. Create a new DataFrame, namely **prd**, that contains data from multiple CSV files\n2. Produce supportive variables with aggregated values from the prd DataFrame\n3. Calculate variables that describe products\n\n# Business Insights\nIn this notebook you will explore Instacart data in order to answer the following business questions:\n* Do users frequently reorder a product? i.e. what is the reorder probability of a product? More specific questions incude:\n - What is the number of unique customers of a product?\n - How many customers buy a product only once (one-shot products)? \n - What is the one-shot ratio of a product? (This ratio is related to the reorder probability of a product)\n - What is the mean one-shot ratio of an aisle?\n\n# Python Skills\n* Merge two DataFrame with inner, left, right join\n* Perform a .groupby( ) on data of a DataFrame that meet a condition\n* Create a new column to an already existing DataFrame\n* Convert and index of DataFrame into a column\n* Divide columns element-wise of a data frame\n* Check for NaN (Not a Number) values and modify them\n* Create a histrogram (distribution plot) of a variable\n* Set a column as the index of a DataFrame\n* Filter data frames based on a condition\n* Select rows of a DataFrame, based on a condition\n* Create a new DataFrame, with column(s) of an existing DataFrame\n* Create ratios through supportive variables\n\n# Packages \n* pandas: .merge() , .reset_index( ),  .isnull(), .any(), set_index(), \n* matplotlib.pyplot: .hist()\n* seaborn: .barplot()"
    },
    {
      "metadata": {
        "_cell_guid": "79c7e3d0-c299-4dcb-8224-4455121ee9b0",
        "collapsed": true,
        "_uuid": "d629ff2d2480ee46fbb7e2d37f6b5fab8052498a",
        "trusted": false
      },
      "cell_type": "markdown",
      "source": "## Import data into Python\nWe load the required packages:"
    },
    {
      "metadata": {
        "trusted": true,
        "_uuid": "b44e11c5e19a31e9e8d3bc2d22cf625a39da2f9e"
      },
      "cell_type": "code",
      "source": "import pandas as pd               # for data manipulation\nimport matplotlib.pyplot as plt   # for plotting \nimport seaborn as sns             # an extension of matplotlib for statistical graphics",
      "execution_count": null,
      "outputs": []
    },
    {
      "metadata": {
        "_uuid": "fc6985fa52a5f856cd1f13d8a4418e48b5a635f7"
      },
      "cell_type": "markdown",
      "source": "Moreover, we load the .csv files in DataFrames:"
    },
    {
      "metadata": {
        "trusted": true,
        "_uuid": "c94cbbaf4a874add49e815066023a2cdc834f4d5"
      },
      "cell_type": "code",
      "source": "orders = pd.read_csv('../input/orders.csv' )\nproducts = pd.read_csv('../input/products.csv')\norder_products_prior = pd.read_csv('../input/order_products__prior.csv')\naisles = pd.read_csv('../input/aisles.csv')",
      "execution_count": null,
      "outputs": []
    },
    {
      "metadata": {
        "_uuid": "0a83a200660876aaae61f856d74897bf8a2e4e8a"
      },
      "cell_type": "markdown",
      "source": "# 1. Create a DataFrame that contains data from multiple sources \nIn this section, we create a new DataFrame that combines the orders, the customers, and the products. Towards this end, we use the following DataFrames:\n\n**orders** which contains the orders made from all customers"
    },
    {
      "metadata": {
        "trusted": true,
        "_uuid": "9bca19082562a5f3b08a4bccec1bf3582d378f30"
      },
      "cell_type": "code",
      "source": "orders.head()",
      "execution_count": null,
      "outputs": []
    },
    {
      "metadata": {
        "_uuid": "8f025fe881ff418e324323cf0cce9c4328c73aef"
      },
      "cell_type": "markdown",
      "source": "**order_products_prior** which contains the products purchased in each order "
    },
    {
      "metadata": {
        "trusted": true,
        "_uuid": "ab744beac4f2d2cd5af45294be967179547077ae"
      },
      "cell_type": "code",
      "source": "order_products_prior.head()",
      "execution_count": null,
      "outputs": []
    },
    {
      "metadata": {
        "_uuid": "e16695290ca36423831a40b63a290d4e1e2c0886"
      },
      "cell_type": "markdown",
      "source": "We merge these two DataFrames by their matching column, order_id. The inner join (how='inner') keeps only rows where each order_id can be found on both DataFrames. **orders** DataFrame contains both prior and train orders, while **order_products_prior** contains only prior orders. \n\nAs a result, the new DataFrame contains only prior orders.\n\n![inner](https://www.w3schools.com/Sql/img_innerjoin.gif)"
    },
    {
      "metadata": {
        "trusted": true,
        "_uuid": "f937e1bc010f9f8108935aee2a151aab44251c06"
      },
      "cell_type": "code",
      "source": "prd = pd.merge(orders, order_products_prior, on='order_id', how='inner')\nprd.head(10)",
      "execution_count": null,
      "outputs": []
    },
    {
      "metadata": {
        "_uuid": "cf92da0690cc34b776c6fb69cc35f46a6866bbc6"
      },
      "cell_type": "markdown",
      "source": "Now that we have a DataFrame that combines both the prior orders and the products purchased on each order, we will get insights for each product."
    },
    {
      "metadata": {
        "_uuid": "00b2db2c20c5b8c6a646b6e6c99f3e63da9f5468"
      },
      "cell_type": "markdown",
      "source": "# 2. Does users frequently reorder a product?  (one-shot ratio)\nIn order to answer this business question we calculate a ratio that consists of the total number of customers who bought a product only once divided by the total number of customers who bought this product.\n\n![](https://latex.codecogs.com/gif.latex?one\\&space;-\\&space;shot\\&space;ratio\\&space;of\\&space;a\\&space;product\\&space;=&space;\\frac{customers\\&space;who\\&space;bought\\&space;it\\&space;only\\&space;once}{number\\&space;of\\&space;unique\\&space;customers})\n\nA high one-shot ratio of a product means that customers tend not to reorder this product. \n\nTo calculate this ratio we have to compute:\n* the number of users bought it only once (count)\n* the number of unique customers of a product (count)\n\nThese variables will be calculated through a supportive variable that indicates how many times each customer bought a product. We start by calculating this supportive variable."
    },
    {
      "metadata": {
        "_uuid": "e3a46f8e8c6da8dd06d3a1e076d7c5f5af03a7d8"
      },
      "cell_type": "markdown",
      "source": "## 2.1  How many times each customer bought a product.\nTo create this supportive variable, we .groupby( ) the **prd** DataFrame, by the product_id & user_id and we select the column 'order_id' to apply the .count( ) aggregation function. We store the result in a new DataFrame called item."
    },
    {
      "metadata": {
        "trusted": true,
        "_uuid": "bd45c1e339505e830dae9f375c6af5f87a3c756e"
      },
      "cell_type": "code",
      "source": "item = prd.groupby(['product_id', 'user_id'])[['order_id']].count()\nitem.columns = ['total']\nitem.head(10)",
      "execution_count": null,
      "outputs": []
    },
    {
      "metadata": {
        "_uuid": "951fea79e48bca9266b45f84383fa1585800b483"
      },
      "cell_type": "markdown",
      "source": "## 2.2  How many customers bought a product only once\nFrom the **item** DataFrame we can now calculate both numerator (the number of users who bought a product only once) & denominator (the number of unique customers for a product) of the one-shot ratio.\n\nTo get the number of users who bought it only once:\n* We select from **item** DataFrame, only these rows where <b>total purchases are equal to one</b>\n"
    },
    {
      "metadata": {
        "trusted": true,
        "_uuid": "5e81db11daa16e2c6b52a8716a5f68debb61d3f9"
      },
      "cell_type": "code",
      "source": "item_one = item[item.total==1]\nitem_one.head()",
      "execution_count": null,
      "outputs": []
    },
    {
      "metadata": {
        "_uuid": "a07ee2251f9ba215d1366321f67f97410afb944a"
      },
      "cell_type": "markdown",
      "source": "* From the selected rows, we perform a .groupby( ) for each product_id, we select the previously created column 'total' and we use the aggregation function .count( ) to get how many customers bought each product only once."
    },
    {
      "metadata": {
        "trusted": true,
        "_uuid": "8ff83761115398068e7461301f78cd01a03261f6"
      },
      "cell_type": "code",
      "source": "item_one = item_one.groupby('product_id')[['total']].count()\nitem_one.columns = ['customers_one_shot']\n\nitem_one.head(10)",
      "execution_count": null,
      "outputs": []
    },
    {
      "metadata": {
        "_uuid": "715b535cb3f420d10c83682ee23d2169491c5442"
      },
      "cell_type": "markdown",
      "source": "So for example, product 2 has been bought only one time from 70 individual customers."
    },
    {
      "metadata": {
        "_uuid": "7b13825a49aafec73bfc88ba60c94a5891eec7c0"
      },
      "cell_type": "markdown",
      "source": "### 2.2.1 Your Turn 📚📝\nWhich other aggregation function will yield the same result?"
    },
    {
      "metadata": {
        "trusted": true,
        "_uuid": "27ded34504393f23d337ca005ff0af4083bb90ae"
      },
      "cell_type": "code",
      "source": "# Write your answer here\nitem_one= item[item.total==1].groupby('product_id')[['total']].sum()\nitem_one.columns = ['customers_one_shot']\nitem_one.head()",
      "execution_count": null,
      "outputs": []
    },
    {
      "metadata": {
        "_uuid": "576f0853de0374430fec6c67f04b9e886f5d8315"
      },
      "cell_type": "markdown",
      "source": "## 2.3 Number of unique customers of a product.\nWe now perform a groupby on **product_id** and count the users that appear in each product. \n\nHowever, **user_id** is passed as index on **item** DataFrame. For this reason, we use the **.reset_index( )** method to convert **user_id** to a column. In our case we use the argument=1 on **.reset_index( )**, as we want only the second index (**user_id**) to be turned into a column."
    },
    {
      "metadata": {
        "trusted": true,
        "_uuid": "1b0f96302f2cbfd5e3fd5efeecbee2299277e643"
      },
      "cell_type": "code",
      "source": "#execute command one-time only\nitem=item.reset_index(1)",
      "execution_count": null,
      "outputs": []
    },
    {
      "metadata": {
        "trusted": true,
        "_uuid": "d163f601c4a22a9e088171599a11c1efda6a0258"
      },
      "cell_type": "code",
      "source": "item.head(10)",
      "execution_count": null,
      "outputs": []
    },
    {
      "metadata": {
        "_uuid": "549aadbb389a6552287c5af3b1f74c5b2596894e"
      },
      "cell_type": "markdown",
      "source": "So now, we can perform our desired .groupby( ) on **item** :"
    },
    {
      "metadata": {
        "trusted": true,
        "_uuid": "78817d373317f52d165d7205d7767598cef52661"
      },
      "cell_type": "code",
      "source": "item_size = item.groupby('product_id')[['user_id']].count()\nitem_size.columns = ['unique_customers']\nitem_size.head(10)",
      "execution_count": null,
      "outputs": []
    },
    {
      "metadata": {
        "_uuid": "50cd1bcc3fb26010a87361a4dfe60b1504e12e55"
      },
      "cell_type": "markdown",
      "source": "From the results we see that for example product 2 has been bought from 78 individual customers."
    },
    {
      "metadata": {
        "_uuid": "ff8ee0bfb21763d574d75513b5ccaab6de0502e3"
      },
      "cell_type": "markdown",
      "source": "### 2.3.1 Your Turn 📚📝\nHow could you create the same variable by using the prd DataFrame & the reorder column?\n> Hint: You will need to filter rows of **prd** DataFrame first."
    },
    {
      "metadata": {
        "trusted": true,
        "_uuid": "ec7180ee3d982e7bf7187f746de9bd02c3fd4cdc"
      },
      "cell_type": "code",
      "source": "item_size['unique_customers']= prd[prd.reordered==0].groupby('product_id')[['user_id']].count()\nitem_size.head(10)",
      "execution_count": null,
      "outputs": []
    },
    {
      "metadata": {
        "_uuid": "13a44f8f0cd39806935aff9cf4591e3a75fbc59f"
      },
      "cell_type": "markdown",
      "source": "## 2.4 Merge results\nNow that we have both parts of our final fraction (ratio), we will merge both DataFrames into one. We select a right join as the **item_size** data frame, keeps all the product that they have been purchased, where the **item_one** keeps only the products that they have been purchased only once.\n\n![right](https://www.w3schools.com/sql/img_rightjoin.gif)"
    },
    {
      "metadata": {
        "trusted": true,
        "_uuid": "52323c9335c7930430f0f9bb5b605c7bc5242fb1"
      },
      "cell_type": "code",
      "source": "#                                          COMMENT FOR RIGHT JOIN:\n# item_one: may or may not contain observations for each product (may never bought only one time) \n#                         item_size: must have values for every product (bought even once) \n#                                       left or inner joins will lose observations. \n\nresults = pd.merge(item_one, item_size, on='product_id', how='right')\nresults.head()",
      "execution_count": null,
      "outputs": []
    },
    {
      "metadata": {
        "_uuid": "783141b8e84a0373593383d96c4ba5cb4c1cef58"
      },
      "cell_type": "markdown",
      "source": "As a result we have a DataFrame that keeps both variables for 49677 products:"
    },
    {
      "metadata": {
        "trusted": true,
        "_uuid": "cd5f885ee64bb52a6eb56ee93dd62fdd1f04acd1"
      },
      "cell_type": "code",
      "source": "results.shape",
      "execution_count": null,
      "outputs": []
    },
    {
      "metadata": {
        "_uuid": "e3603576d6cae84dc8cc05dadd6f6f0e5852354c"
      },
      "cell_type": "markdown",
      "source": "### 2.4.1 Your Turn - Use a left join 📚📝\nPropose another way to use a left join to merge the DataFrames **item_one** & **item_size**.  Your new DataFrame should have the same .shape (49677, 2) as the previous DataFrame:"
    },
    {
      "metadata": {
        "trusted": true,
        "_uuid": "36be7788882f9168d46cbf7b5fe31c44b5b3eb06"
      },
      "cell_type": "code",
      "source": "# Write your answer here\nresults = pd.merge(item_size, item_one, on='product_id', how='left')\nresults.head()",
      "execution_count": null,
      "outputs": []
    },
    {
      "metadata": {
        "trusted": true,
        "_uuid": "f9061acac8b799b8a53070b473d3f9db24041395"
      },
      "cell_type": "code",
      "source": "results.shape",
      "execution_count": null,
      "outputs": []
    },
    {
      "metadata": {
        "_uuid": "a50b32941eefd76db667368432285f081381fa3e"
      },
      "cell_type": "markdown",
      "source": "## 2.6 Create the one-shot ratio\nNow that we have merged the two count variables,  we can create a new column which will keep our desired ratio. \nTo create a new column to an already existing DataFrame you can simply write the name of the DataFrame and the name of the new column in brackets."
    },
    {
      "metadata": {
        "trusted": true,
        "_uuid": "3d8beab351fb0e2ad0bf9dc5ae5849a6d8ca9e96"
      },
      "cell_type": "code",
      "source": "results['one_shot_ratio'] = results['customers_one_shot']/results['unique_customers']\nresults.head()",
      "execution_count": null,
      "outputs": []
    },
    {
      "metadata": {
        "_uuid": "36d184968c089723fcdb85db7afc491a7f03d696"
      },
      "cell_type": "markdown",
      "source": "# 4. Further exploration of results DataFrame\nNow that we have both the one-shot ratio & reorder_times_product for each product, we show how we:\n1. Find and fill NaN values\n2. Visualize the one-shot ratio\n3. Analyze the products with one-shot ratio = 1\n4. Get the name of the products\n5. Get the products with highest and lowest one-shot ratio\n6. Find the aisle with highest mean one-shot ratio\n7. Create visualizations for the products and the aisles with the highest ratio\n9. Get the 10 products with the highest reorder_times_product\n\n## 4.1 Find and fill NaN values\nThere may be cases where none customer bought a product only one time. In this case, the corresponding variable after merge will have a NaN value.\n\nLet's check the above scenario. To retrieve the rows with a NaN in a particular column, we can use the following code:\n>df[df['Col1'].isnull()]\n\nSo we modify the previous code for the column customers_bought_once:"
    },
    {
      "metadata": {
        "trusted": true,
        "_uuid": "7e1e8136bbb013f98655c57923fd9002806888c8"
      },
      "cell_type": "code",
      "source": "results[results.customers_one_shot.isnull()].head(10)",
      "execution_count": null,
      "outputs": []
    },
    {
      "metadata": {
        "trusted": true,
        "_uuid": "b622e4ba09d55d95a68ab5148088e7d2ed8ef65c"
      },
      "cell_type": "code",
      "source": "results[results.customers_one_shot.isnull()].shape",
      "execution_count": null,
      "outputs": []
    },
    {
      "metadata": {
        "trusted": true,
        "_uuid": "876f6ab5c994604c1d1b601f7f0127a8f02a1d7e"
      },
      "cell_type": "markdown",
      "source": "Which means that 90 products have never been bought only once.\nAs NaN values, means absence of an observation for each product, we will use the .fillna(0) method so we can convert all NaN values to zero."
    },
    {
      "metadata": {
        "_uuid": "600516aba682356476da7fbc8fd18af7a7e9f37b",
        "trusted": true
      },
      "cell_type": "code",
      "source": "results = results.fillna(0)\nresults.head()",
      "execution_count": null,
      "outputs": []
    },
    {
      "metadata": {
        "_uuid": "0907b6accddbd23eeed33a1b19b4ca87266741d5"
      },
      "cell_type": "markdown",
      "source": "If we check again for NaN values on results DataFrame we will get no results."
    },
    {
      "metadata": {
        "trusted": true,
        "_uuid": "e9aa13ec52040a78552553b9615d514ebef1c657"
      },
      "cell_type": "code",
      "source": "results[results.customers_one_shot.isnull()]",
      "execution_count": null,
      "outputs": []
    },
    {
      "metadata": {
        "_uuid": "ac3c7ae11435ee1b24445794f8612fffafe56cf9"
      },
      "cell_type": "markdown",
      "source": "## 4.2 Visualize the one-shot ratio\nIn order to visualize the one-shot ratio in a histogram, we use the .hist( ) method of matplotlib package.\nArgument bins=100, creates a histrogram of 100 bins (bin of 0,01 for range 0 to 1) as ratio is a continuous variable."
    },
    {
      "metadata": {
        "trusted": true,
        "_uuid": "2c0cf56ec959613a25b8a9fe978598817cb7185a"
      },
      "cell_type": "code",
      "source": "plt.figure(figsize=(15,5))\n\nplt.hist(results.one_shot_ratio, bins=100)\n\nplt.xlabel('Probability', size=10)\nplt.ylabel('Number of products')\nplt.title('The distribution of one-shot ratio', size=10)\nplt.xticks(fontsize=10)\nplt.yticks(fontsize=10)\n\nplt.show()",
      "execution_count": null,
      "outputs": []
    },
    {
      "metadata": {
        "_uuid": "2f6e43fbb789f674a1cd7f54ea2e56886d0f9c6e"
      },
      "cell_type": "markdown",
      "source": "## 4.3 Analyze the products with One-Shot ratio = 1\nInterestingly many product have one-shot ratio = 1 meaning that these products have never been reordered. In this sub-section we explore these products."
    },
    {
      "metadata": {
        "trusted": true,
        "_uuid": "9c043d8c6c337189d981f0dbdebb22011b6867e7"
      },
      "cell_type": "code",
      "source": "no_reorder = results[results.one_shot_ratio==1]\nno_reorder.head(10)",
      "execution_count": null,
      "outputs": []
    },
    {
      "metadata": {
        "_uuid": "a3414af31b3c3ab7605d9733accdb80a3518cef9"
      },
      "cell_type": "markdown",
      "source": "There are actually 4372 with no reorders."
    },
    {
      "metadata": {
        "trusted": true,
        "_uuid": "a17bcdaa440981099116efc0192527e38e7c34d4"
      },
      "cell_type": "code",
      "source": "no_reorder.shape[0]",
      "execution_count": null,
      "outputs": []
    },
    {
      "metadata": {
        "_uuid": "42ca15212f5a30304ae6042be1c6c033758acc5e"
      },
      "cell_type": "markdown",
      "source": "Which are actually 8,8% of total products "
    },
    {
      "metadata": {
        "trusted": true,
        "_uuid": "7f8234a2cbe16f0344014d6efe2af5efa4fcaa4c"
      },
      "cell_type": "code",
      "source": "no_reorder.shape[0]/results.shape[0]*100",
      "execution_count": null,
      "outputs": []
    },
    {
      "metadata": {
        "_uuid": "f2b6131c705e6d553d3f41f629f433fa938c9de6"
      },
      "cell_type": "markdown",
      "source": "If you check again on no_reorder DataFrame it seems that products with one-shot ratio = 1  have few unique customers. \n\nTo have a broader view on products with one-shot ratio = 1, we create a histrogram for the number of unique customers"
    },
    {
      "metadata": {
        "trusted": true,
        "_uuid": "d18df8a2eabc8a596429665ad8464bdedcc97083"
      },
      "cell_type": "code",
      "source": "plt.figure(figsize=(15,5))\nplt.hist(no_reorder[no_reorder.one_shot_ratio==1].unique_customers, bins=90)\nplt.show()",
      "execution_count": null,
      "outputs": []
    },
    {
      "metadata": {
        "_uuid": "c41758fb3ae3a7444110715e3150875a7537abcf"
      },
      "cell_type": "markdown",
      "source": "So Indeed, most of the products that are bought only one time tend to have less than 20 unique customers."
    },
    {
      "metadata": {
        "trusted": true,
        "_uuid": "b1aed715cb3547adc61b61e8eb2c3a664d7beb39"
      },
      "cell_type": "markdown",
      "source": "## 4.4 Get the name of the products\nNow we will merge the results with the **products** DataFrame. The joining key is the product_id and we select a left join, as we want to keep all these products, that we have created a one-shot ratio for them.\n![left](https://www.w3schools.com/sql/img_leftjoin.gif)"
    },
    {
      "metadata": {
        "trusted": true,
        "_uuid": "a9acd3ed4c3ccb6599e7ae9b38017321941812b9"
      },
      "cell_type": "code",
      "source": "# merge with products, to get the names, aisle, department of the products\nresults_name = pd.merge(results, products[['product_id', 'product_name', 'aisle_id']], on='product_id', how='left')\nresults_name.head()",
      "execution_count": null,
      "outputs": []
    },
    {
      "metadata": {
        "_uuid": "bfd40626ea596e635bfe3dfab80cf75248e9e32d"
      },
      "cell_type": "markdown",
      "source": "As each row describe a single product, we select product_id to be the main key for each row; with .set_index( ) method we select product_id to be the index for results_name"
    },
    {
      "metadata": {
        "trusted": true,
        "_uuid": "a13177c4ac261dfe9f1dc83f111e67f1c410844f"
      },
      "cell_type": "code",
      "source": "results_name = results_name.set_index('product_id')\nresults_name.head()",
      "execution_count": null,
      "outputs": []
    },
    {
      "metadata": {
        "_uuid": "fb1323c8e6c81bcb0146e952a5ceb0eb1a6db0bc"
      },
      "cell_type": "markdown",
      "source": "## 4.5 Get the products with highest and lowest ratio\nIn the coming example we select the products with the highest and lowest one-shot ratio. We select to filter (limit) our results to only these products that have more than 75 unique customers. Products with very few customers cannot provide valid data.\n> We chose to be 75 unique customers, as many products with less than 75 unique customers, had one-shot ratio equal to one."
    },
    {
      "metadata": {
        "trusted": true,
        "_uuid": "cbe1516e0f5fecbbbfc88a51bcf540bc42ff1ad2"
      },
      "cell_type": "code",
      "source": "# get the products with highest one_time_ratio - we need an estimation for no. unique_customers\nresults_asc = results_name.sort_values('one_shot_ratio', ascending=False)\nresults_asc = results_asc[results_asc.unique_customers > 75]\nresults_asc.head(10)",
      "execution_count": null,
      "outputs": []
    },
    {
      "metadata": {
        "trusted": true,
        "_uuid": "64a9df06b426b2578a2face6fe037ad6589bee3b"
      },
      "cell_type": "code",
      "source": "# get the products with lowest one_time_ratio\nresults_des = results_name.sort_values('one_shot_ratio', ascending=True)\nresults_des = results_des[results_des.unique_customers > 75]\nresults_des.head(10)",
      "execution_count": null,
      "outputs": []
    },
    {
      "metadata": {
        "_uuid": "142cae109f34c2371dfb47dbd95969f597c74ff5"
      },
      "cell_type": "markdown",
      "source": "## 4.6  Aisles with high mean one-shot ratio\nIn this step, we .groupby( ) products by their aisle_id. With aggregation function .mean( ) we get the average of one_shot_ratio for each aisle.\n"
    },
    {
      "metadata": {
        "trusted": true,
        "_uuid": "d3952de8e2c63e8ad290f97dfa97069059430c1b"
      },
      "cell_type": "code",
      "source": "aisle_ratio = results_asc.groupby('aisle_id')[['one_shot_ratio']].mean()\naisle_ratio.columns = ['mean_one_shot_ratio_of_aisle']\naisle_ratio.head()",
      "execution_count": null,
      "outputs": []
    },
    {
      "metadata": {
        "_uuid": "c38cb0693f6311c12cecda97c77cdb860d3fc986"
      },
      "cell_type": "markdown",
      "source": "With .sort_values( ) we get the aisles with the highest mean of one-shot ratio."
    },
    {
      "metadata": {
        "trusted": true,
        "_uuid": "1e992b28a9d06820e26f07e3ba66f9e2e9265f4e"
      },
      "cell_type": "code",
      "source": "aisle_ratio = aisle_ratio.sort_values('mean_one_shot_ratio_of_aisle', ascending=False)\naisle_ratio.head()",
      "execution_count": null,
      "outputs": []
    },
    {
      "metadata": {
        "_uuid": "13e610815ce09185f19c4ab953722733f27fbe64"
      },
      "cell_type": "markdown",
      "source": "And now we get the actual names of the aisles from aisles data frame.\n\nHere we use a left join as we want to keep all the aisles that we have metrics for them, and just join on them the available information of aisles data frame."
    },
    {
      "metadata": {
        "trusted": true,
        "_uuid": "41a97c82ff0712c7af1eebc0b679c128201d8986"
      },
      "cell_type": "code",
      "source": "#get the name of aisles with merge\naisle_ratio_names = pd.merge(aisle_ratio, aisles, on='aisle_id', how='left')\n#set aisle_id as index\naisle_ratio_names = aisle_ratio_names.set_index('aisle_id')\naisle_ratio_names.head(15)",
      "execution_count": null,
      "outputs": []
    },
    {
      "metadata": {
        "trusted": true,
        "_uuid": "78d14cc7530f6a1010b65343fa69b9d8893e533b"
      },
      "cell_type": "markdown",
      "source": "## 4.7 Create visualizations for the products and the aisles with the highest ratio\nAt this stage we create two plots; one for the products & one for the aisles with the highest ratio.\n\nFirst we trim **results_asc** (the DataFrame that keeps the one-shot ratio fo each product) to keep only the top 10."
    },
    {
      "metadata": {
        "trusted": true,
        "_uuid": "fb8b013ccc6d82c298f279ec1cb9dac44cbc100b"
      },
      "cell_type": "code",
      "source": "#perform visualization of the products with the lowest one time ratio\nresults_asc_top = results_asc.iloc[0:10]\nresults_asc_top",
      "execution_count": null,
      "outputs": []
    },
    {
      "metadata": {
        "_uuid": "ad494b71ca7db900a28d031debc1268f6cecfeb3"
      },
      "cell_type": "markdown",
      "source": "And now we create a barplot with top products."
    },
    {
      "metadata": {
        "trusted": true,
        "_uuid": "bfa435a9bf0b36e7c3a86c2a25e7978f929513c6"
      },
      "cell_type": "code",
      "source": "plt.figure(figsize=(12,8))\nsns.barplot(results_asc_top.one_shot_ratio, results_asc_top.product_name)\n# add label to x-axis\nplt.xlabel('Ratio (ordered once/total orders)', size=15)\n# keep y-axis free of label\nplt.ylabel('  ')\n#put a title\nplt.title('Top 10 products that are ordered only once', size=15)\n\n#make tick locations (titles) more visible\nplt.xticks(fontsize=15)\nplt.yticks(fontsize=15)\n\n#we set the range of y-axis to a bit lower from the lowest probability and a bit higher from the higest probability\nplt.xlim(0.98, 1.001)\nplt.show()",
      "execution_count": null,
      "outputs": []
    },
    {
      "metadata": {
        "_uuid": "740b1bcd5ccca3f0c4388ce2f7046a5a10af7550"
      },
      "cell_type": "markdown",
      "source": "In the same fashion, we create a plot for the aisles with the highest mean of one-shot ratio. The information for the aisles is stored in the **aisle_ratio_names** DataFrame."
    },
    {
      "metadata": {
        "trusted": true,
        "_uuid": "35b188792a91deb0ae121ca183492bd6cfc73937"
      },
      "cell_type": "code",
      "source": "aisle_top = aisle_ratio_names.iloc[:10]\naisle_top",
      "execution_count": null,
      "outputs": []
    },
    {
      "metadata": {
        "trusted": true,
        "_uuid": "8c48cdc8ec6bbab6f107539f89660b84a72b86ce"
      },
      "cell_type": "code",
      "source": "plt.figure(figsize=(12,8))\n\nsns.barplot(aisle_top.aisle, aisle_top.mean_one_shot_ratio_of_aisle)\n\n# keep x-axis free of label \nplt.xlabel(' ')\nplt.ylabel('Mean one-shot ratio of aisle', size=15)\nplt.title('Top 10 aisles that their products tend to ordered only once', size=15)\n\n#make tick locations (titles) more visible, rotate axis of xticks\nplt.xticks(fontsize=15, rotation=90)\nplt.yticks(fontsize=15)\n\n#we set the range of y-axis to a bit lower from the lowest probability and a bit higher from the higest probability\nplt.ylim(0.8, 0.9)\nplt.show()",
      "execution_count": null,
      "outputs": []
    },
    {
      "metadata": {
        "_uuid": "05d3f303210d2f8e8be1c23bd104eff68554961f"
      },
      "cell_type": "markdown",
      "source": "# 5 Merge the final variables with prd DataFrame\nIn the final chapter, we show how we can merge the final variable created from Section 2 to the initial **prd** DataFrame that holds data for both the orders and products purchased. \n## 5.1 Create a DataFrame from results DataFrame\nHere, we select to keep only the column 'one_shot_ratio'  and store it a new DataFrame called **results_trimmed**\n"
    },
    {
      "metadata": {
        "trusted": true,
        "_uuid": "37ae92e226c021ec2643bed7fc2292efe4668fbf"
      },
      "cell_type": "code",
      "source": "results_trimmed = results[['one_shot_ratio']]\nresults_trimmed.head()",
      "execution_count": null,
      "outputs": []
    },
    {
      "metadata": {
        "_uuid": "6aade1728111c60bc87216876a475db91c1cf2eb"
      },
      "cell_type": "markdown",
      "source": "### 5.1.2 Merge one_shot_trimmed with prd \nAnd now we join the results_trimmed to the initial prd data frame. We use a left join to keep all the orders and products on the prd data frame.\n![left](https://www.w3schools.com/sql/img_leftjoin.gif)\n\nNote that we would not be able to merge the DataFrames, if we didn't have as index the product_id on results_trimmed."
    },
    {
      "metadata": {
        "trusted": true,
        "_uuid": "d0ecc65a2fef8773c788908bfa4dd5f1fc9a4e34"
      },
      "cell_type": "code",
      "source": "# get the results to the original merged data frame \nprd = pd.merge(prd , results_trimmed, on='product_id', how='left')\nprd.head()",
      "execution_count": null,
      "outputs": []
    }
  ],
  "metadata": {
    "kernelspec": {
      "display_name": "Python 3",
      "language": "python",
      "name": "python3"
    },
    "language_info": {
      "name": "python",
      "version": "3.6.6",
      "mimetype": "text/x-python",
      "codemirror_mode": {
        "name": "ipython",
        "version": 3
      },
      "pygments_lexer": "ipython3",
      "nbconvert_exporter": "python",
      "file_extension": ".py"
    }
  },
  "nbformat": 4,
  "nbformat_minor": 1
}