{
  "cells": [
    {
      "metadata": {
        "_uuid": "51549cb3e588477b0c0b3a7620b23bb71bd939be"
      },
      "cell_type": "markdown",
      "source": "# Instacart EDA 1 Assignment [ANSWER]\nIn this assignment you have to replace the missing code on the following code blocks. <br>\nFirst you will explore the available data on products.csv, and then you will proceed with a visualization on data of orders.csv.<br> \nFinally you will answer to the following questions:\n\n## Business Insights\n* How many days pass since a prior order?\n* How many orders do customers make? (frequency distribution)\n\n\n\n## Import Packages\n\n<br>\nBefore we start, Import the required packages for this assignment."
    },
    {
      "metadata": {
        "_uuid": "8f2839f25d086af736a60e9eeb907d3b93b6e0e5",
        "_cell_guid": "b1076dfc-b9ad-4769-8c92-a6c4dae69d19",
        "trusted": true
      },
      "cell_type": "code",
      "source": "import pandas as pd               # for data manipulation\nimport matplotlib.pyplot as plt   # for plotting \nimport seaborn as sns             # an extension of matplotlib for statistical graphics",
      "execution_count": null,
      "outputs": []
    },
    {
      "metadata": {
        "_cell_guid": "79c7e3d0-c299-4dcb-8224-4455121ee9b0",
        "collapsed": true,
        "_uuid": "d629ff2d2480ee46fbb7e2d37f6b5fab8052498a",
        "trusted": false
      },
      "cell_type": "markdown",
      "source": "<b>Explore products data frame</b>\n* Now, Import products.csv and save it as a data frame. Use the appropiate function from pandas package."
    },
    {
      "metadata": {
        "trusted": true,
        "_uuid": "d0ee622013ac3a7a77066d432251901c3b989d77"
      },
      "cell_type": "code",
      "source": "products = pd.read_csv('../input/products.csv')",
      "execution_count": null,
      "outputs": []
    },
    {
      "metadata": {
        "_uuid": "95f6892f0e4f423990344c6673050ae046dad142"
      },
      "cell_type": "markdown",
      "source": "* And explore the data of products DataFrame. With which method can you retrieve the first rows of a dataframe?"
    },
    {
      "metadata": {
        "trusted": true,
        "_uuid": "ecbd7f6e35e7944bcfbe1aa6de778a07e0ae1777"
      },
      "cell_type": "code",
      "source": "products.head()",
      "execution_count": null,
      "outputs": []
    },
    {
      "metadata": {
        "trusted": true,
        "_uuid": "260d149fdf2c9f44c71ca499369ab547c5d6b592"
      },
      "cell_type": "markdown",
      "source": "* As every row describes a single product, how many products does Instacart sell?\nYou need to use the keyword that returns the number of rows and columns"
    },
    {
      "metadata": {
        "trusted": true,
        "_uuid": "6c602bcdf1b3f287ebc6a80966515d12b32c373f"
      },
      "cell_type": "code",
      "source": "products.shape",
      "execution_count": null,
      "outputs": []
    },
    {
      "metadata": {
        "_uuid": "1b9e4dc56d67a5e6d8e09f0dbf509025b67e8810"
      },
      "cell_type": "markdown",
      "source": "* What is the actual size of the DataFrame (In MB)? You can answer on this question, by using the appropiate method that gives summary info for a data frame"
    },
    {
      "metadata": {
        "trusted": true,
        "_uuid": "46166cb8d408f037061014476b61e77c20d9a39d"
      },
      "cell_type": "code",
      "source": "products.info()",
      "execution_count": null,
      "outputs": []
    },
    {
      "metadata": {
        "_uuid": "25db1f7395b6162329d6ba7fe08e571ca9c439d2"
      },
      "cell_type": "markdown",
      "source": "## How many days pass since a prior order?\n<b>Explore further orders data frame  </b>\n* Now Import the orders.csv and save it as a dataframe"
    },
    {
      "metadata": {
        "trusted": true,
        "_uuid": "b2de45e979db4c3419af92e73d59f42ae910e86d"
      },
      "cell_type": "code",
      "source": "orders = pd.read_csv('../input/orders.csv' )",
      "execution_count": null,
      "outputs": []
    },
    {
      "metadata": {
        "_uuid": "41c9c3e8f2c1c23015ab3ba570fcdba3d612ff28"
      },
      "cell_type": "markdown",
      "source": "* Get the first rows of DataFrame orders. Have a look at **days_since_prior_order** column; what does it represent?"
    },
    {
      "metadata": {
        "trusted": true,
        "_uuid": "d6314d755906403b3bd68cea5efb25064a19be1b"
      },
      "cell_type": "code",
      "source": "orders.head()",
      "execution_count": null,
      "outputs": []
    },
    {
      "metadata": {
        "_uuid": "89d4ff88aeb513c0c7f8395cb399b53d1ea96947"
      },
      "cell_type": "markdown",
      "source": "The **days_since_prior_order** column indicates how many days have passed since a previous order of a customer. The first order of each customer has NaN (Not a Number) value as there is no previous order.\n* Use the appropriate method to find on **days_since_prior_order** how many orders were placed for each distinct period of days. Actually, you want to count how many orders were placed after 1 day, 2 days etc. "
    },
    {
      "metadata": {
        "_uuid": "dfd4b25a70a1801a7f76315f60c98fab09400f4c",
        "trusted": true
      },
      "cell_type": "code",
      "source": "orders.days_since_prior_order.value_counts()",
      "execution_count": null,
      "outputs": []
    },
    {
      "metadata": {
        "_uuid": "691089933278712823fa6e6c3e0e78d4399a0509"
      },
      "cell_type": "markdown",
      "source": "* Use the 'days_since_prior_order' column from orders data frame and create a countplot. Use appropriate titles, labels and a proper size."
    },
    {
      "metadata": {
        "trusted": true,
        "_uuid": "62cb8056c4a987baaa7a1354c8184eef03e0f5ed"
      },
      "cell_type": "code",
      "source": "plt.figure(figsize=(15,5))\n\nsns.countplot(x=\"days_since_prior_order\", data=orders, color='red')\n\nplt.ylabel('Total Orders')\nplt.xlabel('Days since prior order')\nplt.title('Days passed since previous order')\n\nplt.show()",
      "execution_count": null,
      "outputs": []
    },
    {
      "metadata": {
        "trusted": true,
        "_uuid": "c966d864ce29ddb84f832a5cd48ee1e306c2a944"
      },
      "cell_type": "markdown",
      "source": "# How many orders do customers make? (frequency distribution)\nThis plot is similar to the one in [section 7 of Instacart EDA 1 Notebook](https://www.kaggle.com/kokovidis/instacart-eda-1-notebook). The diffirence is that this one is frequency distributio, while the previous was cummulative distribution.\n\nUse the .value_counts( ) method to identify how many order each customer has placed. (user_id)"
    },
    {
      "metadata": {
        "trusted": true,
        "_uuid": "2ec8fd53faea159307414f30a81849aed78313fc"
      },
      "cell_type": "code",
      "source": "order_volume = orders.user_id.value_counts()\norder_volume.tail()\n",
      "execution_count": null,
      "outputs": []
    },
    {
      "metadata": {
        "trusted": true,
        "_uuid": "63bfe4b7dd9105b4fe84959935f652eff840f90d"
      },
      "cell_type": "markdown",
      "source": "Now use order_volume to produce a countplot that shows the distribution of the number of customers per volume of orders."
    },
    {
      "metadata": {
        "trusted": true,
        "_uuid": "616297d6b72d437142c6f3ede40aea0bed6f0cd4"
      },
      "cell_type": "code",
      "source": "plt.figure(figsize=(15,5))\ngraph = sns.countplot(order_volume)\nplt.show()",
      "execution_count": null,
      "outputs": []
    },
    {
      "metadata": {
        "_uuid": "004012e445709040181a42f66e050bfb591e6ad2"
      },
      "cell_type": "markdown",
      "source": "As you can see the x-ticks start from 4 and end to 100. Try now to use only the first and the last tick and use the appropriate labels."
    },
    {
      "metadata": {
        "trusted": true,
        "_uuid": "b3d1e48337445ca6c3f834d56354a6f4270dcb9a"
      },
      "cell_type": "code",
      "source": "plt.figure(figsize=(15,5))\ngraph = sns.countplot(order_volume)\ngraph.set( xticks=[0, 96], xticklabels=['4 orders', '100 orders'] )\nplt.show()",
      "execution_count": null,
      "outputs": []
    }
  ],
  "metadata": {
    "kernelspec": {
      "display_name": "Python 3",
      "language": "python",
      "name": "python3"
    },
    "language_info": {
      "name": "python",
      "version": "3.6.6",
      "mimetype": "text/x-python",
      "codemirror_mode": {
        "name": "ipython",
        "version": 3
      },
      "pygments_lexer": "ipython3",
      "nbconvert_exporter": "python",
      "file_extension": ".py"
    }
  },
  "nbformat": 4,
  "nbformat_minor": 1
}