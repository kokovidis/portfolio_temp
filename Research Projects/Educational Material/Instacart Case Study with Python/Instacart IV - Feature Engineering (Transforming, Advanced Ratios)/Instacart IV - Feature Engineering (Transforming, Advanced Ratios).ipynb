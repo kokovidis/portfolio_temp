{
  "cells": [
    {
      "metadata": {
        "_uuid": "8f2839f25d086af736a60e9eeb907d3b93b6e0e5",
        "_cell_guid": "b1076dfc-b9ad-4769-8c92-a6c4dae69d19",
        "trusted": true
      },
      "cell_type": "markdown",
      "source": "# Introduction\nThis kernel has been created by the [Information Systems Lab](http://islab.uom.gr) at the University of Macedonia, Greece for the needs of the elective course Special Topics of Information Systems I at the [Business Administration](http://www.uom.gr/index.php?tmima=2&categorymenu=2) department of the University of Macedonia, Greece.\n\nIn this Instacart Notebook, we will get insights regarding how each customer behave towards the products that has ordered in the past. <br>\nTo be more specific, we create variables that describe each possible combination of user (user_id) with product (product_id) from prior orders.\n\n# Business Insights\n* How many times a customer bought a product on its last 5 orders?\n - Find which products have been bought by the most users on all of their last five orders\n* How frequently a customer bought a product after its first purchase?\n - How many times a customer bought a product?\n\n# Python Skills\n* Transform columns with .groupby( )\n* Filter orders\n* Calculate range of orders for a product\n\n# Packages \n* pandas: .transform( ), .max( ) , .min( ), .hist(cumulative=True), .set_index( )"
    },
    {
      "metadata": {
        "_uuid": "50988557c959e6671c7b2bac270d94b972237f31"
      },
      "cell_type": "markdown",
      "source": "# Import data into Python\nWe load the required packages:"
    },
    {
      "metadata": {
        "_cell_guid": "79c7e3d0-c299-4dcb-8224-4455121ee9b0",
        "_uuid": "d629ff2d2480ee46fbb7e2d37f6b5fab8052498a",
        "trusted": true
      },
      "cell_type": "code",
      "source": "import pandas as pd               # for data manipulation\nimport matplotlib.pyplot as plt   # for plotting \nimport seaborn as sns             # an extension of matplotlib for statistical graphics",
      "execution_count": null,
      "outputs": []
    },
    {
      "metadata": {
        "_uuid": "b3d4c1b348116637f6e8154f7840c787e919ec78"
      },
      "cell_type": "markdown",
      "source": "Moreover, we load the .csv files in DataFrames:"
    },
    {
      "metadata": {
        "trusted": true,
        "_uuid": "ff2925da5999b6277aed03909a784bb7b6fa1b86"
      },
      "cell_type": "code",
      "source": "orders = pd.read_csv('../input/orders.csv' )\norder_products_prior = pd.read_csv('../input/order_products__prior.csv')\nproducts = pd.read_csv('../input/products.csv')",
      "execution_count": null,
      "outputs": []
    },
    {
      "metadata": {
        "_uuid": "4cec9076a79a5114526ce8a391a18f1c633c87ba"
      },
      "cell_type": "markdown",
      "source": "The data that we use in this notebook come from both the orders and products purchased from each customer, so we create the **prd** DataFrame:"
    },
    {
      "metadata": {
        "trusted": true,
        "_uuid": "5efd91b91496f514f7c75dc8677c979e71a28e44"
      },
      "cell_type": "code",
      "source": "prd = pd.merge(orders, order_products_prior, on='order_id', how='inner')\nprd.head(100)",
      "execution_count": null,
      "outputs": []
    },
    {
      "metadata": {
        "_uuid": "2948aaac42582c33a81f376aad9060dca7a044c5"
      },
      "cell_type": "markdown",
      "source": "# 1 How many times a customer bought a product on its last 5 orders ?(times_last_5 & times_last_5_ratio)\n\nIn this business insight, we want to keep the last five orders for each customer and get how many times bought any product on them. To achieve this we need to:\n* Create a new variable ('order_number_back') which keeps the order_number for each order in reverse order\n* Keep only the last five orders for each order\n* Perform a .groupby( ) on users and products to get how many times each customer bought a product.\n* Create the following ratio:\n![](https://latex.codecogs.com/gif.latex?times%5C%20last%20%5C5%5C%20%28of%5C%20a%5C%20purchased%5C%20product%5C%20from%5C%20a%5C%20user%29%3D%5Cfrac%7BTimes%5C%20a%5C%20user%5C%20bought%5C%20a%5C%20product%5C%20on%5C%20its%5C%20last%5C%205%5C%20orders%7D%7BTotal%5C%20orders%5C%20%3D5%7D)"
    },
    {
      "metadata": {
        "_uuid": "a731136021e5dee5a4985f2633a041ce9b5fbe52"
      },
      "cell_type": "markdown",
      "source": "## 1.1 Create a new variable ('order_number_back') which keeps the order_number for each order in reverse order\nIn this step we show how we create a reverse order_number for each customer. <br>\nHave a look at the orders of customer 1 (user_id == 1)"
    },
    {
      "metadata": {
        "trusted": true,
        "_uuid": "11bb5aaaa9d86703fed7ac5fe18586f953033777"
      },
      "cell_type": "code",
      "source": "prd[prd.user_id==1].head(45)",
      "execution_count": null,
      "outputs": []
    },
    {
      "metadata": {
        "_uuid": "2d200e95d55a23d64a5d1c9e5735490e1fae1751"
      },
      "cell_type": "markdown",
      "source": "What we want to create, is a new column ('order_number_back') which indicates the last order as first, the second from the end as second and so on. To achieve this, we get the highest order_number (max) for user_id==1 and we subtract the order_number of each order from it. Thus for last order (order_number == 10) that will be: \n<br>\n<br>\n\n![order_number_back](https://latex.codecogs.com/png.latex?%5Cdpi%7B200%7D%20%5Ctiny%20%5Cfontsize%7B%20%7D%7Bbaselineskip%7D%20order%5C_number%5C_back%28x%29%3D%20order%5C_number.max%28%29%20-order%5C_number%28x%29%3D10%20-%2010%20%3D%200)\n\nAnd as we want the last order to be marked as first, rather than zeroth, the previous formula will be:\n\n![](https://latex.codecogs.com/png.latex?%5Cdpi%7B200%7D%20%5Ctiny%20%5Cfontsize%7B%20%7D%7Bbaselineskip%7D%20order%5C_number%5C_back%28x%29%3D%20order%5C_number.max%28%29%20-order%5C_number%28x%29%3D10%20-%2010%20&plus;1%3D%201)\n\n> Note that order_number.max( ) is a single value, where order_number is a 1-D array (column/Series)\n\nBy applying the above formula to the orders of user_id == 1 we get the following results:\n![](https://i.imgur.com/toda8ay.png)"
    },
    {
      "metadata": {
        "_uuid": "6416ce71ddb1b856f03a9dcecebc18c6a84e2583"
      },
      "cell_type": "markdown",
      "source": "Now we show how we can perform the procedure on all users. We .groupby( ) prd by the user_id and we select the column order_number. With .transform(max) we request to get the highest number of the column order_number for each group & with minus (-) prd.order_number we substract the order_number of each row. Finally we add 1 for the reason mentioned above.\n\n> .transform( ) perform some group-specific computations and return a like-indexed object. "
    },
    {
      "metadata": {
        "trusted": true,
        "_uuid": "103036d362bb0d3ad9bd239dd20ff5ff23087663"
      },
      "cell_type": "code",
      "source": "prd['order_number_back'] = prd.groupby('user_id')['order_number'].transform(max) - prd.order_number +1 \nprd.head(15)",
      "execution_count": null,
      "outputs": []
    },
    {
      "metadata": {
        "_uuid": "451a3d3905265f6fafb9df18155de433e3529b37"
      },
      "cell_type": "markdown",
      "source": "Check that the formula has been applied to all users. Here we check the new column for a random user (user_id== 30):"
    },
    {
      "metadata": {
        "trusted": true,
        "_uuid": "6edd431d66f24419ed9a4fdea1f7622d6542d9e1"
      },
      "cell_type": "code",
      "source": "prd[prd.user_id==30].head(10)",
      "execution_count": null,
      "outputs": []
    },
    {
      "metadata": {
        "_uuid": "23f87bb749d52afa9c99c58738bfff69ae51a8a7"
      },
      "cell_type": "markdown",
      "source": "## 1.2 Keep only the last five orders for each customer\nWith the use of order_number_back we can now select to keep only the last five orders of each customer:"
    },
    {
      "metadata": {
        "trusted": true,
        "_uuid": "028d662bedb36649da5597bc1d123697b318962a"
      },
      "cell_type": "code",
      "source": "prd5 = prd[prd.order_number_back <= 5]\nprd5.head(15)",
      "execution_count": null,
      "outputs": []
    },
    {
      "metadata": {
        "_uuid": "108e2b6c99d9ce9825d17b79a80a6280b5b04f8c"
      },
      "cell_type": "markdown",
      "source": "## 1.3 Perform a .groupby( ) on users and products to get how many times each customer bought every product.\nHaving kept the last 5 orders for each user, we perform a .groupby( ) on user_id & product_id. With .count( ) we get how many times each customer bought a product."
    },
    {
      "metadata": {
        "trusted": true,
        "_uuid": "8aee6c7caf70f788491ac0e0e426c1d34b62fa43"
      },
      "cell_type": "code",
      "source": "last_five = prd5.groupby(['user_id','product_id'])[['order_id']].count()\nlast_five.columns = ['times_last5']\nlast_five.head(10)",
      "execution_count": null,
      "outputs": []
    },
    {
      "metadata": {
        "_uuid": "1fe626781fac98bd0cc55ed7b04947ef2829e74b"
      },
      "cell_type": "markdown",
      "source": "So for user_id==1, the product 196 has been ordered on all of its last five orders, where the product 35951 has been ordered only one time."
    },
    {
      "metadata": {
        "_uuid": "0f27c51a524abe34efada3b1273b549938ee5b1b"
      },
      "cell_type": "markdown",
      "source": "## 1.4 Create the final ratio\nTo create the final ratio, we simply divide the new column by 5:"
    },
    {
      "metadata": {
        "trusted": true,
        "_uuid": "ba0e1653e216042e0f0fda81c9e23a4c19728968"
      },
      "cell_type": "code",
      "source": "last_five['times_last5_ratio'] = last_five.times_last5 / 5\nlast_five.head(10)",
      "execution_count": null,
      "outputs": []
    },
    {
      "metadata": {
        "_uuid": "659989f29ff2d99580e0261529c42d63fe3de591"
      },
      "cell_type": "markdown",
      "source": "# 1.5 Your Turn 📚📝\nHave a look on the orders of the customer with user_id == 5:"
    },
    {
      "metadata": {
        "trusted": true,
        "_uuid": "d2764d6294c6a2d7b611431beac73f01168cdc54"
      },
      "cell_type": "code",
      "source": "prd[prd.user_id==5]",
      "execution_count": null,
      "outputs": []
    },
    {
      "metadata": {
        "_uuid": "67f12a9ccbfe1ce2cfdbe80c40e13e3549676929"
      },
      "cell_type": "markdown",
      "source": "As you can see, the customer with user_id==5 has placed 4 orders in total. How can filter out the customers with less than 5 orders?"
    },
    {
      "metadata": {
        "trusted": true,
        "_uuid": "96a5734bf4b0dbacf8a0bac14ca710a584b0f65f"
      },
      "cell_type": "code",
      "source": "#Solution 1.1\n#prd5_with_five_orders = prd5.groupby('user_id').filter(lambda x: x.order_number_back.max() == 5)\n#Solution 1.2\n#prd5_with_five_orders = prd5.groupby('user_id').filter(lambda x: x.order_number_back.max() > 4)",
      "execution_count": null,
      "outputs": []
    },
    {
      "metadata": {
        "trusted": true,
        "_uuid": "3179f6d3ccbaaf523573f69d778149aa25c65bbc"
      },
      "cell_type": "code",
      "source": "#Solution 2.1\n#prd5_with_five_orders = prd5.groupby('user_id').filter(lambda x: x.order_number.max() == 5)\n#Solution 2.1\n#prd5_with_five_orders = prd5.groupby('user_id').filter(lambda x: x.order_number_back.max() > 4)",
      "execution_count": null,
      "outputs": []
    },
    {
      "metadata": {
        "trusted": true,
        "_uuid": "25f8736dffa73a3e4ba4f358a4774209a4330c55"
      },
      "cell_type": "code",
      "source": "# Solution 3\nprd5_with_five_orders = prd5.groupby('user_id').filter(lambda x: x.order_id.nunique() == 5)",
      "execution_count": null,
      "outputs": []
    },
    {
      "metadata": {
        "_uuid": "fe7525a59e3b7a2de457d67906a28764a0b684e7"
      },
      "cell_type": "markdown",
      "source": "Perform the appropriate sanity check to check your results."
    },
    {
      "metadata": {
        "trusted": true,
        "_uuid": "0219690e0ac55223d065b4a4d9da9b06c659c4da"
      },
      "cell_type": "code",
      "source": "#sanity check\nprd5_with_five_orders[prd5_with_five_orders.user_id==5]",
      "execution_count": null,
      "outputs": []
    },
    {
      "metadata": {
        "_uuid": "5636621c6a59fb4a401b41cddaa0b0d3f95567a9"
      },
      "cell_type": "markdown",
      "source": "## 1.6 Find which products have been bought by the most users on all of their last five orders\nTo get this insight we will keep only the rows that have ratio == 1. On the rows, we will perform a .groupby( ) using the product_id and we will count the number of observations"
    },
    {
      "metadata": {
        "trusted": true,
        "_uuid": "d0404e398c005f32447592b916238f4655a073ba"
      },
      "cell_type": "code",
      "source": "last_five_top = last_five[last_five.times_last5_ratio == 1].groupby('product_id')[['times_last5_ratio']].count()\nlast_five_top.columns = ['total_users']\nlast_five_top.head()",
      "execution_count": null,
      "outputs": []
    },
    {
      "metadata": {
        "_uuid": "2ddc1afbf972c55d1d0a51207d1c2eca3a63c531"
      },
      "cell_type": "markdown",
      "source": "Now we sort them in descending order by the total_users. We keep the 20 top products, and we reset the index of the DataFrame:"
    },
    {
      "metadata": {
        "trusted": true,
        "_uuid": "31ac05f7fbbefe7e29e9237cedfcda1f2c740d95"
      },
      "cell_type": "code",
      "source": "last_five_top = last_five_top.sort_values(by='total_users', ascending=False)\nlast_five_top = last_five_top.iloc[0:20]\nlast_five_top = last_five_top.reset_index()\nlast_five_top",
      "execution_count": null,
      "outputs": []
    },
    {
      "metadata": {
        "_uuid": "6d17115b58bb5e1faf8e773de92195455239f5b1"
      },
      "cell_type": "markdown",
      "source": "We get the name of the products from the products DataFrame:"
    },
    {
      "metadata": {
        "trusted": true,
        "_uuid": "bc33591826e712e09f3196eb9eb8e2a4227bb8e6"
      },
      "cell_type": "code",
      "source": "last_five_top_names = pd.merge(last_five_top, products, how='left')\nlast_five_top_names",
      "execution_count": null,
      "outputs": []
    },
    {
      "metadata": {
        "_uuid": "a8f7fb7081cf13e22bb27e2c754e906c4f90a7d5"
      },
      "cell_type": "markdown",
      "source": "Finally, we visualize the results:"
    },
    {
      "metadata": {
        "trusted": true,
        "_uuid": "4f4a6dc9e832fd33104e9ffef386d4b957c44a2a"
      },
      "cell_type": "code",
      "source": "plt.figure(figsize=(12,8))\nsns.barplot(last_five_top_names.total_users, last_five_top_names.product_name)\n# add label to x-axis\nplt.xlabel('Number of users', size=15)\n# keep y-axis free of label\nplt.ylabel('  ')\n#put a title\nplt.title('Top 20 products that have been ordered by most users on their last 5 orders ', size=15)\nplt.xticks(fontsize=15)\nplt.yticks(fontsize=15)\nplt.show()",
      "execution_count": null,
      "outputs": []
    },
    {
      "metadata": {
        "_uuid": "686c76e12e7cbaf08e0191e3a4c14a87fe770bb6"
      },
      "cell_type": "markdown",
      "source": "# 2 How frequently a customer bought a product after its first purchase ?\nIn this business insight we want to calculate the following ratio for each customer and every product that has purchased.\n\n![Order Ratio](https://latex.codecogs.com/gif.latex?%5Cdpi%7B120%7D%20Order%5C%20Ratio%5C%20%28of%5C%20a%5C%20purchased%5C%20product%5C%20from%5C%20a%5C%20user%29%20%3D%20%5Cfrac%7BTimes%5C%20a%5C%20user%5C%20bought%5C%20a%5C%20product%7D%7BNumber%5C%20of%5C%20orders%5C%20placed%5C%20since%5C%20first%5C%20purchase%7D)\n\nIn this way we can create a metric that describes how many times a user bought a product out of how many times he or she had the chance to a buy it (starting from its first purchase).\n\nTo clarify this, we examine the user_id 1 and the product_id 13032:\n- User 1 has made 10 orders in total\n- Has bought the product_id 13032 for first time in its 2nd order & has bought the same product 3 times in total.\n\nThen:\nUser was able to buy the product for 9 times (starting from its 2nd order to his last order).\nSo this means that has bought it 3 out of 9 times, which equals 3/9= 0,333.\n\nA higher ratio means that the customer bought more frequently a product since its first purchase.\n\nBefore we show how we can create the above ratio we declare the following variables:\n* How many times a customer bought a product? ('Times_Bought_N')\n* For each product get the total orders placed since its first order ('Order_Range_D')\n\nSo our desired ratio is defined as:\n\n![Order_Ratio_user_id_X_product_id](https://latex.codecogs.com/gif.latex?Order%5C_Ratio%5C%28user%5C_id%5C%20%2C%5C%20product%5C_id%29%20%3D%20%5Cfrac%7BTimes%5C_Bought%5C_N%7D%7BOrder%5C_Range%5C_D%7D)\n\nWhere Order_Range_D is created throught two supportive variables:\n* The total number of orders for each customer ('total_orders')\n* The order number where the customer bought a product for first time ('first_order_number')\n\nWhere\n![Order_Range_D](https://latex.codecogs.com/gif.latex?%5Cdpi%7B120%7D%20%5C%20%5C%20%5C%20%5C%20%5C%20Order%5C_Range%5C_D%28user%5C_id%2C%20product%5C_id%29%20%3D%20%5Cnewline%20%3D%5C%20total%5C_orders%28user%5C_id%29%20-%20first%5C_order%5C_number%28user%5C_id%2C%20product%5C_id%29%20&plus;%201)\n\nIn the next blocks we show how we create:\n1. The numerator 'Times_Bought_N'\n2. The supportive variables 'total_orders' & 'first_order_number' \n3. The denumerator 'Order_Range_D' with the use of the supportive variables\n4. Our final ratio 'Order_Ratio_user_id_X_product_id'"
    },
    {
      "metadata": {
        "_uuid": "e074e3b218116ab7f82fec8e63daa86ed4fbc66a"
      },
      "cell_type": "markdown",
      "source": "## 2.1 Calculating the numerator\n### 2.1.1 How many times a customer bought a product? ('Times_Bought_N')\nTo answer this question we simply .groupby( ) user_id & product_id and we count the order_id for each group"
    },
    {
      "metadata": {
        "trusted": true,
        "_uuid": "f2d75c5dff500b58d03c323615a538b6be886b2c"
      },
      "cell_type": "code",
      "source": "times = prd.groupby(['user_id', 'product_id'])[['order_id']].count()\ntimes.columns = ['Times_Bought_N']\ntimes.head()",
      "execution_count": null,
      "outputs": []
    },
    {
      "metadata": {
        "_uuid": "ef52cd1feb54bf544f118320089d9ac5d6b2fe24"
      },
      "cell_type": "markdown",
      "source": "## 2.2 Calculating the denumerator\nTo calculate the denumerator, we have first to calculate the total orders of each user & first order number for each user and every product purchase\n### 2.2.1 The total number of orders for each customer ('total_orders')\nHere we .groupby( ) only by the user_id, we keep the column order_number and we get its highest value with the aggregation function .mean()"
    },
    {
      "metadata": {
        "trusted": true,
        "_uuid": "0f90635afe2a6432d44fcfa9b10eff8d2f33961a"
      },
      "cell_type": "code",
      "source": "total_orders = prd.groupby('user_id')[['order_number']].max()\ntotal_orders.columns = ['total_orders']\ntotal_orders.head()",
      "execution_count": null,
      "outputs": []
    },
    {
      "metadata": {
        "_uuid": "0d39692bc929fcd50fded30f998763eb467844d0"
      },
      "cell_type": "markdown",
      "source": "### 2.2.2 The order number where the customer bought a product for first time ('first_order_number')\nWhere for first_order_number we .groupby( ) by both user_id & product_id. As we want to get the order when a product has been purchases for first time, we select the order_number column and we retrieve with .min( ) aggregation function, the earliest order."
    },
    {
      "metadata": {
        "trusted": true,
        "_uuid": "cee57658ce661d2e40ef6943c9e5d6aeeb3eebba"
      },
      "cell_type": "code",
      "source": "first_order_number = prd.groupby(['user_id', 'product_id'])[['order_number']].min()\nfirst_order_number.columns = ['first_order_number']\nfirst_order_number.head()",
      "execution_count": null,
      "outputs": []
    },
    {
      "metadata": {
        "_uuid": "ae0428e583c28a59781175b8c81ab9b7d49f63fa"
      },
      "cell_type": "markdown",
      "source": "As our goal is to create the Order_Range_D, we need to merge total_orders with first_order_number DataFrame. For this reason we request to turn the multiple index of first_order_number as columns:"
    },
    {
      "metadata": {
        "trusted": true,
        "_uuid": "9fad1eac3cf0747448d423447d1156fd0e5c1b19"
      },
      "cell_type": "code",
      "source": "first_order_number_reset = first_order_number.reset_index()\nfirst_order_number_reset.head()",
      "execution_count": null,
      "outputs": []
    },
    {
      "metadata": {
        "_uuid": "8dc454cbb3997766db5af72e01259e59aea498f6"
      },
      "cell_type": "markdown",
      "source": "So we can succesfully merge the DataFrames. As total_orders refers to all users, where first_order_number refers to unique combinations of user & product, we perform a right join:"
    },
    {
      "metadata": {
        "trusted": true,
        "_uuid": "a536b3e7be30c8adf1b68eeb8f70243462002175"
      },
      "cell_type": "code",
      "source": "span = pd.merge(total_orders, first_order_number_reset, on='user_id', how='right')\nspan.head(20)",
      "execution_count": null,
      "outputs": []
    },
    {
      "metadata": {
        "_uuid": "81c2c1490de17b1b1070779ca0cf995c0fdf824c"
      },
      "cell_type": "markdown",
      "source": "### 2.2.3 For each product get the total orders placed since its first order ('Order_Range_D')\nThe denominator now can be created with simple operations between the columns of results DataFrame:"
    },
    {
      "metadata": {
        "trusted": true,
        "_uuid": "7eda7dbf9d1527a069547fa90a30f8f290edd510"
      },
      "cell_type": "code",
      "source": "span['Order_Range_D'] = span.total_orders - span.first_order_number + 1\nspan.head(30)",
      "execution_count": null,
      "outputs": []
    },
    {
      "metadata": {
        "_uuid": "d2e6007e7f2c9034a3df7807c8b266330780a712"
      },
      "cell_type": "markdown",
      "source": "### 2.2.4 Create the final ratio Order_Ratio_user_id_X_product_id\n####  2.2.4.1 Merge the DataFrames of numerator & denumerator\nIn this stage we select to merge times DataFrame which contains the numerator & span which contains the denumerator of our desired ratio. **As both variables derived from the combination of users & products, any type of join will keep all the combinations.**"
    },
    {
      "metadata": {
        "trusted": true,
        "_uuid": "4c0d803c758cb0bead8192c7326ff9e9249d9b28"
      },
      "cell_type": "code",
      "source": "order_ratio = pd.merge(times, span, on=['user_id', 'product_id'], how='left')\norder_ratio.head()",
      "execution_count": null,
      "outputs": []
    },
    {
      "metadata": {
        "_uuid": "68ac644c1520620032332d27c4cf5cb86e3a2dc5"
      },
      "cell_type": "markdown",
      "source": "####  2.2.4.2 Perform the final division\nNow we divide theTimes_Bought_N by the Order_Range_D for each user and product."
    },
    {
      "metadata": {
        "trusted": true,
        "_uuid": "484bb4e68f9f1bfbaf15d4736e302f3378375ae7"
      },
      "cell_type": "code",
      "source": "order_ratio['Order_Ratio_user_id_X_product_id'] = order_ratio.Times_Bought_N / order_ratio.Order_Range_D\norder_ratio.head()",
      "execution_count": null,
      "outputs": []
    },
    {
      "metadata": {
        "_uuid": "05b00c84361f3ae11ee2629b8c6a771fa9605863"
      },
      "cell_type": "markdown",
      "source": "## 2.3 Visualizing the order_ratio for a product\nHere we show the distribution of order_ratio for product 24852; bananas , a product with 73956 unique customers."
    },
    {
      "metadata": {
        "trusted": true,
        "_uuid": "f836eeff5f8b50cdd461632b5695c0e7925cb2e3"
      },
      "cell_type": "code",
      "source": "plt.figure(figsize=(15,5))\norder_ratio[order_ratio.product_id == 24852].Order_Ratio_user_id_X_product_id.hist(bins=50)\nplt.xlabel('order_ratio', size=10)\nplt.ylabel('Number of customers')\nplt.title('The distribution of order_ratio for bananas', size=10)\nplt.xticks(fontsize=10)\nplt.yticks(fontsize=10)\nplt.show()",
      "execution_count": null,
      "outputs": []
    },
    {
      "metadata": {
        "_uuid": "54c54cbdf4d6e45817d4ca9b137353c8944cf605"
      },
      "cell_type": "markdown",
      "source": "And now we create a Cumulative Distribution Function (CDF) for the same ratio:"
    },
    {
      "metadata": {
        "trusted": true,
        "_uuid": "75c22f5b4e3469832ae041ebf42024cf4141d5bb"
      },
      "cell_type": "code",
      "source": "plt.figure(figsize=(15,5))\norder_ratio[order_ratio.product_id == 24852].Order_Ratio_user_id_X_product_id.hist(cumulative=True, bins=50)\nplt.xlabel('order_ratio', size=10)\nplt.ylabel('Number of customers')\nplt.title('The CDF of order_ratio for bananas', size=10)\nplt.xticks(fontsize=10)\nplt.yticks(fontsize=10)\nplt.show()",
      "execution_count": null,
      "outputs": []
    },
    {
      "metadata": {
        "_uuid": "661e746eba17fb4aadd4f43c655165c91149e138"
      },
      "cell_type": "markdown",
      "source": "Where we can conclude that 40.000 customers, bought bananas on less than their half orders (since the first time they ordered bananas), where around to (75.000-40.000=) 35.000 customers bought bananas on more than their half orders . Note that we refer to unique customers (customers who bought bananas even once) and not on all customers (206.209)"
    },
    {
      "metadata": {
        "_uuid": "d039fde622e92be7fda5d1a8c02962e3e2f6be1c"
      },
      "cell_type": "markdown",
      "source": "## 2.4 Setting index\nAs the combination of user_id & product_id are identical, we set them as the index of our order_ratio DataFrame:"
    },
    {
      "metadata": {
        "trusted": true,
        "_uuid": "c3afc1081073f9e91461afe105fa7331c92c251f"
      },
      "cell_type": "code",
      "source": "order_ratio = order_ratio.set_index(['user_id','product_id'])\norder_ratio.head()",
      "execution_count": null,
      "outputs": []
    }
  ],
  "metadata": {
    "kernelspec": {
      "display_name": "Python 3",
      "language": "python",
      "name": "python3"
    },
    "language_info": {
      "name": "python",
      "version": "3.6.6",
      "mimetype": "text/x-python",
      "codemirror_mode": {
        "name": "ipython",
        "version": 3
      },
      "pygments_lexer": "ipython3",
      "nbconvert_exporter": "python",
      "file_extension": ".py"
    }
  },
  "nbformat": 4,
  "nbformat_minor": 1
}