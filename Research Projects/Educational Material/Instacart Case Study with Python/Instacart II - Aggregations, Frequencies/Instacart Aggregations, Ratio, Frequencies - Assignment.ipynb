{
  "cells": [
    {
      "metadata": {
        "_uuid": "923ab298e5b995ea36c6fb156fa5bcabe8727c36"
      },
      "cell_type": "markdown",
      "source": "# Instacart EDA 2 Assignment\n\n## Business Insights\n* Which aisle has the most products?\n* What is the average position of a product in an order?\n\n## Introduction\nFor your second assignment you have to execute code and fill out the missing code. \n* the code blocks that you need to execute (without writing something else) are marked with single hashtag (#)\n* the code blocks that you need to fill out the missing part are marked with a double hashtag (##)\n* the code blocks that you need to write on your own are marked with triple hashtags (###)\n\nFor this assignment you will answer two business insights; one with data from products.csv, and one with data from order_products__prior.csv.\n\nBefore we start, Import the required packages for this assignment."
    },
    {
      "metadata": {
        "_uuid": "8f2839f25d086af736a60e9eeb907d3b93b6e0e5",
        "_cell_guid": "b1076dfc-b9ad-4769-8c92-a6c4dae69d19",
        "trusted": true
      },
      "cell_type": "code",
      "source": "import pandas as pd               # for data manipulation\nimport matplotlib.pyplot as plt   # for plotting \nimport seaborn as sns             # an extension of matplotlib for statistical graphics",
      "execution_count": null,
      "outputs": []
    },
    {
      "metadata": {
        "_cell_guid": "79c7e3d0-c299-4dcb-8224-4455121ee9b0",
        "collapsed": true,
        "_uuid": "d629ff2d2480ee46fbb7e2d37f6b5fab8052498a",
        "trusted": false
      },
      "cell_type": "markdown",
      "source": "# Assignment I:\n## Which aisle has the most products?\nTo answer this question you have to:\n0. Import the ``products.csv`` from directory:  ``\" ../input/products.csv \"``\n1.  .groupby( ) all available products (from products DataFrame) by their \"aisle_id\", select the appropriate column and use aggregation function .count( ) .  Save the results with the name: aisle_top\n2. Rename the column of the produced DataFrame as:  'total_products'\n3. Sort the values so to get the aisles with the most products first.  Save the results with the name: aisle_top_sort \n4. Select the first 10 rows of the data frame\n5. Visualize the results"
    },
    {
      "metadata": {
        "trusted": true,
        "_uuid": "2c531f5869e1fd62c2cfeed6ba6205706b2085dc"
      },
      "cell_type": "code",
      "source": "## step 0 - import products.csv from directory '../input/products.csv'\nproducts = ",
      "execution_count": null,
      "outputs": []
    },
    {
      "metadata": {
        "trusted": true,
        "_uuid": "c9465c8b4f93ad5b65604428c5381dd4be441100"
      },
      "cell_type": "code",
      "source": "## step 1 - .groupby( ) all available products (from products data frame) by their \"aisle_id\", then select to find the size of each group\naisle_top = products.groupby('_______')[[_____]].____()",
      "execution_count": null,
      "outputs": []
    },
    {
      "metadata": {
        "trusted": true,
        "_uuid": "79e25cb365ede9bca3155b5ee54f5cdc1251d730"
      },
      "cell_type": "code",
      "source": "### step 2 - Rename the column of aisle_top as: 'total_products'\n",
      "execution_count": null,
      "outputs": []
    },
    {
      "metadata": {
        "trusted": true,
        "_uuid": "c0eebea40b6599cfb89cade1129f68447bc869b4"
      },
      "cell_type": "code",
      "source": "# Before you move on to step 3, have a look at your produced results so far.\n# Check the results below\naisle_top.head()",
      "execution_count": null,
      "outputs": []
    },
    {
      "metadata": {
        "trusted": true,
        "_uuid": "09cb506ba1857a6d254ca4a3b9bcd83277f62f80"
      },
      "cell_type": "code",
      "source": "## step 3 - Sort the values of total_products so to get the aisles with most products first.\naisle_top_sort = aisle_top.sort_values(by='_______', ascending=_______)\n\n## step 4 - Select the first 10 rows of the data frame. Remember that index in Python starts from 0\naisle_top_sort = aisle_top_sort.___[ : ]",
      "execution_count": null,
      "outputs": []
    },
    {
      "metadata": {
        "trusted": true,
        "_uuid": "d654be8dc888caae2746b4eec7ded9ad5a9ba9fe"
      },
      "cell_type": "code",
      "source": "### Before you move on to the final step, how can you ensure that the aisle_top has only 10 aisles?\n",
      "execution_count": null,
      "outputs": []
    },
    {
      "metadata": {
        "trusted": true,
        "_uuid": "6e91449015df64430066bf055db90b367197dd5a"
      },
      "cell_type": "code",
      "source": "# Have a look at the produced data frame before you plot it (visualize it).\n# Are your results fine?\naisle_top_sort.head()",
      "execution_count": null,
      "outputs": []
    },
    {
      "metadata": {
        "trusted": true,
        "_uuid": "47cd32914a82b08364a526ecf5a2dfdc56f53473"
      },
      "cell_type": "code",
      "source": "## step 5 - Visualize the results. Place index on x-axis\nplt.figure(_________=(__,__))\nsns.barplot(__________, __________, order=________)\nplt.xlabel('_________', size=15)\nplt.ylabel('_________', size=15)\n# Modify the limits\nplt._____lim(___,____)\nplt.show()",
      "execution_count": null,
      "outputs": []
    },
    {
      "metadata": {
        "_uuid": "c67f9fc03c5389c3fc4dcc519cdfe1ecaed998b7"
      },
      "cell_type": "markdown",
      "source": "#  Assignment II: \n## What is the average position of a product in an order?\nTo answer this question you have to:\n0. Import the ``order_products__prior.csv`` from directory:  `` \" ../input/order_products__prior.csv \" ``\n1. Filter order_products_prior DataFrame and keep the products with <b>more</b> than 30 purchases. Save the results with the name: avg_pos\n2. Use the avg_pos DataFrame that you have created on the previous step, perform a groupby( ) on products and select the appropiate column to use the aggregation function mean( )\n3. Rename the produced column as: 'mean_add_to_cart_order'\n4. Use the proper method to sort the products by their mean_add_to_cart_order. Sort them in ascending order. Save the results with the name: avg_pos_asc\n5. Use the same method to sort the products in descending order - store them in a new DataFrame with name: avg_pos_des\n6. Get the product_id of the product with the **highest** value of mean_add_to_cart_order. Store the result to id_low \n7. Import products.csv and find the name of the product with the **highest** mean_add_to_cart_order\n8. Create a barplot for the 10 products with the **lowest** mean_add_to_cart_order"
    },
    {
      "metadata": {
        "trusted": true,
        "_uuid": "047a130f9a5ec38ef12efb300e73ef8436d5855f"
      },
      "cell_type": "code",
      "source": "## step 0 - Import the order_products__prior.csv from directory '../input/order_products__prior.csv'\norder_products_prior = ",
      "execution_count": null,
      "outputs": []
    },
    {
      "metadata": {
        "trusted": true,
        "_uuid": "9c7ef0ab39e814f6994485ed5538213903f2dae6"
      },
      "cell_type": "code",
      "source": "## step 1 - Filter order_products_prior and keep only these products with more than 30 purchases\navg_pos = _________.groupby(_____________).filter(lambda x: _________)",
      "execution_count": null,
      "outputs": []
    },
    {
      "metadata": {
        "trusted": true,
        "_uuid": "7a29eaf1ad142706217afd921e60d47dc7480960"
      },
      "cell_type": "code",
      "source": "## step 2 -  .groupby( ) products and for add_to_cart_order column aggregate the values with the mean function.\navg_pos = avg_pos.groupby('_______')[[_____]].mean()\navg_pos.head()",
      "execution_count": null,
      "outputs": []
    },
    {
      "metadata": {
        "trusted": true,
        "_uuid": "2e9371097790f08b85848337e326248af71e35c3"
      },
      "cell_type": "code",
      "source": "### step 3 - Rename column of avg_pos as: 'mean_add_to_cart_order'\n\n",
      "execution_count": null,
      "outputs": []
    },
    {
      "metadata": {
        "trusted": true,
        "_uuid": "7d1f0adb41a65d9da5bcbc1f815e058072edcaa4"
      },
      "cell_type": "code",
      "source": "## step 4 -  Use the proper method to sort the products by their mean_add_to_cart_order. Sort them in ascending order\navg_pos_asc = avg_pos.__________(by=_____________, ascending=_____)",
      "execution_count": null,
      "outputs": []
    },
    {
      "metadata": {
        "trusted": true,
        "_uuid": "cce87af011183187e8c40e9792d251c5fcc7a04a"
      },
      "cell_type": "code",
      "source": "## step 5 - And now use again the same method to sort the products in descending order (store the results in a new DataFrame)\navg_pos_des = avg_pos.__________(by=_____________, ascending=_____)",
      "execution_count": null,
      "outputs": []
    },
    {
      "metadata": {
        "trusted": true,
        "_uuid": "decd77bc83c04007391f0646ac9f2d32e3661bee"
      },
      "cell_type": "code",
      "source": "## step 6 - Store the product_id of the product with the highest mean_add_to_cart_order\nid_low = avg_pos_des.index[_]",
      "execution_count": null,
      "outputs": []
    },
    {
      "metadata": {
        "trusted": true,
        "_uuid": "319cab26fd58935c12d5b797f5756a514490b690"
      },
      "cell_type": "code",
      "source": "## step 7 -  Import products.csv and find the name of the product with the highest mean_add_to_cart_order\nproducts = pd.read_csv('../input/products.csv')\nproducts[products.product_id== ______ ]",
      "execution_count": null,
      "outputs": []
    },
    {
      "metadata": {
        "trusted": true,
        "_uuid": "ce3725829091f509992bb70caad6eee586282bd2"
      },
      "cell_type": "code",
      "source": "### step 8 - Create a sns.barplot for the 10 products with the lowest mean_add_to_cart_order\n\n",
      "execution_count": null,
      "outputs": []
    }
  ],
  "metadata": {
    "kernelspec": {
      "display_name": "Python 3",
      "language": "python",
      "name": "python3"
    },
    "language_info": {
      "name": "python",
      "version": "3.6.6",
      "mimetype": "text/x-python",
      "codemirror_mode": {
        "name": "ipython",
        "version": 3
      },
      "pygments_lexer": "ipython3",
      "nbconvert_exporter": "python",
      "file_extension": ".py"
    }
  },
  "nbformat": 4,
  "nbformat_minor": 1
}