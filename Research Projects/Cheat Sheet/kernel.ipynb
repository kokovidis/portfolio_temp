{
  "cells": [
    {
      "metadata": {
        "_uuid": "f19e41a817c6ac8bffc4e44309b757a719925c7a"
      },
      "cell_type": "markdown",
      "source": "# Merging DataFrames"
    },
    {
      "metadata": {
        "_uuid": "2af755d97da84398f12f77ec7ae4b53af2308bf8"
      },
      "cell_type": "markdown",
      "source": "##  1. Import and Load data from the CSV files\n\nWe first load the necessary Python package using the <b>import</b> function. After that, we have to import the data from the CSV files. Towards this end, we use the <b>pd.read_csv</b> function, which is included in the pandas package. Reading in the data with this function returns dataframes."
    },
    {
      "metadata": {
        "_uuid": "8f2839f25d086af736a60e9eeb907d3b93b6e0e5",
        "_cell_guid": "b1076dfc-b9ad-4769-8c92-a6c4dae69d19",
        "trusted": true,
        "_kg_hide-output": false
      },
      "cell_type": "code",
      "source": "import pandas as pd\norders = pd.read_csv('../input/orders.csv')\naisles = pd.read_csv('../input/aisles.csv')\ndepartments = pd.read_csv('../input/departments.csv')\nproducts = pd.read_csv('../input/products.csv')",
      "execution_count": null,
      "outputs": []
    },
    {
      "metadata": {
        "_uuid": "53b691f765a7dc075bab17f99918674736441f72"
      },
      "cell_type": "markdown",
      "source": "## 2. View and Understand data\n\nWe now use the <b>head()</b> function in order to visualise the first 5 rows of these dataframes."
    },
    {
      "metadata": {
        "trusted": true,
        "_uuid": "1ff62be60d1770c763ed9a5b7420f3e4b0d87b59",
        "_kg_hide-output": false,
        "scrolled": true
      },
      "cell_type": "code",
      "source": "products.head()",
      "execution_count": null,
      "outputs": []
    },
    {
      "metadata": {
        "trusted": true,
        "_uuid": "072591c86b63d6b62ca2d402a0d655fc8e616481",
        "_kg_hide-output": false
      },
      "cell_type": "code",
      "source": "aisles.head()",
      "execution_count": null,
      "outputs": []
    },
    {
      "metadata": {
        "_kg_hide-output": false,
        "trusted": true,
        "_uuid": "08fb1dce92c04d1aedfc8f7d7c1f71fe28b9590f"
      },
      "cell_type": "code",
      "source": "departments.head()",
      "execution_count": null,
      "outputs": []
    },
    {
      "metadata": {
        "_uuid": "eda0b065a61f39b4dbc70c95565d429338f7b0f4"
      },
      "cell_type": "markdown",
      "source": "What we can notice looking the dataframes of products, aisles and departments?\n\nAnswer: The dataframe of products includes some same columns that we can see in the dataframes of aisles and departments. This means that we can <b>merge</b> these dataframes into a new one. "
    },
    {
      "metadata": {
        "_uuid": "ec565c0576b798918a7bd2d74c0f3e13f898ac4f"
      },
      "cell_type": "markdown",
      "source": "## 3. Create a final_products dataframe\n\nIn order to create a merged dataframe, we need to join the dataframes we have. We create a new dataframe final_products which contains the dataframes products, aisles and departments. We can see that product dataframe includes the columns \"aisle_id\" and \"department_id\" which are common columns at aisles and departments dataframes too.  Towards this end, we use the merge() function, which performs a join operation by columns or indexes.\n\nFirst of all we have to choose the right type of join in order to create a dataframe with the data we want. There are four types of join:\n1. (INNER) JOIN: Returns records(rows) that have matching values in both dataframes.\n2. LEFT (OUTER) JOIN: Return all records from the leftdataframes, and the matched records from the right dataframes.\n3. RIGHT (OUTER) JOIN: Return all records from the right dataframes, and the matched records from the left dataframes.\n4. FULL (OUTER) JOIN: Return all records when there is a match in either left or right dataframes.\n<img src=\"https://imgur.com/yLDkld9.png\" width=\"400\">"
    },
    {
      "metadata": {
        "_uuid": "8050c774519daac5d78d8a64e52f4fbce3b81006"
      },
      "cell_type": "markdown",
      "source": "### 3.1 Merge of products and aisles dataframes\n\nThe new_products (the merged) dataframe should have only the data we want. We need all rows and columns from this dataframe, and the column <b>\"aisle\"</b> from aisles dataframe. According to the shape above, we understand that we need to use the left join.  \n"
    },
    {
      "metadata": {
        "trusted": true,
        "_uuid": "a8404cf0908f9974d48a41657813bf65bea7d20b"
      },
      "cell_type": "code",
      "source": "new_products = pd.merge(products,aisles,on=\"aisle_id\", how=\"left\")\nnew_products.head()",
      "execution_count": null,
      "outputs": []
    },
    {
      "metadata": {
        "_uuid": "9bb7e487c1820feda0e245f99e968faa2643709b"
      },
      "cell_type": "markdown",
      "source": "The function we used is the: <b><i>pd.merge(products,aisles)</i></b> Let's explain what happened above:\n* The function by default (without any expressions inside it) makes an <b>inner join</b> between the two dataframes. That's why we used the expression <b>how=\"left\"</b>. Using the expression \"how\" we can use the four types of joins that exist.\n* The function by default uses the common column in order to make the join we asked for. In our example we use the expression <b>on=\"aisle_id\"</b> so we can emphasize at the common column of our dataframes. If you try to run the code without this expression you will see that we will get the same result. Can you imagine in which case, this expression is useful for us?\n\nAnswer:\nIf we want to merge two dataframes which have more than one common columns, we should use the expression \"on\" to indicate the column or the columns that the function will use. E.x:\n\n<i>merge( x, y, on=\"key\")</i>    \n<i>merge( x, y, on=[\"first_key\",\"second_key\"])</i>"
    },
    {
      "metadata": {
        "_uuid": "7b506f2be2915f99333620c13ccb1784765be1a9"
      },
      "cell_type": "markdown",
      "source": "### 3.2 Merge of new_products and departments dataframes\n\nIn this section, we would like to merge the \"new_products\" that we created before with the departments dataframe. In order to study a more complicated case of the function \"merge()\", we will make a small change at the column names of the departments dataframe. We set new labels at columns' names. So let's take it as the default situation and see how we can handle it. "
    },
    {
      "metadata": {
        "trusted": true,
        "_uuid": "5ebeb301c8d0bd93669aa0fe40ac9f5cf2b89b7e"
      },
      "cell_type": "code",
      "source": " new_products.columns = ['product_id','product_name', \"aisle_id\", \"departments_id\",\"aisle\"]\n new_products.head()",
      "execution_count": null,
      "outputs": []
    },
    {
      "metadata": {
        "_uuid": "7cba94444a21985c38f87f041ca27ed8f33a8f0f"
      },
      "cell_type": "markdown",
      "source": "Looking the \"head()\" function above we can observe that the name of the column <b>\"department_id\"</b> is now <b>\"departments_id\"</b>. As we said previously we would like to merge the dataframe \"new_products\" with the \"departments\". Looking more carefully we will see that the common column is the department_id but its name is different between the two dataframes. How will we handle it?"
    },
    {
      "metadata": {
        "trusted": true,
        "_uuid": "0d0a0b2771e3ce9707a68f37e6ee21617c64bbc1"
      },
      "cell_type": "code",
      "source": "final_products = pd.merge(new_products,departments,left_on=\"departments_id\",right_on=\"department_id\",how=\"left\")\nfinal_products.head()",
      "execution_count": null,
      "outputs": []
    },
    {
      "metadata": {
        "_uuid": "ea0774dc8d6c7370469927f4ab54081b89703ce7"
      },
      "cell_type": "markdown",
      "source": "The function we used is the: <b><i>pd.merge(new_products,departments,left_on=\"departments_id\",right_on=\"department_id\",how=\"left\")</i></b> Let's explain what happened above:\n* We used the expression <b>how=\"left\"</b> as it happened before.\n* We used the expressions <b>left_on</b> and <b>right_on</b> in order to specify which columns should be used for the merging."
    },
    {
      "metadata": {
        "_uuid": "8765e78c49a90dc71f6f02000cc863c0e9b27594"
      },
      "cell_type": "markdown",
      "source": "### 3.3 Delete unnecessary columns\n\nFinally, in this section we will delete some columns which are not useful for our new dataframe. This columns are the \"aisles_id\", \"departments_id\", \"department_id\". "
    },
    {
      "metadata": {
        "trusted": true,
        "_uuid": "318d10592fa6dbf4a0f71ef2e5082e18cfea10b3"
      },
      "cell_type": "code",
      "source": "del final_products[\"aisle_id\"]\ndel final_products[\"departments_id\"]\ndel final_products[\"department_id\"]\nfinal_products.head()",
      "execution_count": null,
      "outputs": []
    },
    {
      "metadata": {
        "_uuid": "c578034ba2c6ddf3dd8f9ca3821028b1a5fd3037"
      },
      "cell_type": "markdown",
      "source": ""
    }
  ],
  "metadata": {
    "kernelspec": {
      "display_name": "Python 3",
      "language": "python",
      "name": "python3"
    },
    "language_info": {
      "name": "python",
      "version": "3.6.6",
      "mimetype": "text/x-python",
      "codemirror_mode": {
        "name": "ipython",
        "version": 3
      },
      "pygments_lexer": "ipython3",
      "nbconvert_exporter": "python",
      "file_extension": ".py"
    }
  },
  "nbformat": 4,
  "nbformat_minor": 1
}