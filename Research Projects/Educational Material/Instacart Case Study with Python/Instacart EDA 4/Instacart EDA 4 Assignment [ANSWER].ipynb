{
  "cells": [
    {
      "metadata": {
        "_cell_guid": "79c7e3d0-c299-4dcb-8224-4455121ee9b0",
        "collapsed": true,
        "_uuid": "d629ff2d2480ee46fbb7e2d37f6b5fab8052498a",
        "trusted": false
      },
      "cell_type": "markdown",
      "source": "# Instacart EDA 4  Assignment [ANSWER]\nIn this assignment you will answer to four individual questions (Questions 0,1,2,3). You can complete any question in any order. **The produced results from one question will not be used on another.**\n\nWhen you complete this assignment keep this kernel as private, make a succesful commit and add as collaborator the [ISLAB](https://www.kaggle.com/uomislab) .\n\nNote that you will be assessed based on the final version submitted before the deadline.\n\nTo answer the questions of this assignment you may create as many code blocks as you wish. In addition, you can use .head( ) or any other method to display your results. **You can use comments to describe the rationale of your solution.** You can also use comments when you use new methods (that we haven't used in our notebooks), new arguments or alternative approaches for the same problem.\n\n**In the case where a code block takes more than 3 minutes to execute, hit the stop button on the left bottom corner and check for any mistakes on your code or your solution in general.**\n\n\nFirst load the requested packages and data files for this assignment:"
    },
    {
      "metadata": {
        "trusted": true,
        "_uuid": "b8a8af6951ff8ba1a3f10701f67e6baf4e6815e8"
      },
      "cell_type": "code",
      "source": "#load packages\nimport pandas as pd               # for data manipulation\nimport matplotlib.pyplot as plt   # for plotting \nimport seaborn as sns             # an extension of matplotlib for statistical graphics\n\n#load data\norders = pd.read_csv('../input/orders.csv' )\nproducts = pd.read_csv('../input/products.csv')\norder_products_prior = pd.read_csv('../input/order_products__prior.csv')\naisles = pd.read_csv('../input/aisles.csv')",
      "execution_count": null,
      "outputs": []
    },
    {
      "metadata": {
        "_uuid": "73d3027f8c72463123ae309d9b17bddb0dc2c30a"
      },
      "cell_type": "markdown",
      "source": "# Question 0\n## Q0.0 Create a plot which shows how many orders were placed in each hour of the day. \n- use .groupby( ) method"
    },
    {
      "metadata": {
        "trusted": true,
        "_uuid": "3795607820d8e52d0b5b5afaf9074a3e9f443cfb"
      },
      "cell_type": "code",
      "source": "orders.groupby('order_hour_of_day')[['order_id']].count().plot.bar()",
      "execution_count": null,
      "outputs": []
    },
    {
      "metadata": {
        "_uuid": "b65d3f4e454a16286cc1a055ffefb44521b44be0"
      },
      "cell_type": "markdown",
      "source": "## Q0.1 What is the percentage allocation of the orders placed from 9 to 5 (09:00-17:00 inclusive) compared to all orders?\n- store the final percentage on a variable with name 'pct'\n- print the result with the appropriate text"
    },
    {
      "metadata": {
        "trusted": true,
        "_uuid": "290e3d9b1e7ba0b5ffa69c7230c605084b074939"
      },
      "cell_type": "code",
      "source": "orders_hour = orders.groupby('order_hour_of_day')[['order_id']].count()\norders_hour.columns = ['volume']\norders_hour = orders_hour.reset_index()\npct = orders_hour[(orders_hour.order_hour_of_day >= 5) & (orders_hour.order_hour_of_day <= 17)].volume.sum() / orders_hour.volume.sum() * 100\nprint('The orders placed from 9:00 to 17:00 are ' + str(round(pct,2)) + '% of the total orders')",
      "execution_count": null,
      "outputs": []
    },
    {
      "metadata": {
        "_uuid": "7085b0574524dc784e2f4f6d950eb071a0ac1108"
      },
      "cell_type": "markdown",
      "source": "_____________"
    },
    {
      "metadata": {
        "_uuid": "d61db9c28b40406ed355b4dea37d9177acb784be"
      },
      "cell_type": "markdown",
      "source": "# Question 1\n## Q1.0 Create a DataFrame that keeps all the prior orders and the products that have been purchased"
    },
    {
      "metadata": {
        "trusted": true,
        "_uuid": "5f450767897fe5a8570238cf12d917a1389f7ea4"
      },
      "cell_type": "code",
      "source": "prd = pd.merge(orders, order_products_prior, on='order_id', how='inner')",
      "execution_count": null,
      "outputs": []
    },
    {
      "metadata": {
        "_uuid": "ed7620fd8633987d328db67a2064a1724979deff"
      },
      "cell_type": "markdown",
      "source": "## Q1.1 For each product find its average position in the cart (in the orders of all customers)."
    },
    {
      "metadata": {
        "trusted": true,
        "_uuid": "1f9adcbbf986a5e9ea88a91026bed314f5c8df82"
      },
      "cell_type": "code",
      "source": "item_avg = prd.groupby('product_id')[['add_to_cart_order']].mean()\nitem_avg.head()",
      "execution_count": null,
      "outputs": []
    },
    {
      "metadata": {
        "_uuid": "a8f640a0757fcd302bcc77e4607fbae9fb7ca8a8"
      },
      "cell_type": "markdown",
      "source": "## Q1.2 For a given customer, find the average position of a product on its orders\n"
    },
    {
      "metadata": {
        "trusted": true,
        "_uuid": "ecc71f52093704a74f7accdf4e87ba605c34769d"
      },
      "cell_type": "code",
      "source": "position = prd.groupby(['user_id', 'product_id'])[['add_to_cart_order']].mean()\nposition.columns = ['mean_pos_cart'] \nposition.head()",
      "execution_count": null,
      "outputs": []
    },
    {
      "metadata": {
        "_uuid": "d768dcb204ce7abeb4f57a50bfee6fd4ca374db7"
      },
      "cell_type": "markdown",
      "source": "## Q1.3 Select from user with id==35 the product with id==4942. Is the average position of this product for this user greater than the average position from all users?"
    },
    {
      "metadata": {
        "trusted": true,
        "_uuid": "2ca723e8e1c1ef58e1cc5883be326bfef78584ab"
      },
      "cell_type": "code",
      "source": "position = position.reset_index()\nuser_pr = position[(position.user_id==35) & (position.product_id==4942)]\nuser_pr.head()",
      "execution_count": null,
      "outputs": []
    },
    {
      "metadata": {
        "trusted": true,
        "_uuid": "d351b24c66f0b8e59ec5aa8ac7ec618bb47a74cb"
      },
      "cell_type": "code",
      "source": "user_pr_avg = user_pr.mean_pos_cart.values\nuser_pr_avg ",
      "execution_count": null,
      "outputs": []
    },
    {
      "metadata": {
        "trusted": true,
        "_uuid": "ec97901884dca2c311fcb36f2177d6fd3a53b9d8"
      },
      "cell_type": "code",
      "source": "avg_all = item_avg[item_avg.index==4942].add_to_cart_order.values\navg_all",
      "execution_count": null,
      "outputs": []
    },
    {
      "metadata": {
        "trusted": true,
        "_uuid": "da574c0ab39a26792467818d2696a52a29b03199"
      },
      "cell_type": "code",
      "source": "user_pr_avg > avg_all",
      "execution_count": null,
      "outputs": []
    },
    {
      "metadata": {
        "_uuid": "c7adbb897eab71248bb69030e7131a0e61be3f6b"
      },
      "cell_type": "markdown",
      "source": "_____________"
    },
    {
      "metadata": {
        "_uuid": "fbef219023e8b261cbb628cb299467139183f978"
      },
      "cell_type": "markdown",
      "source": "# Question 2\n## Q2.0 Create a DataFrame that keeps only the prior orders\n- You need to keep only the orders (from orders.csv) and not the products that have been purchased in each order.\n- Save the DataFrame as 'orders_prior'"
    },
    {
      "metadata": {
        "trusted": true,
        "_uuid": "90cb93d312fd108d75d74d257dcdbea09e3a391e"
      },
      "cell_type": "code",
      "source": "orders_prior = orders[orders.eval_set== 'prior']\norders_prior.head(20)",
      "execution_count": null,
      "outputs": []
    },
    {
      "metadata": {
        "_uuid": "79f026a631cbdbc311a9a92d0e1c793b97d3c1e1"
      },
      "cell_type": "markdown",
      "source": "## Q2.1 Keep the orders from the customers that have made at least 25 orders\n- Use 'orders_prior' DataFrame that you have created on the previous step\n- Save the DataFrame as 'orders_25'"
    },
    {
      "metadata": {
        "trusted": true,
        "_uuid": "a7e16a45b3ea48ba2e54fcf1b4dd9c35c1d375cf"
      },
      "cell_type": "code",
      "source": "orders_25 = orders_prior.groupby('user_id').filter(lambda x: x.order_number.max() >= 25)\norders_25.head()",
      "execution_count": null,
      "outputs": []
    },
    {
      "metadata": {
        "trusted": true,
        "_uuid": "5814956e2931eb573aeb48d902f5d82b88391fe0"
      },
      "cell_type": "code",
      "source": "# Sanity check on user_id 28\norders_25[orders_25.user_id==28]",
      "execution_count": null,
      "outputs": []
    },
    {
      "metadata": {
        "trusted": true,
        "_uuid": "611c4a36750106f65c76b674cff6448ce5c318f2"
      },
      "cell_type": "markdown",
      "source": "## Q2.2 How many days on average pass for these customers to place an order?"
    },
    {
      "metadata": {
        "trusted": true,
        "_uuid": "81fea0f6583aa2884649430f09547122ac4a0d6a"
      },
      "cell_type": "code",
      "source": "orders_25.days_since_prior_order.mean()",
      "execution_count": null,
      "outputs": []
    },
    {
      "metadata": {
        "_uuid": "561bc575b1759bd6d5b6d2234d5ccca7967251e7"
      },
      "cell_type": "markdown",
      "source": "## Q2.3 Create a histogram for the days that pass since a prior order for the customers with at least 25 orders\n- use bins=100"
    },
    {
      "metadata": {
        "trusted": true,
        "_uuid": "5154c071375a964618cbbfed49551837e795df32"
      },
      "cell_type": "code",
      "source": "orders_25.days_since_prior_order.plot.hist(bins=100)",
      "execution_count": null,
      "outputs": []
    },
    {
      "metadata": {
        "_uuid": "f1f55194f0ec23620b0b1131f0f5d9cea1162d5e"
      },
      "cell_type": "markdown",
      "source": "## Q2.4 Calculate the rate of change for the average days since prior order between customers with at least 25 orders & all customers\n- Create the following formula:\n\n![](https://latex.codecogs.com/gif.latex?%5Cdpi%7B120%7D%20ROC%3D%5Cfrac%7Bavg%5C_days%5C_since%5C_prior%28%5Cgeqslant%2025%29%20-%20avg%5C_days%5C_since%5C_prior%28ALL%29%7D%7Bavg%5C_days%5C_since%5C_prior%28ALL%29%7D%5Ctimes%20100)"
    },
    {
      "metadata": {
        "trusted": true,
        "_uuid": "b0767cd610c9a5ef645747190fe908523c1c8778"
      },
      "cell_type": "code",
      "source": "((orders_25.days_since_prior_order.mean() - orders.days_since_prior_order.mean())/ orders.days_since_prior_order.mean() )* 100",
      "execution_count": null,
      "outputs": []
    },
    {
      "metadata": {
        "_uuid": "eae4aeda4fddc0fe54830abc52f081be5119053b"
      },
      "cell_type": "markdown",
      "source": "_____________"
    },
    {
      "metadata": {
        "_uuid": "62d7996afcd9d6931a39bef4feec4b0163b01368"
      },
      "cell_type": "markdown",
      "source": "# Question 3"
    },
    {
      "metadata": {
        "_uuid": "56da3ad447605671ee32e04801c284a197eafe74"
      },
      "cell_type": "markdown",
      "source": "## Q3.0 Create a DataFrame that keeps all the prior orders and the products that have been purchased"
    },
    {
      "metadata": {
        "trusted": true,
        "_uuid": "d9e314bbdde2e8fa7a2169c052264dc50d8f6e72"
      },
      "cell_type": "code",
      "source": "prd = pd.merge(orders, order_products_prior, on='order_id', how='inner')",
      "execution_count": null,
      "outputs": []
    },
    {
      "metadata": {
        "_uuid": "ea325e5f77fe2928992fa31a7d1479f500f065dc"
      },
      "cell_type": "markdown",
      "source": "## Q3.1 Create a new column which keeps the order_number in reverse order"
    },
    {
      "metadata": {
        "trusted": true,
        "_uuid": "61e981a90daf17c86c72642612104311ba1acd13"
      },
      "cell_type": "code",
      "source": "prd['order_number_back'] = prd.groupby('user_id')['order_number'].transform(max) - prd.order_number +1 ",
      "execution_count": null,
      "outputs": []
    },
    {
      "metadata": {
        "_uuid": "b984a1a0657c2d18a78bfd86118e788b3d666361"
      },
      "cell_type": "markdown",
      "source": "## Q3.2 Keep only the last 10 orders from each user"
    },
    {
      "metadata": {
        "trusted": true,
        "_uuid": "f4a60a1eca4f0f4862129b9d7b321a76e25d7078"
      },
      "cell_type": "code",
      "source": "prd10 = prd[prd.order_number_back <= 10]\nprd10.head()",
      "execution_count": null,
      "outputs": []
    },
    {
      "metadata": {
        "_uuid": "b208284383b2cc95b90ca5d30bda1cbc18473ed5"
      },
      "cell_type": "markdown",
      "source": "## Q3.3 Exclude all the customers who have less than 10 orders in total"
    },
    {
      "metadata": {
        "trusted": true,
        "_uuid": "737484454a91265357bf3ab7420d89f87996e732"
      },
      "cell_type": "code",
      "source": "prd10 = prd10.groupby('user_id').filter(lambda x: x.order_id.nunique() == 10)",
      "execution_count": null,
      "outputs": []
    },
    {
      "metadata": {
        "_uuid": "c6af818a080e12256d32a3a2f0d454577fdc964f"
      },
      "cell_type": "markdown",
      "source": "## Q3.4 For the last 10 orders, find the average basket size of each user."
    },
    {
      "metadata": {
        "trusted": true,
        "_uuid": "31d145df7ba1e9f0fa83f69ca75f20a81400edaf"
      },
      "cell_type": "code",
      "source": "basket_size= prd10.groupby(['user_id', 'order_id'])[['product_id']].count()\nbasket_size.columns = ['volume']\nbasket_size.head()",
      "execution_count": null,
      "outputs": []
    },
    {
      "metadata": {
        "trusted": true,
        "_uuid": "7d237615d5f92c5fed13f8affdbf96c390dcae4a"
      },
      "cell_type": "code",
      "source": "basket_size = basket_size.reset_index()\nbasket_size_user = basket_size.groupby('user_id')[['volume']].mean()\nbasket_size_user.head()",
      "execution_count": null,
      "outputs": []
    },
    {
      "metadata": {
        "_uuid": "b770576f5f1ae8e6a46e3fa64c1fb9ec1d50592b"
      },
      "cell_type": "markdown",
      "source": "## Q3.5 How many customers have average basket size = 1 for their last 10 orders ?"
    },
    {
      "metadata": {
        "trusted": true,
        "_uuid": "4c53ac5bd10e9d19a7a8d080f3b16a24d528a381"
      },
      "cell_type": "code",
      "source": "basket_size_user[basket_size_user.volume==1].count()",
      "execution_count": null,
      "outputs": []
    }
  ],
  "metadata": {
    "kernelspec": {
      "display_name": "Python 3",
      "language": "python",
      "name": "python3"
    },
    "language_info": {
      "name": "python",
      "version": "3.6.6",
      "mimetype": "text/x-python",
      "codemirror_mode": {
        "name": "ipython",
        "version": 3
      },
      "pygments_lexer": "ipython3",
      "nbconvert_exporter": "python",
      "file_extension": ".py"
    }
  },
  "nbformat": 4,
  "nbformat_minor": 1
}